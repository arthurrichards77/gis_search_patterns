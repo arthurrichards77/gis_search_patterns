{
 "cells": [
  {
   "cell_type": "code",
   "execution_count": 116,
   "metadata": {},
   "outputs": [],
   "source": [
    "import geopandas as gpd"
   ]
  },
  {
   "cell_type": "code",
   "execution_count": 117,
   "metadata": {},
   "outputs": [
    {
     "data": {
      "text/html": [
       "<div>\n",
       "<style scoped>\n",
       "    .dataframe tbody tr th:only-of-type {\n",
       "        vertical-align: middle;\n",
       "    }\n",
       "\n",
       "    .dataframe tbody tr th {\n",
       "        vertical-align: top;\n",
       "    }\n",
       "\n",
       "    .dataframe thead th {\n",
       "        text-align: right;\n",
       "    }\n",
       "</style>\n",
       "<table border=\"1\" class=\"dataframe\">\n",
       "  <thead>\n",
       "    <tr style=\"text-align: right;\">\n",
       "      <th></th>\n",
       "      <th>ID</th>\n",
       "      <th>DISTNAME</th>\n",
       "      <th>ROADNUMBER</th>\n",
       "      <th>CLASSIFICA</th>\n",
       "      <th>DRAWLEVEL</th>\n",
       "      <th>OVERRIDE</th>\n",
       "      <th>FEATCODE</th>\n",
       "      <th>geometry</th>\n",
       "    </tr>\n",
       "  </thead>\n",
       "  <tbody>\n",
       "    <tr>\n",
       "      <th>0</th>\n",
       "      <td>ED8E3F1E-3ADA-40A6-8D96-B9CE5246135F</td>\n",
       "      <td>None</td>\n",
       "      <td>None</td>\n",
       "      <td>Local Road</td>\n",
       "      <td>0</td>\n",
       "      <td>F</td>\n",
       "      <td>15760</td>\n",
       "      <td>LINESTRING Z (248668.970 387486.850 0.000, 248...</td>\n",
       "    </tr>\n",
       "    <tr>\n",
       "      <th>1</th>\n",
       "      <td>77845DFB-ECFF-4DD4-A484-506845DF2435</td>\n",
       "      <td>None</td>\n",
       "      <td>None</td>\n",
       "      <td>Restricted Local Access Road</td>\n",
       "      <td>0</td>\n",
       "      <td>F</td>\n",
       "      <td>15762</td>\n",
       "      <td>LINESTRING Z (248833.550 387822.120 0.000, 248...</td>\n",
       "    </tr>\n",
       "    <tr>\n",
       "      <th>2</th>\n",
       "      <td>5E0208DE-B110-4963-BAA2-1DDB71FAF6BD</td>\n",
       "      <td>None</td>\n",
       "      <td>None</td>\n",
       "      <td>Local Road</td>\n",
       "      <td>0</td>\n",
       "      <td>F</td>\n",
       "      <td>15760</td>\n",
       "      <td>LINESTRING Z (248833.550 387822.120 0.000, 248...</td>\n",
       "    </tr>\n",
       "    <tr>\n",
       "      <th>3</th>\n",
       "      <td>08461678-B973-45ED-93CA-B3BABD98BC75</td>\n",
       "      <td>None</td>\n",
       "      <td>None</td>\n",
       "      <td>Restricted Local Access Road</td>\n",
       "      <td>0</td>\n",
       "      <td>F</td>\n",
       "      <td>15762</td>\n",
       "      <td>LINESTRING Z (248753.190 387361.020 0.000, 248...</td>\n",
       "    </tr>\n",
       "    <tr>\n",
       "      <th>4</th>\n",
       "      <td>2BE50484-C47E-46A4-8FDB-BE3BA4CBE107</td>\n",
       "      <td>None</td>\n",
       "      <td>None</td>\n",
       "      <td>Restricted Local Access Road</td>\n",
       "      <td>0</td>\n",
       "      <td>F</td>\n",
       "      <td>15762</td>\n",
       "      <td>LINESTRING Z (248813.120 387329.190 0.000, 248...</td>\n",
       "    </tr>\n",
       "  </tbody>\n",
       "</table>\n",
       "</div>"
      ],
      "text/plain": [
       "                                     ID DISTNAME ROADNUMBER  \\\n",
       "0  ED8E3F1E-3ADA-40A6-8D96-B9CE5246135F     None       None   \n",
       "1  77845DFB-ECFF-4DD4-A484-506845DF2435     None       None   \n",
       "2  5E0208DE-B110-4963-BAA2-1DDB71FAF6BD     None       None   \n",
       "3  08461678-B973-45ED-93CA-B3BABD98BC75     None       None   \n",
       "4  2BE50484-C47E-46A4-8FDB-BE3BA4CBE107     None       None   \n",
       "\n",
       "                     CLASSIFICA DRAWLEVEL OVERRIDE  FEATCODE  \\\n",
       "0                    Local Road         0        F     15760   \n",
       "1  Restricted Local Access Road         0        F     15762   \n",
       "2                    Local Road         0        F     15760   \n",
       "3  Restricted Local Access Road         0        F     15762   \n",
       "4  Restricted Local Access Road         0        F     15762   \n",
       "\n",
       "                                            geometry  \n",
       "0  LINESTRING Z (248668.970 387486.850 0.000, 248...  \n",
       "1  LINESTRING Z (248833.550 387822.120 0.000, 248...  \n",
       "2  LINESTRING Z (248833.550 387822.120 0.000, 248...  \n",
       "3  LINESTRING Z (248753.190 387361.020 0.000, 248...  \n",
       "4  LINESTRING Z (248813.120 387329.190 0.000, 248...  "
      ]
     },
     "execution_count": 117,
     "metadata": {},
     "output_type": "execute_result"
    }
   ],
   "source": [
    "roads = gpd.read_file('SH_Road.shp')\n",
    "roads.head()"
   ]
  },
  {
   "cell_type": "code",
   "execution_count": 118,
   "metadata": {},
   "outputs": [
    {
     "data": {
      "text/html": [
       "<div>\n",
       "<style scoped>\n",
       "    .dataframe tbody tr th:only-of-type {\n",
       "        vertical-align: middle;\n",
       "    }\n",
       "\n",
       "    .dataframe tbody tr th {\n",
       "        vertical-align: top;\n",
       "    }\n",
       "\n",
       "    .dataframe thead th {\n",
       "        text-align: right;\n",
       "    }\n",
       "</style>\n",
       "<table border=\"1\" class=\"dataframe\">\n",
       "  <thead>\n",
       "    <tr style=\"text-align: right;\">\n",
       "      <th></th>\n",
       "      <th>ID</th>\n",
       "      <th>DISTNAME</th>\n",
       "      <th>ROADNUMBER</th>\n",
       "      <th>CLASSIFICA</th>\n",
       "      <th>DRAWLEVEL</th>\n",
       "      <th>OVERRIDE</th>\n",
       "      <th>FEATCODE</th>\n",
       "      <th>geometry</th>\n",
       "    </tr>\n",
       "  </thead>\n",
       "  <tbody>\n",
       "    <tr>\n",
       "      <th>39196</th>\n",
       "      <td>0807C27F-5B78-4265-8E5B-32DE499D846A</td>\n",
       "      <td>None</td>\n",
       "      <td>None</td>\n",
       "      <td>Restricted Local Access Road</td>\n",
       "      <td>0</td>\n",
       "      <td>F</td>\n",
       "      <td>15762</td>\n",
       "      <td>LINESTRING Z (256493.830 325710.310 0.000, 256...</td>\n",
       "    </tr>\n",
       "  </tbody>\n",
       "</table>\n",
       "</div>"
      ],
      "text/plain": [
       "                                         ID DISTNAME ROADNUMBER  \\\n",
       "39196  0807C27F-5B78-4265-8E5B-32DE499D846A     None       None   \n",
       "\n",
       "                         CLASSIFICA DRAWLEVEL OVERRIDE  FEATCODE  \\\n",
       "39196  Restricted Local Access Road         0        F     15762   \n",
       "\n",
       "                                                geometry  \n",
       "39196  LINESTRING Z (256493.830 325710.310 0.000, 256...  "
      ]
     },
     "execution_count": 118,
     "metadata": {},
     "output_type": "execute_result"
    }
   ],
   "source": [
    "selected_ids = ['131324F8-FBCD-4389-B15E-B4EF4021D593',\n",
    "                '1D5F1288-107D-485D-8CF2-C1117D328C9B',\n",
    "                'FE5D98A4-BCB2-4016-84CD-045B94858A3F']\n",
    "selected_ids = ['0807C27F-5B78-4265-8E5B-32DE499D846A']\n",
    "selected_roads = roads[roads['ID'].isin(selected_ids)]\n",
    "selected_roads"
   ]
  },
  {
   "cell_type": "code",
   "execution_count": 119,
   "metadata": {},
   "outputs": [
    {
     "data": {
      "text/plain": [
       "<matplotlib.axes._subplots.AxesSubplot at 0x7f51a6aa9040>"
      ]
     },
     "execution_count": 119,
     "metadata": {},
     "output_type": "execute_result"
    },
    {
     "data": {
      "image/png": "[encoded data removed]",
      "text/plain": [
       "<Figure size 640x480 with 1 Axes>"
      ]
     },
     "metadata": {},
     "output_type": "display_data"
    }
   ],
   "source": [
    "selected_roads.plot()"
   ]
  },
  {
   "cell_type": "code",
   "execution_count": 120,
   "metadata": {},
   "outputs": [],
   "source": [
    "search_margin = 20"
   ]
  },
  {
   "cell_type": "code",
   "execution_count": 121,
   "metadata": {},
   "outputs": [
    {
     "data": {
      "text/html": [
       "<div>\n",
       "<style scoped>\n",
       "    .dataframe tbody tr th:only-of-type {\n",
       "        vertical-align: middle;\n",
       "    }\n",
       "\n",
       "    .dataframe tbody tr th {\n",
       "        vertical-align: top;\n",
       "    }\n",
       "\n",
       "    .dataframe thead th {\n",
       "        text-align: right;\n",
       "    }\n",
       "</style>\n",
       "<table border=\"1\" class=\"dataframe\">\n",
       "  <thead>\n",
       "    <tr style=\"text-align: right;\">\n",
       "      <th></th>\n",
       "      <th>minx</th>\n",
       "      <th>miny</th>\n",
       "      <th>maxx</th>\n",
       "      <th>maxy</th>\n",
       "    </tr>\n",
       "  </thead>\n",
       "  <tbody>\n",
       "    <tr>\n",
       "      <th>39196</th>\n",
       "      <td>256441.08</td>\n",
       "      <td>325566.0</td>\n",
       "      <td>256514.58</td>\n",
       "      <td>325710.31</td>\n",
       "    </tr>\n",
       "  </tbody>\n",
       "</table>\n",
       "</div>"
      ],
      "text/plain": [
       "            minx      miny       maxx       maxy\n",
       "39196  256441.08  325566.0  256514.58  325710.31"
      ]
     },
     "execution_count": 121,
     "metadata": {},
     "output_type": "execute_result"
    }
   ],
   "source": [
    "selected_roads.bounds"
   ]
  },
  {
   "cell_type": "code",
   "execution_count": 122,
   "metadata": {},
   "outputs": [
    {
     "data": {
      "text/plain": [
       "(256421.08000000002, 325546.0, 256534.58000000002, 325730.31)"
      ]
     },
     "execution_count": 122,
     "metadata": {},
     "output_type": "execute_result"
    }
   ],
   "source": [
    "all_bounds = (min(selected_roads.bounds['minx'])-search_margin,\n",
    "              min(selected_roads.bounds['miny'])-search_margin,\n",
    "              max(selected_roads.bounds['maxx'])+search_margin,\n",
    "              max(selected_roads.bounds['maxy'])+search_margin)\n",
    "all_bounds"
   ]
  },
  {
   "cell_type": "code",
   "execution_count": 123,
   "metadata": {},
   "outputs": [
    {
     "name": "stdout",
     "output_type": "stream",
     "text": [
      "(256477.83000000002, 325638.155) 184.30999999999767\n"
     ]
    }
   ],
   "source": [
    "max_extent = max((all_bounds[2]-all_bounds[0],\n",
    "                  all_bounds[3]-all_bounds[1]))\n",
    "centre = (0.5*(all_bounds[2]+all_bounds[0]),\n",
    "          0.5*(all_bounds[3]+all_bounds[1]))\n",
    "print(centre,max_extent)"
   ]
  },
  {
   "cell_type": "code",
   "execution_count": 124,
   "metadata": {},
   "outputs": [],
   "source": [
    "from scipy.stats.qmc import PoissonDisk"
   ]
  },
  {
   "cell_type": "code",
   "execution_count": 125,
   "metadata": {},
   "outputs": [],
   "source": [
    "import numpy as np"
   ]
  },
  {
   "cell_type": "code",
   "execution_count": 126,
   "metadata": {},
   "outputs": [
    {
     "name": "stdout",
     "output_type": "stream",
     "text": [
      "[[256470.85913971 325679.34032811]\n",
      " [256463.76970214 325680.09418285]\n",
      " [256467.15610121 325675.83803311]\n",
      " ...\n",
      " [256568.12118461 325561.61068811]\n",
      " [256388.57248097 325579.66317507]\n",
      " [256385.91713563 325563.97582409]] 840\n"
     ]
    }
   ],
   "source": [
    "radius = 5.0\n",
    "num_samples = (max_extent/radius)**2\n",
    "sampler = PoissonDisk(d=2, radius=radius/max_extent)\n",
    "scaled_samples = max_extent*(sampler.random(num_samples)-0.5)\n",
    "num_samples = np.size(scaled_samples,0)\n",
    "samples = scaled_samples + np.tile(np.array(centre),(num_samples,1))\n",
    "print(samples,num_samples)"
   ]
  },
  {
   "cell_type": "code",
   "execution_count": 182,
   "metadata": {},
   "outputs": [],
   "source": [
    "from shapely import Point, LineString"
   ]
  },
  {
   "cell_type": "code",
   "execution_count": 128,
   "metadata": {},
   "outputs": [],
   "source": [
    "sample_points = [Point(samples[ii,0],samples[ii,1]) for ii in range(num_samples)]"
   ]
  },
  {
   "cell_type": "code",
   "execution_count": 129,
   "metadata": {},
   "outputs": [],
   "source": [
    "sample_points = gpd.GeoSeries(sample_points,crs=roads.crs)"
   ]
  },
  {
   "cell_type": "code",
   "execution_count": 130,
   "metadata": {},
   "outputs": [
    {
     "data": {
      "text/plain": [
       "<matplotlib.axes._subplots.AxesSubplot at 0x7f51a6b8e7f0>"
      ]
     },
     "execution_count": 130,
     "metadata": {},
     "output_type": "execute_result"
    },
    {
     "data": {
      "image/png": "[encoded data removed]",
      "text/plain": [
       "<Figure size 640x480 with 1 Axes>"
      ]
     },
     "metadata": {},
     "output_type": "display_data"
    }
   ],
   "source": [
    "ax = sample_points.plot()\n",
    "selected_roads.plot(ax=ax,color='red')"
   ]
  },
  {
   "cell_type": "code",
   "execution_count": 131,
   "metadata": {},
   "outputs": [
    {
     "data": {
      "text/plain": [
       "[13.518878785424297,\n",
       " 9.034855344862628,\n",
       " 13.933768722207105,\n",
       " 18.13767688615372,\n",
       " 3.9984089968420866,\n",
       " 7.014939928653571,\n",
       " 20.21502073988178,\n",
       " 13.022753605520121,\n",
       " 17.438028106208343,\n",
       " 23.384499572337276,\n",
       " 13.180898656534563,\n",
       " 9.11373616707679,\n",
       " 19.102625066199927,\n",
       " 31.327547723904246,\n",
       " 28.83744288762611,\n",
       " 3.9695307876173387,\n",
       " 9.181174614860165,\n",
       " 4.234634679213851,\n",
       " 0.31637458339925195,\n",
       " 3.95926231473163,\n",
       " 0.45296713780638254,\n",
       " 3.1261152339496725,\n",
       " 0.8304102029704484,\n",
       " 4.284612476624839,\n",
       " 0.8108019911201177,\n",
       " 28.418548939683706,\n",
       " 34.166726171947545,\n",
       " 22.033089028779003,\n",
       " 11.392350899784708,\n",
       " 9.377427478586858,\n",
       " 6.0731143473761025,\n",
       " 11.089359756471117,\n",
       " 8.067033447541592,\n",
       " 10.993599649987843,\n",
       " 12.373290359818501,\n",
       " 37.200968582535026,\n",
       " 41.78569988765142,\n",
       " 2.057249352776051,\n",
       " 12.94276724751895,\n",
       " 16.27118200384106,\n",
       " 4.207193054948536,\n",
       " 5.866611033883782,\n",
       " 17.405085870823694,\n",
       " 1.0182135129412229,\n",
       " 8.380917666139586,\n",
       " 13.118469641157672,\n",
       " 18.478488018467196,\n",
       " 22.63957478611519,\n",
       " 29.7329918938544,\n",
       " 18.96519873751712,\n",
       " 22.650724196197896,\n",
       " 38.381941973729205,\n",
       " 45.65121025569606,\n",
       " 32.568351362486005,\n",
       " 20.645075075721365,\n",
       " 16.77965527723589,\n",
       " 15.767857809384095,\n",
       " 17.018010267215395,\n",
       " 11.977281106632892,\n",
       " 11.161720997969493,\n",
       " 3.111812146887987,\n",
       " 1.58715550308801,\n",
       " 18.956247230036066,\n",
       " 22.643229065898183,\n",
       " 26.27092348624826,\n",
       " 24.96696612301412,\n",
       " 30.263233541317938,\n",
       " 21.10956787489989,\n",
       " 20.049549204022405,\n",
       " 9.254058471872028,\n",
       " 6.005479976088765,\n",
       " 0.6871533921073818,\n",
       " 19.738372336828352,\n",
       " 23.046070798957736,\n",
       " 1.6670148794975226,\n",
       " 12.719673175599455,\n",
       " 3.8438832013336484,\n",
       " 6.608743567198956,\n",
       " 7.861467128766772,\n",
       " 21.428906940526275,\n",
       " 24.327221458021167,\n",
       " 27.741754232212077,\n",
       " 28.94672672230113,\n",
       " 18.50726663266244,\n",
       " 26.770119322679843,\n",
       " 28.210031167327596,\n",
       " 24.13198229207571,\n",
       " 29.676049049843783,\n",
       " 13.668975856352292,\n",
       " 3.0546072125048878,\n",
       " 2.146057041517309,\n",
       " 7.372239781598301,\n",
       " 38.11030193251384,\n",
       " 34.66786372012002,\n",
       " 28.890309045803324,\n",
       " 9.627454059744249,\n",
       " 14.743866229937566,\n",
       " 16.64033079199441,\n",
       " 45.58390475628258,\n",
       " 34.735748174603785,\n",
       " 39.117713329943136,\n",
       " 43.831373743308916,\n",
       " 33.18677408092971,\n",
       " 43.52318488747412,\n",
       " 12.893474129535731,\n",
       " 10.503471332019306,\n",
       " 3.6280741193695585,\n",
       " 1.8871717180725187,\n",
       " 8.095096213741982,\n",
       " 33.41132809033104,\n",
       " 44.7961896144839,\n",
       " 4.185094105850443,\n",
       " 12.684452953972409,\n",
       " 11.669744531455205,\n",
       " 12.182473982599468,\n",
       " 6.997629123325212,\n",
       " 27.11605323448409,\n",
       " 45.549475098423876,\n",
       " 50.05481054337186,\n",
       " 3.6653499285689373,\n",
       " 7.34973718337134,\n",
       " 8.97124100157252,\n",
       " 48.89293479134703,\n",
       " 53.508345381782284,\n",
       " 37.4009146365942,\n",
       " 29.31510759388679,\n",
       " 37.371850600769775,\n",
       " 18.287161902491803,\n",
       " 23.8412420132129,\n",
       " 27.202302459353454,\n",
       " 17.916855298309777,\n",
       " 17.906452256383638,\n",
       " 21.138682326293008,\n",
       " 16.438488933878048,\n",
       " 14.270328021493548,\n",
       " 11.869041092037184,\n",
       " 15.5225244474503,\n",
       " 6.885453995604017,\n",
       " 32.127611169724894,\n",
       " 33.964771542610514,\n",
       " 35.81025708844435,\n",
       " 31.381381093520805,\n",
       " 55.23747706545997,\n",
       " 51.81708995295077,\n",
       " 45.84372919704221,\n",
       " 50.58516415533215,\n",
       " 45.153106311822555,\n",
       " 21.830200838138285,\n",
       " 26.308086573676324,\n",
       " 29.294896986035592,\n",
       " 24.144830774750957,\n",
       " 21.532987727598755,\n",
       " 29.183872159734623,\n",
       " 32.911945777403965,\n",
       " 40.46569636731041,\n",
       " 17.530675471208788,\n",
       " 21.697931230418018,\n",
       " 25.452629529524465,\n",
       " 29.824490648916033,\n",
       " 47.981542398187024,\n",
       " 43.839390481650106,\n",
       " 42.33921005688412,\n",
       " 55.601676105046096,\n",
       " 48.42631502695601,\n",
       " 18.71964944063922,\n",
       " 29.878074884639936,\n",
       " 34.978024637205536,\n",
       " 43.381328634402095,\n",
       " 39.426917715823926,\n",
       " 38.49981403967036,\n",
       " 38.14658469634389,\n",
       " 42.90933143273826,\n",
       " 36.04655413580609,\n",
       " 16.089490909842617,\n",
       " 10.664505850327052,\n",
       " 38.822868165776704,\n",
       " 40.38942924564098,\n",
       " 43.690362695981285,\n",
       " 41.594341063481735,\n",
       " 32.38008487263396,\n",
       " 37.56711919072089,\n",
       " 36.292003256372105,\n",
       " 38.712707259441395,\n",
       " 2.1094098289485794,\n",
       " 3.6083147291308646,\n",
       " 28.668984810976735,\n",
       " 37.019967037280345,\n",
       " 30.100744282508593,\n",
       " 14.355935328434835,\n",
       " 16.84213444731402,\n",
       " 23.693839571478293,\n",
       " 12.531653653329078,\n",
       " 25.189245306390493,\n",
       " 29.988066457684873,\n",
       " 31.98919650005359,\n",
       " 25.305789099351827,\n",
       " 21.77509176030876,\n",
       " 29.608177946136262,\n",
       " 2.8793239973816043,\n",
       " 12.314315142879682,\n",
       " 30.58115509248372,\n",
       " 24.018047261082934,\n",
       " 34.27505185083355,\n",
       " 33.268907821241974,\n",
       " 23.032041690200597,\n",
       " 57.09395277071744,\n",
       " 53.301093293321166,\n",
       " 42.76433064804365,\n",
       " 3.083393991997223,\n",
       " 5.121539264406254,\n",
       " 3.0544401752663033,\n",
       " 1.997178027874872,\n",
       " 38.53125822512033,\n",
       " 36.85903683995467,\n",
       " 34.28502138471453,\n",
       " 30.878699606878573,\n",
       " 25.59769751574635,\n",
       " 42.82006098335517,\n",
       " 45.72417941392611,\n",
       " 47.74541774920328,\n",
       " 44.42536006061843,\n",
       " 33.97756818468757,\n",
       " 1.8752392529032058,\n",
       " 8.881429959224036,\n",
       " 7.02273645276493,\n",
       " 41.520644951685384,\n",
       " 35.225539778633646,\n",
       " 44.7260949711592,\n",
       " 38.121054151844824,\n",
       " 26.945237635054262,\n",
       " 26.38406022069601,\n",
       " 51.09667468163084,\n",
       " 57.39712234903706,\n",
       " 21.772031263020693,\n",
       " 18.798370513368063,\n",
       " 21.27956406186775,\n",
       " 27.820512290774282,\n",
       " 24.53794531683368,\n",
       " 33.38533811717735,\n",
       " 15.631283493106222,\n",
       " 51.086886001741405,\n",
       " 44.262648439841016,\n",
       " 56.47345693512387,\n",
       " 23.71570133008137,\n",
       " 18.773923225470696,\n",
       " 30.88388673175767,\n",
       " 31.59929144186636,\n",
       " 30.717861817037523,\n",
       " 38.075598687620996,\n",
       " 44.94457853328658,\n",
       " 39.8125488873935,\n",
       " 18.786266442972064,\n",
       " 48.00036180704484,\n",
       " 37.08168099302816,\n",
       " 44.66165480641547,\n",
       " 55.84524807557671,\n",
       " 51.701124621334785,\n",
       " 49.317281727155546,\n",
       " 46.287945296754785,\n",
       " 46.121642103223394,\n",
       " 37.43553614359792,\n",
       " 31.137506861481942,\n",
       " 15.503570174855842,\n",
       " 24.387245833632825,\n",
       " 29.493575617382646,\n",
       " 21.54177746754281,\n",
       " 38.82549401469027,\n",
       " 32.738652472307685,\n",
       " 58.08775375386507,\n",
       " 62.97990100563956,\n",
       " 63.51602730984859,\n",
       " 55.83683384145146,\n",
       " 19.328971690191715,\n",
       " 25.12037427574726,\n",
       " 14.98483608443061,\n",
       " 21.259123874359986,\n",
       " 46.45844566029991,\n",
       " 57.38179704236271,\n",
       " 60.56633934791684,\n",
       " 9.480914722709858,\n",
       " 17.226489399665606,\n",
       " 12.929552472310055,\n",
       " 12.897973285245829,\n",
       " 51.555472595262096,\n",
       " 50.47207038978038,\n",
       " 49.6422293062683,\n",
       " 55.401855990636534,\n",
       " 8.0401955908319,\n",
       " 14.025031306103669,\n",
       " 12.950697182266765,\n",
       " 17.985828531106723,\n",
       " 48.05923451438658,\n",
       " 37.422698350475486,\n",
       " 35.21886566225112,\n",
       " 37.045836728790356,\n",
       " 30.62884815847271,\n",
       " 60.08941845553702,\n",
       " 54.51264585462297,\n",
       " 52.9364674041301,\n",
       " 27.677566764271443,\n",
       " 30.74524199593295,\n",
       " 7.718252847069039,\n",
       " 11.268161443737105,\n",
       " 18.924876044117696,\n",
       " 7.370694812860481,\n",
       " 4.985286012368377,\n",
       " 27.884463650382788,\n",
       " 34.40912394913353,\n",
       " 32.21659936321795,\n",
       " 33.57761876629442,\n",
       " 44.14921194564888,\n",
       " 60.63417082704568,\n",
       " 58.89084516858443,\n",
       " 38.106013378386,\n",
       " 51.122034364011476,\n",
       " 50.52276660824922,\n",
       " 44.99591362898758,\n",
       " 25.290458980500155,\n",
       " 24.166578595875325,\n",
       " 9.859250657568538,\n",
       " 16.988258946052408,\n",
       " 23.325377517697664,\n",
       " 11.35287394378424,\n",
       " 20.286293095136976,\n",
       " 59.640683033801714,\n",
       " 8.112581666085969,\n",
       " 14.301799042327353,\n",
       " 2.6115303292920826,\n",
       " 71.58343619347845,\n",
       " 66.75094691970361,\n",
       " 8.618535148483707,\n",
       " 62.58142337868021,\n",
       " 65.06592251926428,\n",
       " 68.0722902761618,\n",
       " 63.3247991790452,\n",
       " 56.72071125074626,\n",
       " 60.3524926646253,\n",
       " 22.32542521510139,\n",
       " 28.350993831052122,\n",
       " 27.673640124049033,\n",
       " 16.40234487052315,\n",
       " 33.030248518081336,\n",
       " 28.95629266890844,\n",
       " 34.32434512118315,\n",
       " 39.98791378390149,\n",
       " 25.62358262739232,\n",
       " 28.58967070938045,\n",
       " 63.12656052708328,\n",
       " 68.4670969463585,\n",
       " 41.06293448187663,\n",
       " 44.94928735428961,\n",
       " 48.924169775037235,\n",
       " 49.68754149630789,\n",
       " 55.48156562305298,\n",
       " 61.83191720925406,\n",
       " 67.19463078898845,\n",
       " 32.12019603698438,\n",
       " 22.168315710463965,\n",
       " 18.203351985682847,\n",
       " 64.06685827613018,\n",
       " 43.263249014364604,\n",
       " 43.00610628620662,\n",
       " 42.11410863632758,\n",
       " 24.393802481336415,\n",
       " 48.976582391103264,\n",
       " 57.633996185947026,\n",
       " 35.15792312435237,\n",
       " 40.47143038989258,\n",
       " 31.20598174792903,\n",
       " 4.438771947170832,\n",
       " 18.06879402721151,\n",
       " 13.693103988236977,\n",
       " 45.62529335198439,\n",
       " 50.255032469962735,\n",
       " 63.34905046853187,\n",
       " 68.86586702246098,\n",
       " 73.34151996983806,\n",
       " 62.58737860273327,\n",
       " 68.82563039554266,\n",
       " 3.0397412126222214,\n",
       " 70.4216059100509,\n",
       " 66.81596123732568,\n",
       " 66.19027047187895,\n",
       " 55.20470987556763,\n",
       " 22.31862520618433,\n",
       " 17.17486667909094,\n",
       " 23.257920747156017,\n",
       " 28.647331624103966,\n",
       " 30.138209266092794,\n",
       " 21.126144626673106,\n",
       " 35.14215329916723,\n",
       " 33.76561935465603,\n",
       " 27.723764612932356,\n",
       " 33.700285968241886,\n",
       " 64.1798678785831,\n",
       " 55.62126719288659,\n",
       " 4.4095825759326575,\n",
       " 16.399183668076198,\n",
       " 9.577727335315055,\n",
       " 6.0108656143740635,\n",
       " 43.56690748203376,\n",
       " 16.604146701611395,\n",
       " 14.428342781034324,\n",
       " 19.133198400976234,\n",
       " 22.659334247611234,\n",
       " 60.443329100928054,\n",
       " 63.512207129836455,\n",
       " 31.747218862718878,\n",
       " 26.63205393061504,\n",
       " 20.829096396388994,\n",
       " 27.955481116598428,\n",
       " 58.110340060901905,\n",
       " 55.678922603021135,\n",
       " 58.981138915969076,\n",
       " 54.05879789602717,\n",
       " 8.508833070539676,\n",
       " 66.71050972545,\n",
       " 71.83080251435531,\n",
       " 76.38580800879322,\n",
       " 21.50335542206125,\n",
       " 49.985643499064544,\n",
       " 62.822279239508646,\n",
       " 65.33554202538444,\n",
       " 25.777585960325087,\n",
       " 40.76198646488251,\n",
       " 39.46426815529886,\n",
       " 33.72571983725668,\n",
       " 39.197165553384245,\n",
       " 33.41163023639361,\n",
       " 15.770694273538098,\n",
       " 13.7495171373202,\n",
       " 28.476717852606765,\n",
       " 21.295090887013497,\n",
       " 41.985158612745394,\n",
       " 47.78437106958009,\n",
       " 76.57324337249929,\n",
       " 71.8798929706612,\n",
       " 70.21532766512111,\n",
       " 3.144890074659318,\n",
       " 36.978068318265784,\n",
       " 15.5130370027097,\n",
       " 15.704512138644322,\n",
       " 10.508948034388412,\n",
       " 14.88886289813588,\n",
       " 7.393105875222585,\n",
       " 9.888569703213532,\n",
       " 7.8026633095891835,\n",
       " 16.714642382453835,\n",
       " 21.647896098816723,\n",
       " 16.630339028938735,\n",
       " 14.134555249945674,\n",
       " 22.062811115830467,\n",
       " 37.05441808504969,\n",
       " 41.21452243357656,\n",
       " 50.098762585780186,\n",
       " 12.712458545874062,\n",
       " 20.0801989393635,\n",
       " 9.40601961451848,\n",
       " 46.44700211850699,\n",
       " 40.219672563585455,\n",
       " 65.48452534329454,\n",
       " 57.62709422995107,\n",
       " 77.55532413472683,\n",
       " 1.852768411903128,\n",
       " 5.686273904578539,\n",
       " 52.7118939331293,\n",
       " 11.983264463472183,\n",
       " 18.252314601016824,\n",
       " 46.21126743932413,\n",
       " 51.49845251353825,\n",
       " 1.0936523053510578,\n",
       " 0.8856268797799958,\n",
       " 8.407762833334651,\n",
       " 6.77578013022407,\n",
       " 7.900192766193353,\n",
       " 14.626760127245376,\n",
       " 7.810951721350944,\n",
       " 71.29771766303692,\n",
       " 67.51371068756522,\n",
       " 58.93227453621387,\n",
       " 6.3699778577100705,\n",
       " 14.591466532897506,\n",
       " 22.478521098168034,\n",
       " 23.76026577527847,\n",
       " 18.300253641361806,\n",
       " 20.417601221261016,\n",
       " 54.0819421158772,\n",
       " 49.85301515628624,\n",
       " 52.3263566537752,\n",
       " 35.36581880303692,\n",
       " 30.43338797895508,\n",
       " 38.350339722072256,\n",
       " 41.896819963054355,\n",
       " 3.573064462688817,\n",
       " 3.905160053179873,\n",
       " 38.309214061752456,\n",
       " 24.957137535328112,\n",
       " 28.498624667295054,\n",
       " 32.317684150481234,\n",
       " 74.15906741992238,\n",
       " 78.79854978248662,\n",
       " 47.806852933583954,\n",
       " 49.37013083584061,\n",
       " 73.21565950991585,\n",
       " 77.6370286347943,\n",
       " 81.46563801908401,\n",
       " 38.07487498401653,\n",
       " 46.15054641318657,\n",
       " 48.79991077852935,\n",
       " 56.95327946501601,\n",
       " 50.57724067368032,\n",
       " 6.59519285393536,\n",
       " 5.522243546198751,\n",
       " 10.66695012885644,\n",
       " 17.947664115411087,\n",
       " 3.6348020817500597,\n",
       " 72.86848414397015,\n",
       " 64.65887180786542,\n",
       " 67.35388965463683,\n",
       " 46.727264542910106,\n",
       " 47.151088023209326,\n",
       " 42.852860601333575,\n",
       " 45.49982769761402,\n",
       " 39.384131811042224,\n",
       " 41.68505427038051,\n",
       " 44.85956729487917,\n",
       " 33.60357445841373,\n",
       " 38.34063801010197,\n",
       " 8.513610677232435,\n",
       " 52.87690893498332,\n",
       " 54.31467626305927,\n",
       " 29.169109145357993,\n",
       " 58.33514024836332,\n",
       " 35.36903100041477,\n",
       " 27.266110921508883,\n",
       " 30.723656211109734,\n",
       " 33.05246862897301,\n",
       " 28.001944569134867,\n",
       " 20.978362301125,\n",
       " 25.025359227256548,\n",
       " 60.64027120584416,\n",
       " 30.96964020886335,\n",
       " 32.61542039648977,\n",
       " 28.93803934581858,\n",
       " 12.173698003034763,\n",
       " 16.5427583857509,\n",
       " 59.889421811369985,\n",
       " 84.94967816341115,\n",
       " 82.3682277896648,\n",
       " 78.83829191126203,\n",
       " 82.2391497386975,\n",
       " 58.746190124732976,\n",
       " 70.92914378098706,\n",
       " 76.90638239408877,\n",
       " 44.3194876447743,\n",
       " 47.160477593095926,\n",
       " 64.94173326758526,\n",
       " 73.04066980248389,\n",
       " 63.01421855274816,\n",
       " 56.892059776116945,\n",
       " 51.802577213966394,\n",
       " 53.7421011552306,\n",
       " 11.804634162922948,\n",
       " 7.656787812635733,\n",
       " 1.7998325817634109,\n",
       " 8.621805687859803,\n",
       " 59.564625227082644,\n",
       " 33.82509163889439,\n",
       " 41.79270269885037,\n",
       " 23.308918605602756,\n",
       " 63.92476151790045,\n",
       " 57.488621782462744,\n",
       " 28.471235829468576,\n",
       " 7.438502839092272,\n",
       " 27.015316938641003,\n",
       " 6.96399984341554,\n",
       " 0.4636269652824544,\n",
       " 0.971570595769509,\n",
       " 10.902988381126809,\n",
       " 4.106968582316198,\n",
       " 7.226796195012386,\n",
       " 1.7476308753098262,\n",
       " 1.4883948311808848,\n",
       " 9.959012239153566,\n",
       " 6.532147664008187,\n",
       " 13.54330068514408,\n",
       " 14.511950433740935,\n",
       " 15.022203381874546,\n",
       " 6.114580988151466,\n",
       " 58.982461075661654,\n",
       " 48.80855609075823,\n",
       " 70.00441874222129,\n",
       " 65.22051991311997,\n",
       " 33.52978947162982,\n",
       " 56.20543786024506,\n",
       " 48.33686688355712,\n",
       " 53.36504819390652,\n",
       " 52.71197159325176,\n",
       " 44.533273146959445,\n",
       " 47.436309200259224,\n",
       " 56.43666232877258,\n",
       " 85.28673535346223,\n",
       " 78.3046992922867,\n",
       " 20.189260068632105,\n",
       " 15.475776098979527,\n",
       " 21.93631272856371,\n",
       " 27.430222887368117,\n",
       " 12.414168992964012,\n",
       " 37.410214314395525,\n",
       " 37.79459737589091,\n",
       " 54.63199550862146,\n",
       " 61.15267951655887,\n",
       " 21.016953642076672,\n",
       " 11.579627360502672,\n",
       " 16.871455352181414,\n",
       " 66.79580603669417,\n",
       " 25.97805339304614,\n",
       " 39.58518875296214,\n",
       " 45.12317882980628,\n",
       " 4.0690906751588445,\n",
       " 11.881967949187096,\n",
       " 0.6129328835066669,\n",
       " 3.634766482125825,\n",
       " 1.9516790333954757,\n",
       " 44.50235167178446,\n",
       " 39.76609053830606,\n",
       " 42.87382679037876,\n",
       " 21.1665287719067,\n",
       " 2.9280283148940627,\n",
       " 78.21639336163926,\n",
       " 4.758351243497144,\n",
       " 2.19141985468262,\n",
       " 6.791100512698633,\n",
       " 5.697894962518668,\n",
       " 63.35133723183563,\n",
       " 41.022349044852575,\n",
       " 43.246611645458835,\n",
       " 25.223196218918574,\n",
       " 9.311380006835838,\n",
       " 17.044679073942927,\n",
       " 12.848419542405727,\n",
       " 23.605881161387835,\n",
       " 71.80523989227822,\n",
       " 35.59054457519439,\n",
       " 38.0188398083009,\n",
       " 28.978575149960275,\n",
       " 38.37071978448546,\n",
       " 46.36292180549753,\n",
       " 43.4488246100289,\n",
       " 42.799756938412905,\n",
       " 66.8724993894066,\n",
       " 11.17956693363791,\n",
       " 69.76943684219505,\n",
       " 67.42738708483802,\n",
       " 62.614918620707684,\n",
       " 17.014645286185118,\n",
       " 15.83145776382205,\n",
       " 23.108437856146697,\n",
       " 12.048504152346121,\n",
       " 15.49089681769129,\n",
       " 20.31195007104016,\n",
       " 20.34592774013039,\n",
       " 54.55786473383014,\n",
       " 52.19489107906514,\n",
       " 34.98850421386015,\n",
       " 26.80223924527587,\n",
       " 62.4366709336588,\n",
       " 58.403809443172904,\n",
       " 73.41546496767057,\n",
       " 12.409624381558531,\n",
       " 3.3231924910778616,\n",
       " 3.195500092333695,\n",
       " 7.617860326479924,\n",
       " 29.81813035044205,\n",
       " 35.14600809887312,\n",
       " 30.162115552085993,\n",
       " 37.76964663755425,\n",
       " 40.11566524702829,\n",
       " 30.556209495924318,\n",
       " 39.841237764677594,\n",
       " 39.49669362509032,\n",
       " 4.326222307895962,\n",
       " 31.275799443902592,\n",
       " 35.86473269118861,\n",
       " 42.254565135248825,\n",
       " 44.17334384556171,\n",
       " 9.759892678862116,\n",
       " 34.67284603092279,\n",
       " 26.007062919916756,\n",
       " 25.01468764747581,\n",
       " 30.70571420641414,\n",
       " 2.5163988329105575,\n",
       " 55.03722215180775,\n",
       " 46.14614089247934,\n",
       " 45.346910681525316,\n",
       " 44.36692801484605,\n",
       " 47.720514453068326,\n",
       " 6.722227548053344,\n",
       " 7.950511745619018,\n",
       " 61.60126186059664,\n",
       " 19.000954775903864,\n",
       " 13.76372625367155,\n",
       " 42.891278650560274,\n",
       " 44.990548169956845,\n",
       " 17.89959217058049,\n",
       " 26.017494887639597,\n",
       " 59.27781639295705,\n",
       " 6.490165382184474,\n",
       " 2.9761620700007176,\n",
       " 13.05445375153193,\n",
       " 19.712675743038844,\n",
       " 54.56097187060807,\n",
       " 34.744180777468756,\n",
       " 25.89029387510802,\n",
       " 30.55876270243339,\n",
       " 21.39878958220287,\n",
       " 21.072503623048714,\n",
       " 15.088221760448082,\n",
       " 51.23416867986761,\n",
       " 49.0154872016188,\n",
       " 49.27330232114463,\n",
       " 51.51052226717831,\n",
       " 30.384735650945995,\n",
       " 50.958215509667156,\n",
       " 49.23836795618802,\n",
       " 61.65177793167216,\n",
       " 56.602802395915646,\n",
       " 54.67507635171675,\n",
       " 51.15408595464232,\n",
       " 39.571114098412394,\n",
       " 34.68221775710575,\n",
       " 35.268036168812934,\n",
       " 26.570445960221825,\n",
       " 75.36937053426679,\n",
       " 75.54583317263662,\n",
       " 73.18488479478614,\n",
       " 11.644786394506097,\n",
       " 7.495494764094055,\n",
       " 10.85792603359664,\n",
       " 53.62456281154099,\n",
       " 48.617057641872734,\n",
       " 68.44648952356049,\n",
       " 71.00207292534691,\n",
       " 75.45513850264571,\n",
       " 67.24580587113229,\n",
       " 36.723142600180914,\n",
       " 11.027835226027458,\n",
       " 13.830395279417063,\n",
       " 45.52394876922537,\n",
       " 63.39642154192296,\n",
       " 76.7058640946484,\n",
       " 20.14288649739427,\n",
       " 2.171127038405439,\n",
       " 44.649790994910425,\n",
       " 41.329161949852455,\n",
       " 5.949232180040967,\n",
       " 54.52344736031104,\n",
       " 51.488643854028474,\n",
       " 45.00377750869219,\n",
       " 53.34867468657839,\n",
       " 48.806305376329114,\n",
       " 54.788396699756895,\n",
       " 45.19553463256987,\n",
       " 40.76801747352309,\n",
       " 52.27687628694281,\n",
       " 24.32044552160224,\n",
       " 22.093149125759957,\n",
       " 30.933745189434905,\n",
       " 40.316816652723574,\n",
       " 26.660876610029153,\n",
       " 39.11353739950838,\n",
       " 46.93265346291741,\n",
       " 33.838162635614154,\n",
       " 55.75968821423769,\n",
       " 49.67480660238837,\n",
       " 47.9799320986933,\n",
       " 51.974264484261575,\n",
       " 12.987408286559058,\n",
       " 51.10887729205284,\n",
       " 30.36539708711673,\n",
       " 17.76024527693488,\n",
       " 25.243543717709954,\n",
       " 53.45379255827957,\n",
       " 39.08386311982493,\n",
       " 25.36137762701523,\n",
       " 36.13707143590751,\n",
       " 44.50626594270281,\n",
       " 14.547565889060758,\n",
       " 18.436114732241084,\n",
       " 10.21337334581299,\n",
       " 18.474448187615877,\n",
       " 58.78576448098417,\n",
       " 69.43037312340478,\n",
       " 10.591211686402195,\n",
       " 53.67928707920441,\n",
       " 36.45356275024539,\n",
       " 20.038111072864904,\n",
       " 40.95279084612497,\n",
       " 17.77445075420934,\n",
       " 16.08461816186506,\n",
       " 28.474201894982517,\n",
       " 0.27676215603857246,\n",
       " 2.1830240258597358,\n",
       " 15.889186535904527,\n",
       " 52.390440813641646,\n",
       " 53.76439925663591,\n",
       " 28.644808370413767,\n",
       " 19.79783546585163,\n",
       " 13.536902802800656,\n",
       " 2.897915513610852,\n",
       " 23.051699056718256,\n",
       " 26.907422893703856,\n",
       " 57.49506604362047,\n",
       " 33.46927819667725,\n",
       " 20.315023701644545,\n",
       " 20.25321576416171,\n",
       " 55.8634981437778,\n",
       " 58.49000934287128,\n",
       " 60.83991082969271,\n",
       " 57.83474015331447,\n",
       " 63.39491469078225,\n",
       " 26.120839762034066,\n",
       " 32.73739500250861,\n",
       " 47.336887600380805,\n",
       " 34.472637075442314,\n",
       " 63.348883992065346,\n",
       " 60.38290663891749,\n",
       " 45.619239490703976,\n",
       " 54.5814817004387,\n",
       " 56.837016489423405,\n",
       " 62.348073073079284,\n",
       " 4.544852357447174,\n",
       " 66.20602780409563,\n",
       " 66.80774706848139,\n",
       " 58.167666487075934,\n",
       " 69.92480879905999,\n",
       " 49.26110218521847,\n",
       " 63.10445692904543,\n",
       " 52.50760830208063,\n",
       " 57.37666611281542]"
      ]
     },
     "execution_count": 131,
     "metadata": {},
     "output_type": "execute_result"
    }
   ],
   "source": [
    "sample_distances = [min(selected_roads.distance(p)) for p in sample_points]\n",
    "sample_distances"
   ]
  },
  {
   "cell_type": "code",
   "execution_count": 132,
   "metadata": {},
   "outputs": [
    {
     "data": {
      "text/plain": [
       "<matplotlib.axes._subplots.AxesSubplot at 0x7f51a6c43ca0>"
      ]
     },
     "execution_count": 132,
     "metadata": {},
     "output_type": "execute_result"
    },
    {
     "data": {
      "image/png": "[encoded data removed]",
      "text/plain": [
       "<Figure size 640x480 with 1 Axes>"
      ]
     },
     "metadata": {},
     "output_type": "display_data"
    }
   ],
   "source": [
    "flags = [d < search_margin+0.95*radius and d > search_margin for d in sample_distances]\n",
    "edge_points = sample_points[flags]\n",
    "edge_points.plot()"
   ]
  },
  {
   "cell_type": "code",
   "execution_count": 133,
   "metadata": {},
   "outputs": [
    {
     "data": {
      "text/plain": [
       "<matplotlib.axes._subplots.AxesSubplot at 0x7f51a6ed6280>"
      ]
     },
     "execution_count": 133,
     "metadata": {},
     "output_type": "execute_result"
    },
    {
     "data": {
      "image/png": "[encoded data removed]",
      "text/plain": [
       "<Figure size 640x480 with 1 Axes>"
      ]
     },
     "metadata": {},
     "output_type": "display_data"
    }
   ],
   "source": [
    "flags = [d < 0.5*radius for d in sample_distances]\n",
    "road_points = sample_points[flags]\n",
    "road_points.plot()"
   ]
  },
  {
   "cell_type": "code",
   "execution_count": 134,
   "metadata": {},
   "outputs": [
    {
     "data": {
      "image/svg+xml": [
       "<svg xmlns=\"http://www.w3.org/2000/svg\" xmlns:xlink=\"http://www.w3.org/1999/xlink\" width=\"100.0\" height=\"100.0\" viewBox=\"256482.35418538976 325728.25435836223 2.0 2.0\" preserveAspectRatio=\"xMinYMin meet\"><g transform=\"matrix(1,0,0,-1,0,651458.5087167245)\"><circle cx=\"256483.35418538976\" cy=\"325729.25435836223\" r=\"0.06\" stroke=\"#555555\" stroke-width=\"0.02\" fill=\"#66cc99\" opacity=\"0.6\" /></g></svg>"
      ],
      "text/plain": [
       "<POINT (256483.354 325729.254)>"
      ]
     },
     "execution_count": 134,
     "metadata": {},
     "output_type": "execute_result"
    }
   ],
   "source": [
    "top_arg = np.argmax(edge_points.y)\n",
    "top_point = edge_points.iloc[top_arg]\n",
    "top_point"
   ]
  },
  {
   "cell_type": "code",
   "execution_count": 135,
   "metadata": {},
   "outputs": [],
   "source": [
    "from shapely.ops import nearest_points"
   ]
  },
  {
   "cell_type": "code",
   "execution_count": 136,
   "metadata": {},
   "outputs": [
    {
     "data": {
      "image/svg+xml": [
       "<svg xmlns=\"http://www.w3.org/2000/svg\" xmlns:xlink=\"http://www.w3.org/1999/xlink\" width=\"100.0\" height=\"155.85480000003008\" viewBox=\"256435.30760000003 325560.2276 85.0447999999742 155.85480000003008\" preserveAspectRatio=\"xMinYMin meet\"><g transform=\"matrix(1,0,0,-1,0,651276.31)\"><polyline fill=\"none\" stroke=\"#66cc99\" stroke-width=\"2.0\" points=\"256493.83000000002,325710.31 256484.38,325704.19 256455.23,325685.33 256448.72,325660.34 256441.08000000002,325579.76 256446.76,325568.78 256466.48,325566.0 256506.44,325590.10000000003 256514.58000000002,325595.01\" opacity=\"0.8\" /></g></svg>"
      ],
      "text/plain": [
       "<LINESTRING Z (256493.83 325710.31 0, 256484.38 325704.19 0, 256455.23 32568...>"
      ]
     },
     "execution_count": 136,
     "metadata": {},
     "output_type": "execute_result"
    }
   ],
   "source": [
    "selected_roads.unary_union"
   ]
  },
  {
   "cell_type": "code",
   "execution_count": 137,
   "metadata": {},
   "outputs": [],
   "source": [
    "top_nearest = gpd.GeoSeries(nearest_points(top_point, selected_roads.unary_union))"
   ]
  },
  {
   "cell_type": "code",
   "execution_count": 138,
   "metadata": {},
   "outputs": [
    {
     "data": {
      "text/plain": [
       "<matplotlib.axes._subplots.AxesSubplot at 0x7f51a7321af0>"
      ]
     },
     "execution_count": 138,
     "metadata": {},
     "output_type": "execute_result"
    },
    {
     "data": {
      "image/png": "[encoded data removed]",
      "text/plain": [
       "<Figure size 640x480 with 1 Axes>"
      ]
     },
     "metadata": {},
     "output_type": "display_data"
    }
   ],
   "source": [
    "ax = edge_points.plot()\n",
    "selected_roads.plot(ax=ax)\n",
    "top_nearest.plot(ax=ax)"
   ]
  },
  {
   "cell_type": "code",
   "execution_count": 139,
   "metadata": {},
   "outputs": [],
   "source": [
    "opposite_point = Point(top_point.x + 2*(top_nearest[1].x - top_point.x),\n",
    "                       top_point.y + 2*(top_nearest[1].y - top_point.y))"
   ]
  },
  {
   "cell_type": "code",
   "execution_count": 140,
   "metadata": {},
   "outputs": [
    {
     "data": {
      "text/plain": [
       "<matplotlib.axes._subplots.AxesSubplot at 0x7f51a72ba8e0>"
      ]
     },
     "execution_count": 140,
     "metadata": {},
     "output_type": "execute_result"
    },
    {
     "data": {
      "image/png": "[encoded data removed]",
      "text/plain": [
       "<Figure size 640x480 with 1 Axes>"
      ]
     },
     "metadata": {},
     "output_type": "display_data"
    }
   ],
   "source": [
    "ax = edge_points.plot()\n",
    "selected_roads.plot(ax=ax)\n",
    "top_nearest.plot(ax=ax)\n",
    "gpd.GeoSeries([opposite_point]).plot(ax=ax)"
   ]
  },
  {
   "cell_type": "code",
   "execution_count": 141,
   "metadata": {},
   "outputs": [
    {
     "data": {
      "image/svg+xml": [
       "<svg xmlns=\"http://www.w3.org/2000/svg\" xmlns:xlink=\"http://www.w3.org/1999/xlink\" width=\"100.0\" height=\"100.0\" viewBox=\"256482.35418538976 325728.25435836223 2.0 2.0\" preserveAspectRatio=\"xMinYMin meet\"><g transform=\"matrix(1,0,0,-1,0,651458.5087167245)\"><circle cx=\"256483.35418538976\" cy=\"325729.25435836223\" r=\"0.06\" stroke=\"#555555\" stroke-width=\"0.02\" fill=\"#66cc99\" opacity=\"0.6\" /></g></svg>"
      ],
      "text/plain": [
       "<POINT (256483.354 325729.254)>"
      ]
     },
     "execution_count": 141,
     "metadata": {},
     "output_type": "execute_result"
    }
   ],
   "source": [
    "start_point = top_point\n",
    "start_point"
   ]
  },
  {
   "cell_type": "code",
   "execution_count": 216,
   "metadata": {},
   "outputs": [
    {
     "data": {
      "text/plain": [
       "(array('d', [256504.30581461027]), array('d', [325691.36564163776]))"
      ]
     },
     "execution_count": 216,
     "metadata": {},
     "output_type": "execute_result"
    }
   ],
   "source": [
    "def opposing_point(first_point, overshoot=1.0):\n",
    "    nearest_road = nearest_points(first_point, selected_roads.unary_union)[1]\n",
    "    opposite_point = Point(first_point.x + (1.0+overshoot)*(nearest_road.x - first_point.x),\n",
    "                           first_point.y + (1.0+overshoot)*(nearest_road.y - first_point.y))\n",
    "    return opposite_point\n",
    "\n",
    "opposing_point(start_point.geometry).xy"
   ]
  },
  {
   "cell_type": "code",
   "execution_count": 167,
   "metadata": {},
   "outputs": [],
   "source": [
    "gdf_edge_points = gpd.GeoDataFrame(geometry=edge_points)\n",
    "gdf_edge_points['visited'] = False"
   ]
  },
  {
   "cell_type": "code",
   "execution_count": 168,
   "metadata": {},
   "outputs": [],
   "source": [
    "def closest_unvisited_edge_point_name(target_point):\n",
    "    unvisited_points = gdf_edge_points[gdf_edge_points['visited']==False]\n",
    "    ix_closest = np.argmin(unvisited_points.distance(target_point))\n",
    "    closest_point_name = unvisited_points.iloc[ix_closest].name\n",
    "    return closest_point_name\n",
    "closest_point_name = closest_unvisited_edge_point_name(opposite_point)"
   ]
  },
  {
   "cell_type": "code",
   "execution_count": 169,
   "metadata": {},
   "outputs": [
    {
     "data": {
      "text/plain": [
       "<matplotlib.axes._subplots.AxesSubplot at 0x7f51a729f700>"
      ]
     },
     "execution_count": 169,
     "metadata": {},
     "output_type": "execute_result"
    },
    {
     "data": {
      "image/png": "[encoded data removed]",
      "text/plain": [
       "<Figure size 640x480 with 1 Axes>"
      ]
     },
     "metadata": {},
     "output_type": "display_data"
    }
   ],
   "source": [
    "ax = edge_points.plot()\n",
    "selected_roads.plot(ax=ax)\n",
    "top_nearest.plot(ax=ax)\n",
    "gpd.GeoSeries([opposite_point]).plot(ax=ax)\n",
    "gdf_edge_points[gdf_edge_points.index==closest_point_name].plot(ax=ax,color='r',marker='+')"
   ]
  },
  {
   "cell_type": "code",
   "execution_count": 175,
   "metadata": {},
   "outputs": [],
   "source": [
    "start_point = gdf_edge_points.iloc[top_arg]\n",
    "gdf_edge_points.loc[start_point.name,'visited'] = True"
   ]
  },
  {
   "cell_type": "code",
   "execution_count": 209,
   "metadata": {},
   "outputs": [
    {
     "data": {
      "text/plain": [
       "[<POINT (256483.354 325729.254)>,\n",
       " <POINT (256505.513 325688.642)>,\n",
       " <POINT (256510.745 325694.273)>,\n",
       " <POINT (256478.36 325726.3)>,\n",
       " <POINT (256469.44 325721.488)>,\n",
       " <POINT (256495.706 325684.069)>,\n",
       " <POINT (256490.032 325680.869)>,\n",
       " <POINT (256460.368 325713.244)>,\n",
       " <POINT (256449.38 325708.514)>,\n",
       " <POINT (256474.802 325673.916)>,\n",
       " <POINT (256483.203 325677.186)>,\n",
       " <POINT (256442.422 325702.11)>,\n",
       " <POINT (256439.267 325697.461)>,\n",
       " <POINT (256474.073 325664.9)>,\n",
       " <POINT (256472.71 325655.633)>,\n",
       " <POINT (256427.564 325661.153)>,\n",
       " <POINT (256428.78 325670.175)>,\n",
       " <POINT (256469.095 325648.212)>,\n",
       " <POINT (256471.007 325639.734)>,\n",
       " <POINT (256422.886 325638.887)>,\n",
       " <POINT (256425.489 325630.239)>,\n",
       " <POINT (256466.71 325624.637)>,\n",
       " <POINT (256468.226 325635.409)>,\n",
       " <POINT (256425.936 325649.907)>,\n",
       " <POINT (256424.025 325623.697)>,\n",
       " <POINT (256468.089 325613.376)>,\n",
       " <POINT (256465.188 325608.799)>,\n",
       " <POINT (256421.276 325610.944)>,\n",
       " <POINT (256422.25 325601.825)>,\n",
       " <POINT (256465.038 325595.996)>,\n",
       " <POINT (256470.528 325595.602)>,\n",
       " <POINT (256491.716 325557.82)>,\n",
       " <POINT (256487.694 325551.875)>,\n",
       " <POINT (256464.361 325590.487)>,\n",
       " <POINT (256478.73 325598.499)>,\n",
       " <POINT (256519.758 325570.565)>,\n",
       " <POINT (256522.135 325575.023)>,\n",
       " <POINT (256495.519 325611.735)>,\n",
       " <POINT (256489.187 325606.934)>,\n",
       " <POINT (256530.572 325579.994)>,\n",
       " <POINT (256533.836 325586.686)>,\n",
       " <POINT (256483.449 325604.721)>,\n",
       " <POINT (256507.902 325617.053)>,\n",
       " <POINT (256536.682 325599.108)>,\n",
       " <POINT (256533.214 325603.356)>,\n",
       " <POINT (256519.506 325615.981)>,\n",
       " <POINT (256515.508 325619.01)>,\n",
       " <POINT (256534.118 325608.531)>,\n",
       " <POINT (256528.621 325612.165)>,\n",
       " <POINT (256476.519 325548.339)>,\n",
       " <POINT (256471.705 325546.432)>,\n",
       " <POINT (256421.459 325585.555)>,\n",
       " <POINT (256420.927 325592.816)>,\n",
       " <POINT (256447.457 325548.169)>,\n",
       " <POINT (256442.115 325548.971)>,\n",
       " <POINT (256421.864 325571.112)>,\n",
       " <POINT (256424.419 325565.394)>,\n",
       " <POINT (256428.027 325561.152)>,\n",
       " <POINT (256432.818 325551.641)>,\n",
       " <POINT (256436.592 325546.687)>,\n",
       " <POINT (256525.134 325616.995)>,\n",
       " <POINT (256429.494 325682.315)>,\n",
       " <POINT (256433.32 325686.64)>,\n",
       " <POINT (256432.216 325691.556)>,\n",
       " <POINT (256503.869 325728.944)>,\n",
       " <POINT (256516.04 325708.047)>,\n",
       " <POINT (256515.919 325717.098)>,\n",
       " <POINT (256511.307 325720.418)>]"
      ]
     },
     "execution_count": 209,
     "metadata": {},
     "output_type": "execute_result"
    }
   ],
   "source": [
    "current_point = start_point\n",
    "gdf_edge_points['visited'] = False\n",
    "gdf_edge_points.loc[start_point.name,'visited'] = True\n",
    "tour = [start_point.geometry]\n",
    "for ii in range(len(gdf_edge_points)):\n",
    "    opposite_point = opposing_point(current_point.geometry)\n",
    "    closest_point_name = closest_unvisited_edge_point_name(opposite_point)\n",
    "    tour.append(gdf_edge_points.loc[closest_point_name,'geometry'])\n",
    "    gdf_edge_points.loc[closest_point_name,'visited'] = True\n",
    "    current_point = gdf_edge_points.loc[closest_point_name]\n",
    "    if np.all(gdf_edge_points['visited']):\n",
    "        break\n",
    "    closest_point_name = closest_unvisited_edge_point_name(current_point.geometry)\n",
    "    tour.append(gdf_edge_points.loc[closest_point_name,'geometry'])\n",
    "    gdf_edge_points.loc[closest_point_name,'visited'] = True\n",
    "    current_point = gdf_edge_points.loc[closest_point_name]\n",
    "    if np.all(gdf_edge_points['visited']):\n",
    "        break\n",
    "    \n",
    "tour"
   ]
  },
  {
   "cell_type": "code",
   "execution_count": 269,
   "metadata": {},
   "outputs": [
    {
     "data": {
      "text/plain": [
       "[<POINT (256493.83 325710.31)>,\n",
       " <POINT (256483.354 325729.254)>,\n",
       " <POINT (256493.83 325710.31)>,\n",
       " <POINT (256505.513 325688.642)>,\n",
       " <POINT (256510.745 325694.273)>,\n",
       " <POINT (256493.83 325710.31)>,\n",
       " <POINT (256478.36 325726.3)>,\n",
       " <POINT (256469.44 325721.488)>,\n",
       " <POINT (256481.738 325702.48)>,\n",
       " <POINT (256495.706 325684.069)>,\n",
       " <POINT (256490.032 325680.869)>,\n",
       " <POINT (256477.728 325699.886)>,\n",
       " <POINT (256460.368 325713.244)>,\n",
       " <POINT (256449.38 325708.514)>,\n",
       " <POINT (256461.68 325689.503)>,\n",
       " <POINT (256474.802 325673.916)>,\n",
       " <POINT (256483.203 325677.186)>,\n",
       " <POINT (256471.234 325695.685)>,\n",
       " <POINT (256442.422 325702.11)>,\n",
       " <POINT (256439.267 325697.461)>,\n",
       " <POINT (256455.23 325685.33)>,\n",
       " <POINT (256474.073 325664.9)>,\n",
       " <POINT (256472.71 325655.633)>,\n",
       " <POINT (256448.491 325657.93)>,\n",
       " <POINT (256427.564 325661.153)>,\n",
       " <POINT (256428.78 325670.175)>,\n",
       " <POINT (256449.852 325664.686)>,\n",
       " <POINT (256469.095 325648.212)>,\n",
       " <POINT (256471.007 325639.734)>,\n",
       " <POINT (256446.982 325642.012)>,\n",
       " <POINT (256425.936 325649.907)>,\n",
       " <POINT (256422.886 325638.887)>,\n",
       " <POINT (256446.474 325636.651)>,\n",
       " <POINT (256468.226 325635.409)>,\n",
       " <POINT (256466.71 325624.637)>,\n",
       " <POINT (256445.525 325626.645)>,\n",
       " <POINT (256425.489 325630.239)>,\n",
       " <POINT (256424.025 325623.697)>,\n",
       " <POINT (256445.057 325621.702)>,\n",
       " <POINT (256468.089 325613.376)>,\n",
       " <POINT (256465.188 325608.799)>,\n",
       " <POINT (256444.024 325610.806)>,\n",
       " <POINT (256421.276 325610.944)>,\n",
       " <POINT (256422.25 325601.825)>,\n",
       " <POINT (256442.986 325599.859)>,\n",
       " <POINT (256465.038 325595.996)>,\n",
       " <POINT (256470.528 325595.602)>,\n",
       " <POINT (256482.54 325575.686)>,\n",
       " <POINT (256491.716 325557.82)>,\n",
       " <POINT (256487.694 325551.875)>,\n",
       " <POINT (256475.789 325571.614)>,\n",
       " <POINT (256464.361 325590.487)>,\n",
       " <POINT (256478.73 325598.499)>,\n",
       " <POINT (256489.835 325580.085)>,\n",
       " <POINT (256519.758 325570.565)>,\n",
       " <POINT (256522.135 325575.023)>,\n",
       " <POINT (256511.279 325593.019)>,\n",
       " <POINT (256495.519 325611.735)>,\n",
       " <POINT (256489.187 325606.934)>,\n",
       " <POINT (256501.233 325586.96)>,\n",
       " <POINT (256530.572 325579.994)>,\n",
       " <POINT (256533.836 325586.686)>,\n",
       " <POINT (256514.58 325595.01)>,\n",
       " <POINT (256483.449 325604.721)>,\n",
       " <POINT (256507.902 325617.053)>,\n",
       " <POINT (256514.58 325595.01)>,\n",
       " <POINT (256536.682 325599.108)>,\n",
       " <POINT (256533.214 325603.356)>,\n",
       " <POINT (256514.58 325595.01)>,\n",
       " <POINT (256519.506 325615.981)>,\n",
       " <POINT (256515.508 325619.01)>,\n",
       " <POINT (256514.58 325595.01)>,\n",
       " <POINT (256534.118 325608.531)>,\n",
       " <POINT (256528.621 325612.165)>,\n",
       " <POINT (256514.58 325595.01)>,\n",
       " <POINT (256525.134 325616.995)>,\n",
       " <POINT (256476.519 325548.339)>,\n",
       " <POINT (256466.48 325566)>,\n",
       " <POINT (256447.457 325548.169)>,\n",
       " <POINT (256442.115 325548.971)>,\n",
       " <POINT (256446.76 325568.78)>,\n",
       " <POINT (256421.459 325585.555)>,\n",
       " <POINT (256420.927 325592.816)>,\n",
       " <POINT (256442.127 325590.805)>,\n",
       " <POINT (256421.864 325571.112)>,\n",
       " <POINT (256424.419 325565.394)>,\n",
       " <POINT (256443.426 325575.226)>,\n",
       " <POINT (256428.027 325561.152)>,\n",
       " <POINT (256432.818 325551.641)>,\n",
       " <POINT (256446.76 325568.78)>,\n",
       " <POINT (256471.705 325546.432)>,\n",
       " <POINT (256436.592 325546.687)>,\n",
       " <POINT (256446.76 325568.78)>,\n",
       " <POINT (256429.494 325682.315)>,\n",
       " <POINT (256433.32 325686.64)>,\n",
       " <POINT (256454.157 325681.212)>,\n",
       " <POINT (256432.216 325691.556)>,\n",
       " <POINT (256503.869 325728.944)>,\n",
       " <POINT (256493.83 325710.31)>,\n",
       " <POINT (256516.04 325708.047)>,\n",
       " <POINT (256515.919 325717.098)>,\n",
       " <POINT (256493.83 325710.31)>,\n",
       " <POINT (256511.307 325720.418)>]"
      ]
     },
     "execution_count": 269,
     "metadata": {},
     "output_type": "execute_result"
    }
   ],
   "source": [
    "current_point = start_point\n",
    "gdf_edge_points['visited'] = False\n",
    "gdf_edge_points.loc[start_point.name,'visited'] = True\n",
    "start_road = nearest_points(current_point.geometry, selected_roads.unary_union)[1]\n",
    "tour = [Point(start_road.x,start_road.y),start_point.geometry]\n",
    "for ii in range(len(gdf_edge_points)):\n",
    "    nearest_road = nearest_points(current_point.geometry, selected_roads.unary_union)[1]\n",
    "    tour.append(Point(nearest_road.x,nearest_road.y))\n",
    "    opposite_point = opposing_point(current_point.geometry,overshoot=0.75)\n",
    "    closest_point_name = closest_unvisited_edge_point_name(opposite_point)\n",
    "    tour.append(gdf_edge_points.loc[closest_point_name,'geometry'])\n",
    "    gdf_edge_points.loc[closest_point_name,'visited'] = True\n",
    "    current_point = gdf_edge_points.loc[closest_point_name]\n",
    "    if np.all(gdf_edge_points['visited']):\n",
    "        break\n",
    "    closest_point_name = closest_unvisited_edge_point_name(current_point.geometry)\n",
    "    tour.append(gdf_edge_points.loc[closest_point_name,'geometry'])\n",
    "    gdf_edge_points.loc[closest_point_name,'visited'] = True\n",
    "    current_point = gdf_edge_points.loc[closest_point_name]\n",
    "    if np.all(gdf_edge_points['visited']):\n",
    "        break\n",
    "    \n",
    "tour"
   ]
  },
  {
   "cell_type": "code",
   "execution_count": 270,
   "metadata": {},
   "outputs": [
    {
     "data": {
      "image/svg+xml": [
       "<svg xmlns=\"http://www.w3.org/2000/svg\" xmlns:xlink=\"http://www.w3.org/1999/xlink\" width=\"130.38038051052717\" height=\"197.44763286714442\" viewBox=\"256413.61436029535 325539.1196007865 130.38038051052717 197.44763286714442\" preserveAspectRatio=\"xMinYMin meet\"><g transform=\"matrix(1,0,0,-1,0,651275.6868344401)\"><polyline fill=\"none\" stroke=\"#66cc99\" stroke-width=\"2.0\" points=\"256493.83000000002,325710.31 256483.35418538976,325729.25435836223 256493.83000000002,325710.31 256505.51272917437,325688.64169219404 256510.74495946048,325694.27286082203 256493.83000000002,325710.31 256478.36009695826,325726.29968183883 256469.4395706817,325721.4884968743 256481.73773749016,325702.4804606883 256495.70607239738,325684.0688621818 256490.03246678572,325680.8689277623 256477.72824344542,325699.8863249187 256460.36845406317,325713.24394551007 256449.38010151885,325708.51440717344 256461.68025338856,325689.5033028785 256474.80215332616,325673.9159925079 256483.2027619014,325677.18575651455 256471.2340475266,325695.6845912985 256442.4224376058,325702.1103516466 256439.2666924891,325697.4608382479 256455.23,325685.33 256474.07293001073,325664.9003455954 256472.71007770117,325655.63342074654 256448.49146845407,325657.9296502656 256427.5635972547,325661.15296538704 256428.78031698952,325670.17530065 256449.85215108615,325664.6859993307 256469.0951282482,325648.2120767627 256471.00653455892,325639.73439194 256446.9822928058,325642.01219296997 256425.93556692175,325649.9068515641 256422.88588624104,325638.8869947505 256446.47394142175,325636.6505497073 256468.22585732583,325635.40856825636 256466.70987351882,325624.63670918124 256445.52531498417,325626.6452724377 256425.48880987085,325630.2393629248 256424.02484632135,325623.69650349685 256445.05667038288,325621.70242139423 256468.08927568496,325613.3759669276 256465.18772867697,325608.7990161842 256444.0235190718,325610.8056501055 256421.27567253166,325610.943892281 256422.2495075514,325601.82473779784 256442.98560959514,325599.8586938711 256465.03813228055,325595.9964021772 256470.52814897586,325595.6018171727 256482.53966204647,325575.685632015 256491.71635730847,325557.819820799 256487.6937938021,325551.8745625234 256475.78878356796,325571.61415625596 256464.36071014716,325590.48657866765 256478.72954372328,325598.4991400522 256489.83491455682,325580.08542144194 256519.75765620507,325570.56531159196 256522.13474671284,325575.02260376955 256511.27937638335,325593.0190832976 256495.51920524045,325611.7352642762 256489.18669751732,325606.9336210358 256501.23304852078,325586.9596714052 256530.5717513443,325579.9944845221 256533.83604280124,325586.6855480376 256514.58000000002,325595.01 256483.44876962237,325604.72075484524 256507.90228855936,325617.0527565049 256514.58000000002,325595.01 256536.68186551452,325599.1077373683 256533.213728005,325603.35641361703 256514.58000000002,325595.01 256519.5063066827,325615.98092460836 256515.50776376593,325619.01012184616 256514.58000000002,325595.01 256534.11797257603,325608.5310153957 256528.62113681075,325612.1646115812 256514.58000000002,325595.01 256525.1336384612,325616.9954150423 256476.51920417312,325548.3388967624 256466.48,325566.0 256447.45674267667,325548.1689851131 256442.11506028284,325548.9713829198 256446.76,325568.78 256421.45914612032,325585.5545659186 256420.9272355867,325592.8155178189 256442.1272516249,325590.8054889962 256421.86375518327,325571.11209018977 256424.41934558912,325565.3936087664 256443.42564086884,325575.2256449402 256428.02747078784,325561.1521387038 256432.81847373705,325551.6411236147 256446.76,325568.78 256471.70539532922,325546.43247607787 256436.59174193325,325546.6872274656 256446.76,325568.78 256429.4938712842,325682.31476582563 256433.31957877614,325686.6398247313 256454.1571279353,325681.2115556226 256432.21600782304,325691.5558320577 256503.8693813177,325728.9441826494 256493.83000000002,325710.31 256516.04041719504,325708.0468210282 256515.91883646572,325717.09846107324 256493.83000000002,325710.31 256511.30664781717,325720.41806624405\" opacity=\"0.8\" /></g></svg>"
      ],
      "text/plain": [
       "<LINESTRING (256493.83 325710.31, 256483.354 325729.254, 256493.83 325710.31...>"
      ]
     },
     "execution_count": 270,
     "metadata": {},
     "output_type": "execute_result"
    }
   ],
   "source": [
    "tour_line = LineString(tour)\n",
    "tour_line"
   ]
  },
  {
   "cell_type": "code",
   "execution_count": 271,
   "metadata": {},
   "outputs": [
    {
     "data": {
      "text/plain": [
       "<matplotlib.axes._subplots.AxesSubplot at 0x7f51b8623640>"
      ]
     },
     "execution_count": 271,
     "metadata": {},
     "output_type": "execute_result"
    },
    {
     "data": {
      "image/png": "[encoded data removed]",
      "text/plain": [
       "<Figure size 640x480 with 1 Axes>"
      ]
     },
     "metadata": {},
     "output_type": "display_data"
    }
   ],
   "source": [
    "ax = edge_points.plot()\n",
    "selected_roads.plot(ax=ax)\n",
    "gdf_tour = gpd.GeoDataFrame(geometry=[tour_line])\n",
    "gdf_tour.plot(ax=ax,color='red')"
   ]
  },
  {
   "cell_type": "code",
   "execution_count": 237,
   "metadata": {},
   "outputs": [],
   "source": [
    "gdf_tour.crs = 'EPSG:27700'\n",
    "gdf_tour_gps = gdf_tour.to_crs('EPSG:4326')"
   ]
  },
  {
   "cell_type": "code",
   "execution_count": 236,
   "metadata": {},
   "outputs": [],
   "source": [
    "gdf_tour.to_file('tour.shp')"
   ]
  },
  {
   "cell_type": "code",
   "execution_count": 238,
   "metadata": {},
   "outputs": [],
   "source": [
    "gdf_tour_gps.to_file('tour_gps.shp')"
   ]
  },
  {
   "cell_type": "code",
   "execution_count": 264,
   "metadata": {},
   "outputs": [],
   "source": [
    "from pymavlink.mavwp import MAVWPLoader\n",
    "from pymavlink.dialects.v20.common import MAVLink_mission_item_int_message, MAV_CMD_NAV_TAKEOFF, MAV_CMD_NAV_LAND"
   ]
  },
  {
   "cell_type": "code",
   "execution_count": 272,
   "metadata": {},
   "outputs": [
    {
     "data": {
      "text/plain": [
       "(-4.130689812165837, 52.80995672644571)"
      ]
     },
     "execution_count": 272,
     "metadata": {},
     "output_type": "execute_result"
    }
   ],
   "source": [
    "gdf_tour_gps['geometry'][0].coords[0]"
   ]
  },
  {
   "cell_type": "code",
   "execution_count": 265,
   "metadata": {},
   "outputs": [],
   "source": [
    "alt = 20\n",
    "alt_frame = 3\n",
    "wp = MAVWPLoader()\n",
    "takeoff_cmd = MAVLink_mission_item_int_message(\n",
    "            1, # wp.target_system,\n",
    "            1, # wp.target_component,\n",
    "            0, # wp.seq,\n",
    "            alt_frame, # wp.frame,\n",
    "            MAV_CMD_NAV_TAKEOFF, # wp.command,\n",
    "            0, # wp.current,\n",
    "            1, # wp.autocontinue,\n",
    "            0, # wp.param1,\n",
    "            0, # wp.param2,\n",
    "            0, # wp.param3,\n",
    "            0, # wp.param4,\n",
    "            0, # int(wp.x*1.0e7),\n",
    "            0, # int(wp.y*1.0e7),\n",
    "            alt) # wp.z\n",
    "wp.add(takeoff_cmd)"
   ]
  },
  {
   "cell_type": "code",
   "execution_count": 266,
   "metadata": {},
   "outputs": [],
   "source": [
    "for pt in gdf_tour_gps['geometry'][0].coords:\n",
    "    wp.add_latlonalt(pt[1],pt[0],20.0)"
   ]
  },
  {
   "cell_type": "code",
   "execution_count": null,
   "metadata": {},
   "outputs": [],
   "source": [
    "land_cmd = MAVLink_mission_item_int_message(\n",
    "            1, # wp.target_system,\n",
    "            1, # wp.target_component,\n",
    "            0, # wp.seq,\n",
    "            alt_frame, # wp.frame,\n",
    "            MAV_CMD_NAV_LAND, # wp.command,\n",
    "            0, # wp.current,\n",
    "            1, # wp.autocontinue,\n",
    "            0, # wp.param1,\n",
    "            0, # wp.param2,\n",
    "            0, # wp.param3,\n",
    "            0, # wp.param4,\n",
    "            int(gdf_tour_gps['geometry'][0].coords[0][1]*1.0e7), # int(wp.x*1.0e7), lat\n",
    "            int(gdf_tour_gps['geometry'][0].coords[0][0]*1.0e7), # int(wp.y*1.0e7), lon\n",
    "            0) # wp.z\n",
    "wp.add(takeoff_cmd)"
   ]
  },
  {
   "cell_type": "code",
   "execution_count": null,
   "metadata": {},
   "outputs": [],
   "source": [
    "    \n",
    "file_name = 'mission.txt'\n",
    "wp.save(file_name)\n",
    "\n",
    "%cat mission.txt"
   ]
  },
  {
   "cell_type": "code",
   "execution_count": null,
   "metadata": {},
   "outputs": [],
   "source": [
    "        return "
   ]
  }
 ],
 "metadata": {
  "kernelspec": {
   "display_name": "Python 3",
   "language": "python",
   "name": "python3"
  },
  "language_info": {
   "codemirror_mode": {
    "name": "ipython",
    "version": 3
   },
   "file_extension": ".py",
   "mimetype": "text/x-python",
   "name": "python",
   "nbconvert_exporter": "python",
   "pygments_lexer": "ipython3",
   "version": "3.8.10"
  }
 },
 "nbformat": 4,
 "nbformat_minor": 2
}

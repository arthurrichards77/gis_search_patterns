{
 "cells": [
  {
   "cell_type": "code",
   "execution_count": 1,
   "metadata": {},
   "outputs": [],
   "source": [
    "import geopandas as gpd"
   ]
  },
  {
   "cell_type": "code",
   "execution_count": 2,
   "metadata": {},
   "outputs": [
    {
     "data": {
      "text/html": [
       "<div>\n",
       "<style scoped>\n",
       "    .dataframe tbody tr th:only-of-type {\n",
       "        vertical-align: middle;\n",
       "    }\n",
       "\n",
       "    .dataframe tbody tr th {\n",
       "        vertical-align: top;\n",
       "    }\n",
       "\n",
       "    .dataframe thead th {\n",
       "        text-align: right;\n",
       "    }\n",
       "</style>\n",
       "<table border=\"1\" class=\"dataframe\">\n",
       "  <thead>\n",
       "    <tr style=\"text-align: right;\">\n",
       "      <th></th>\n",
       "      <th>ID</th>\n",
       "      <th>DISTNAME</th>\n",
       "      <th>ROADNUMBER</th>\n",
       "      <th>CLASSIFICA</th>\n",
       "      <th>DRAWLEVEL</th>\n",
       "      <th>OVERRIDE</th>\n",
       "      <th>FEATCODE</th>\n",
       "      <th>geometry</th>\n",
       "    </tr>\n",
       "  </thead>\n",
       "  <tbody>\n",
       "    <tr>\n",
       "      <th>0</th>\n",
       "      <td>ED8E3F1E-3ADA-40A6-8D96-B9CE5246135F</td>\n",
       "      <td>NaN</td>\n",
       "      <td>NaN</td>\n",
       "      <td>Local Road</td>\n",
       "      <td>0</td>\n",
       "      <td>F</td>\n",
       "      <td>15760</td>\n",
       "      <td>LINESTRING Z (248668.970 387486.850 0.000, 248...</td>\n",
       "    </tr>\n",
       "    <tr>\n",
       "      <th>1</th>\n",
       "      <td>77845DFB-ECFF-4DD4-A484-506845DF2435</td>\n",
       "      <td>NaN</td>\n",
       "      <td>NaN</td>\n",
       "      <td>Restricted Local Access Road</td>\n",
       "      <td>0</td>\n",
       "      <td>F</td>\n",
       "      <td>15762</td>\n",
       "      <td>LINESTRING Z (248833.550 387822.120 0.000, 248...</td>\n",
       "    </tr>\n",
       "    <tr>\n",
       "      <th>2</th>\n",
       "      <td>5E0208DE-B110-4963-BAA2-1DDB71FAF6BD</td>\n",
       "      <td>NaN</td>\n",
       "      <td>NaN</td>\n",
       "      <td>Local Road</td>\n",
       "      <td>0</td>\n",
       "      <td>F</td>\n",
       "      <td>15760</td>\n",
       "      <td>LINESTRING Z (248833.550 387822.120 0.000, 248...</td>\n",
       "    </tr>\n",
       "    <tr>\n",
       "      <th>3</th>\n",
       "      <td>08461678-B973-45ED-93CA-B3BABD98BC75</td>\n",
       "      <td>NaN</td>\n",
       "      <td>NaN</td>\n",
       "      <td>Restricted Local Access Road</td>\n",
       "      <td>0</td>\n",
       "      <td>F</td>\n",
       "      <td>15762</td>\n",
       "      <td>LINESTRING Z (248753.190 387361.020 0.000, 248...</td>\n",
       "    </tr>\n",
       "    <tr>\n",
       "      <th>4</th>\n",
       "      <td>2BE50484-C47E-46A4-8FDB-BE3BA4CBE107</td>\n",
       "      <td>NaN</td>\n",
       "      <td>NaN</td>\n",
       "      <td>Restricted Local Access Road</td>\n",
       "      <td>0</td>\n",
       "      <td>F</td>\n",
       "      <td>15762</td>\n",
       "      <td>LINESTRING Z (248813.120 387329.190 0.000, 248...</td>\n",
       "    </tr>\n",
       "  </tbody>\n",
       "</table>\n",
       "</div>"
      ],
      "text/plain": [
       "                                     ID DISTNAME ROADNUMBER   \n",
       "0  ED8E3F1E-3ADA-40A6-8D96-B9CE5246135F      NaN        NaN  \\\n",
       "1  77845DFB-ECFF-4DD4-A484-506845DF2435      NaN        NaN   \n",
       "2  5E0208DE-B110-4963-BAA2-1DDB71FAF6BD      NaN        NaN   \n",
       "3  08461678-B973-45ED-93CA-B3BABD98BC75      NaN        NaN   \n",
       "4  2BE50484-C47E-46A4-8FDB-BE3BA4CBE107      NaN        NaN   \n",
       "\n",
       "                     CLASSIFICA DRAWLEVEL OVERRIDE  FEATCODE   \n",
       "0                    Local Road         0        F     15760  \\\n",
       "1  Restricted Local Access Road         0        F     15762   \n",
       "2                    Local Road         0        F     15760   \n",
       "3  Restricted Local Access Road         0        F     15762   \n",
       "4  Restricted Local Access Road         0        F     15762   \n",
       "\n",
       "                                            geometry  \n",
       "0  LINESTRING Z (248668.970 387486.850 0.000, 248...  \n",
       "1  LINESTRING Z (248833.550 387822.120 0.000, 248...  \n",
       "2  LINESTRING Z (248833.550 387822.120 0.000, 248...  \n",
       "3  LINESTRING Z (248753.190 387361.020 0.000, 248...  \n",
       "4  LINESTRING Z (248813.120 387329.190 0.000, 248...  "
      ]
     },
     "execution_count": 2,
     "metadata": {},
     "output_type": "execute_result"
    }
   ],
   "source": [
    "roads = gpd.read_file('SH_Road.shp')\n",
    "roads.head()"
   ]
  },
  {
   "cell_type": "code",
   "execution_count": 3,
   "metadata": {},
   "outputs": [
    {
     "data": {
      "text/html": [
       "<div>\n",
       "<style scoped>\n",
       "    .dataframe tbody tr th:only-of-type {\n",
       "        vertical-align: middle;\n",
       "    }\n",
       "\n",
       "    .dataframe tbody tr th {\n",
       "        vertical-align: top;\n",
       "    }\n",
       "\n",
       "    .dataframe thead th {\n",
       "        text-align: right;\n",
       "    }\n",
       "</style>\n",
       "<table border=\"1\" class=\"dataframe\">\n",
       "  <thead>\n",
       "    <tr style=\"text-align: right;\">\n",
       "      <th></th>\n",
       "      <th>ID</th>\n",
       "      <th>DISTNAME</th>\n",
       "      <th>ROADNUMBER</th>\n",
       "      <th>CLASSIFICA</th>\n",
       "      <th>DRAWLEVEL</th>\n",
       "      <th>OVERRIDE</th>\n",
       "      <th>FEATCODE</th>\n",
       "      <th>geometry</th>\n",
       "    </tr>\n",
       "  </thead>\n",
       "  <tbody>\n",
       "    <tr>\n",
       "      <th>39196</th>\n",
       "      <td>0807C27F-5B78-4265-8E5B-32DE499D846A</td>\n",
       "      <td>NaN</td>\n",
       "      <td>NaN</td>\n",
       "      <td>Restricted Local Access Road</td>\n",
       "      <td>0</td>\n",
       "      <td>F</td>\n",
       "      <td>15762</td>\n",
       "      <td>LINESTRING Z (256493.830 325710.310 0.000, 256...</td>\n",
       "    </tr>\n",
       "  </tbody>\n",
       "</table>\n",
       "</div>"
      ],
      "text/plain": [
       "                                         ID DISTNAME ROADNUMBER   \n",
       "39196  0807C27F-5B78-4265-8E5B-32DE499D846A      NaN        NaN  \\\n",
       "\n",
       "                         CLASSIFICA DRAWLEVEL OVERRIDE  FEATCODE   \n",
       "39196  Restricted Local Access Road         0        F     15762  \\\n",
       "\n",
       "                                                geometry  \n",
       "39196  LINESTRING Z (256493.830 325710.310 0.000, 256...  "
      ]
     },
     "execution_count": 3,
     "metadata": {},
     "output_type": "execute_result"
    }
   ],
   "source": [
    "selected_ids = ['131324F8-FBCD-4389-B15E-B4EF4021D593',\n",
    "                '1D5F1288-107D-485D-8CF2-C1117D328C9B',\n",
    "                'FE5D98A4-BCB2-4016-84CD-045B94858A3F']\n",
    "selected_ids = ['0807C27F-5B78-4265-8E5B-32DE499D846A']\n",
    "selected_roads = roads[roads['ID'].isin(selected_ids)]\n",
    "selected_roads"
   ]
  },
  {
   "cell_type": "code",
   "execution_count": 4,
   "metadata": {},
   "outputs": [
    {
     "data": {
      "text/plain": [
       "<Axes: >"
      ]
     },
     "execution_count": 4,
     "metadata": {},
     "output_type": "execute_result"
    },
    {
     "data": {
      "image/png": "[encoded data removed]",
      "text/plain": [
       "<Figure size 640x480 with 1 Axes>"
      ]
     },
     "metadata": {},
     "output_type": "display_data"
    }
   ],
   "source": [
    "selected_roads.plot()"
   ]
  },
  {
   "cell_type": "code",
   "execution_count": 5,
   "metadata": {},
   "outputs": [],
   "source": [
    "search_margin = 20"
   ]
  },
  {
   "cell_type": "code",
   "execution_count": 6,
   "metadata": {},
   "outputs": [
    {
     "data": {
      "text/html": [
       "<div>\n",
       "<style scoped>\n",
       "    .dataframe tbody tr th:only-of-type {\n",
       "        vertical-align: middle;\n",
       "    }\n",
       "\n",
       "    .dataframe tbody tr th {\n",
       "        vertical-align: top;\n",
       "    }\n",
       "\n",
       "    .dataframe thead th {\n",
       "        text-align: right;\n",
       "    }\n",
       "</style>\n",
       "<table border=\"1\" class=\"dataframe\">\n",
       "  <thead>\n",
       "    <tr style=\"text-align: right;\">\n",
       "      <th></th>\n",
       "      <th>minx</th>\n",
       "      <th>miny</th>\n",
       "      <th>maxx</th>\n",
       "      <th>maxy</th>\n",
       "    </tr>\n",
       "  </thead>\n",
       "  <tbody>\n",
       "    <tr>\n",
       "      <th>39196</th>\n",
       "      <td>256441.08</td>\n",
       "      <td>325566.0</td>\n",
       "      <td>256514.58</td>\n",
       "      <td>325710.31</td>\n",
       "    </tr>\n",
       "  </tbody>\n",
       "</table>\n",
       "</div>"
      ],
      "text/plain": [
       "            minx      miny       maxx       maxy\n",
       "39196  256441.08  325566.0  256514.58  325710.31"
      ]
     },
     "execution_count": 6,
     "metadata": {},
     "output_type": "execute_result"
    }
   ],
   "source": [
    "selected_roads.bounds"
   ]
  },
  {
   "cell_type": "code",
   "execution_count": 7,
   "metadata": {},
   "outputs": [
    {
     "data": {
      "text/plain": [
       "(256421.08000000002, 325546.0, 256534.58000000002, 325730.31)"
      ]
     },
     "execution_count": 7,
     "metadata": {},
     "output_type": "execute_result"
    }
   ],
   "source": [
    "all_bounds = (min(selected_roads.bounds['minx'])-search_margin,\n",
    "              min(selected_roads.bounds['miny'])-search_margin,\n",
    "              max(selected_roads.bounds['maxx'])+search_margin,\n",
    "              max(selected_roads.bounds['maxy'])+search_margin)\n",
    "all_bounds"
   ]
  },
  {
   "cell_type": "code",
   "execution_count": 8,
   "metadata": {},
   "outputs": [
    {
     "name": "stdout",
     "output_type": "stream",
     "text": [
      "(256477.83000000002, 325638.155) 184.30999999999767\n"
     ]
    }
   ],
   "source": [
    "max_extent = max((all_bounds[2]-all_bounds[0],\n",
    "                  all_bounds[3]-all_bounds[1]))\n",
    "centre = (0.5*(all_bounds[2]+all_bounds[0]),\n",
    "          0.5*(all_bounds[3]+all_bounds[1]))\n",
    "print(centre,max_extent)"
   ]
  },
  {
   "cell_type": "code",
   "execution_count": 9,
   "metadata": {},
   "outputs": [],
   "source": [
    "from scipy.stats.qmc import PoissonDisk"
   ]
  },
  {
   "cell_type": "code",
   "execution_count": 10,
   "metadata": {},
   "outputs": [],
   "source": [
    "import numpy as np"
   ]
  },
  {
   "cell_type": "code",
   "execution_count": 11,
   "metadata": {},
   "outputs": [
    {
     "name": "stdout",
     "output_type": "stream",
     "text": [
      "[[256399.58456153 325651.13904583]\n",
      " [256397.43089145 325660.44008969]\n",
      " [256407.6666277  325650.23940406]\n",
      " ...\n",
      " [256569.4048977  325546.64247103]\n",
      " [256562.61899551 325546.13527578]\n",
      " [256521.39278312 325591.8118874 ]] 829\n"
     ]
    }
   ],
   "source": [
    "radius = 5.0\n",
    "num_samples = (max_extent/radius)**2\n",
    "sampler = PoissonDisk(d=2, radius=radius/max_extent)\n",
    "scaled_samples = max_extent*(sampler.random(num_samples)-0.5)\n",
    "num_samples = np.size(scaled_samples,0)\n",
    "samples = scaled_samples + np.tile(np.array(centre),(num_samples,1))\n",
    "print(samples,num_samples)"
   ]
  },
  {
   "cell_type": "code",
   "execution_count": 12,
   "metadata": {},
   "outputs": [],
   "source": [
    "from shapely import Point, LineString"
   ]
  },
  {
   "cell_type": "code",
   "execution_count": 13,
   "metadata": {},
   "outputs": [],
   "source": [
    "sample_points = [Point(samples[ii,0],samples[ii,1]) for ii in range(num_samples)]"
   ]
  },
  {
   "cell_type": "code",
   "execution_count": 14,
   "metadata": {},
   "outputs": [],
   "source": [
    "sample_points = gpd.GeoSeries(sample_points,crs=roads.crs)"
   ]
  },
  {
   "cell_type": "code",
   "execution_count": 15,
   "metadata": {},
   "outputs": [
    {
     "data": {
      "text/plain": [
       "<Axes: >"
      ]
     },
     "execution_count": 15,
     "metadata": {},
     "output_type": "execute_result"
    },
    {
     "data": {
      "image/png": "[encoded data removed]",
      "text/plain": [
       "<Figure size 640x480 with 1 Axes>"
      ]
     },
     "metadata": {},
     "output_type": "display_data"
    }
   ],
   "source": [
    "ax = sample_points.plot()\n",
    "selected_roads.plot(ax=ax,color='red')"
   ]
  },
  {
   "cell_type": "code",
   "execution_count": 16,
   "metadata": {},
   "outputs": [
    {
     "data": {
      "text/plain": [
       "[48.047594909618105,\n",
       " 51.06956869612146,\n",
       " 39.91669566969987,\n",
       " 46.977453515737444,\n",
       " 42.57569043728549,\n",
       " 41.64677975213255,\n",
       " 52.73933284685631,\n",
       " 51.87848456146501,\n",
       " 56.327692620029495,\n",
       " 40.426130555484846,\n",
       " 53.69929763768381,\n",
       " 47.74701216946452,\n",
       " 55.015589639200535,\n",
       " 43.001679066469976,\n",
       " 37.147887091552654,\n",
       " 34.56941965140776,\n",
       " 29.880095798304264,\n",
       " 33.4686635581115,\n",
       " 28.449021691840173,\n",
       " 59.57342875076911,\n",
       " 57.14367471483393,\n",
       " 48.66135458620208,\n",
       " 58.1934717825734,\n",
       " 51.23716446609396,\n",
       " 45.16621620028508,\n",
       " 40.216564700112606,\n",
       " 52.85869021742585,\n",
       " 37.94066948580204,\n",
       " 45.097671896319575,\n",
       " 60.796690821361125,\n",
       " 58.7142556340441,\n",
       " 51.02033306531131,\n",
       " 62.18171173010808,\n",
       " 24.32407532151618,\n",
       " 31.853841161935115,\n",
       " 28.32138422593818,\n",
       " 47.033272781890865,\n",
       " 50.184880997189445,\n",
       " 38.564361935679706,\n",
       " 55.97338482986032,\n",
       " 44.02718917215145,\n",
       " 43.5259940831076,\n",
       " 49.04508395019287,\n",
       " 55.63978469601509,\n",
       " 35.87168271178397,\n",
       " 38.83609252462821,\n",
       " 44.787655099452984,\n",
       " 37.16895534379798,\n",
       " 41.542625189610156,\n",
       " 35.7137151667775,\n",
       " 46.876973800678876,\n",
       " 31.682772772591132,\n",
       " 43.80504022594694,\n",
       " 36.11934328028921,\n",
       " 40.529609402507596,\n",
       " 53.661103452603136,\n",
       " 51.28993205691532,\n",
       " 48.712496760488165,\n",
       " 21.71090264636505,\n",
       " 29.45594901625029,\n",
       " 21.82251086736388,\n",
       " 32.03270306973605,\n",
       " 29.825094211026176,\n",
       " 61.77398202107436,\n",
       " 60.03677758722594,\n",
       " 53.982292839454736,\n",
       " 58.18729426301141,\n",
       " 54.03069944110233,\n",
       " 59.1617802188614,\n",
       " 58.49471357889996,\n",
       " 66.95619825365127,\n",
       " 65.06478847005114,\n",
       " 60.34445434387614,\n",
       " 21.758820048708248,\n",
       " 34.23833680525575,\n",
       " 67.8892134677351,\n",
       " 63.854250089966996,\n",
       " 63.10013655652528,\n",
       " 30.302356862988912,\n",
       " 38.5822753398102,\n",
       " 31.79986926838523,\n",
       " 59.64548724009513,\n",
       " 27.199303322501205,\n",
       " 28.916226401066933,\n",
       " 64.0324858482873,\n",
       " 38.789407456180726,\n",
       " 24.489753127087454,\n",
       " 26.59778856868422,\n",
       " 27.480173119203624,\n",
       " 36.889210457692805,\n",
       " 16.972736317559328,\n",
       " 13.113270626854776,\n",
       " 20.65148832513342,\n",
       " 30.695561087369658,\n",
       " 26.584703475217363,\n",
       " 22.70765686846175,\n",
       " 24.662965558139685,\n",
       " 32.26520304016975,\n",
       " 17.71050750264358,\n",
       " 21.555522619876356,\n",
       " 70.11070120221535,\n",
       " 56.39353539596982,\n",
       " 69.9711470251788,\n",
       " 64.62909258913533,\n",
       " 20.426600303190487,\n",
       " 19.038840535162695,\n",
       " 47.238965252380446,\n",
       " 73.44863361311985,\n",
       " 75.42128400222785,\n",
       " 11.250360529935742,\n",
       " 11.690237887861123,\n",
       " 22.65881171322961,\n",
       " 17.42309392118431,\n",
       " 6.5628155427843735,\n",
       " 5.453763165067088,\n",
       " 11.496751631325735,\n",
       " 67.61768867533927,\n",
       " 58.09653446440349,\n",
       " 73.84433662090126,\n",
       " 80.16682495157562,\n",
       " 54.11359467779727,\n",
       " 14.634609489077139,\n",
       " 1.0068012020212511,\n",
       " 1.201115037936701,\n",
       " 7.429308117591996,\n",
       " 5.251331066465777,\n",
       " 4.237396880828547,\n",
       " 0.718883734864798,\n",
       " 34.71435530257013,\n",
       " 28.24467952397781,\n",
       " 41.42188653231872,\n",
       " 18.37655941222207,\n",
       " 16.838886326620532,\n",
       " 34.830108422313664,\n",
       " 23.402082336408963,\n",
       " 29.10619099352805,\n",
       " 22.98053124767776,\n",
       " 29.43365485888756,\n",
       " 33.42990515141191,\n",
       " 52.939407960182166,\n",
       " 41.94564075907697,\n",
       " 13.837539997886193,\n",
       " 8.752959379495412,\n",
       " 12.762407056595736,\n",
       " 48.607008226907595,\n",
       " 59.93674825590867,\n",
       " 66.40494791629744,\n",
       " 53.59497205428952,\n",
       " 53.905624314055395,\n",
       " 49.191370403025026,\n",
       " 44.125347109405055,\n",
       " 16.643671719731007,\n",
       " 9.577992255024096,\n",
       " 11.990390086182202,\n",
       " 45.77307935584185,\n",
       " 3.8237609097217984,\n",
       " 5.548137408213462,\n",
       " 7.8429754206634845,\n",
       " 2.752530574594502,\n",
       " 43.29195100493681,\n",
       " 16.824831222362,\n",
       " 64.21277547690305,\n",
       " 21.85012765000566,\n",
       " 12.926032683844262,\n",
       " 4.746709656544746,\n",
       " 9.522812888168742,\n",
       " 6.756228735016808,\n",
       " 2.9144260307060246,\n",
       " 2.9686227998771155,\n",
       " 20.24894369394379,\n",
       " 20.386779068392496,\n",
       " 14.03819782968944,\n",
       " 42.8992707770149,\n",
       " 47.425613884276096,\n",
       " 1.3463362133711307,\n",
       " 1.7747864344219901,\n",
       " 3.163104996724545,\n",
       " 9.710381365110862,\n",
       " 5.408921390066053,\n",
       " 0.21062360880112452,\n",
       " 0.582692410207164,\n",
       " 2.1671257395604413,\n",
       " 10.754215027230597,\n",
       " 4.429360036868083,\n",
       " 50.17340684381338,\n",
       " 46.859904610710196,\n",
       " 54.8985741892174,\n",
       " 51.62168673133054,\n",
       " 24.09198030930356,\n",
       " 17.347304471897708,\n",
       " 23.81830795345008,\n",
       " 28.076587127748418,\n",
       " 30.2675863515261,\n",
       " 38.46067659941363,\n",
       " 31.528538419366853,\n",
       " 13.038635870039021,\n",
       " 23.304715409515513,\n",
       " 13.175008257873145,\n",
       " 32.652505273660324,\n",
       " 37.61257543482086,\n",
       " 22.397332822425486,\n",
       " 27.756019628859953,\n",
       " 11.727893521909447,\n",
       " 7.047650304897367,\n",
       " 10.290270373624024,\n",
       " 19.091326762584703,\n",
       " 26.11819016882254,\n",
       " 20.763088200514794,\n",
       " 17.60589264421881,\n",
       " 19.637436310418135,\n",
       " 18.4353486958786,\n",
       " 13.374349773837054,\n",
       " 27.346920776925842,\n",
       " 26.72078647899253,\n",
       " 1.2017132694377501,\n",
       " 1.8418883129108292,\n",
       " 9.282491132550495,\n",
       " 4.762173165285994,\n",
       " 70.69460226677839,\n",
       " 58.957501827854756,\n",
       " 11.170523069645492,\n",
       " 8.31051269025019,\n",
       " 5.405411286717933,\n",
       " 16.515110470630866,\n",
       " 14.415156746916498,\n",
       " 9.997687812041633,\n",
       " 5.749019981123557,\n",
       " 12.54586806652197,\n",
       " 37.34449897962554,\n",
       " 30.499160031188453,\n",
       " 34.27149945859868,\n",
       " 37.78781966715924,\n",
       " 30.132213039671417,\n",
       " 12.158975537892339,\n",
       " 18.722302736129645,\n",
       " 6.001303830505333,\n",
       " 0.4594271482483551,\n",
       " 36.06541881454204,\n",
       " 17.829706657006053,\n",
       " 39.81745089735131,\n",
       " 37.08836340698,\n",
       " 5.069051277504022,\n",
       " 1.9470886344133462,\n",
       " 41.290741574118705,\n",
       " 36.0311469536484,\n",
       " 38.11473576564191,\n",
       " 41.260133300445716,\n",
       " 30.757098597343656,\n",
       " 33.85907036491459,\n",
       " 11.10289346403644,\n",
       " 7.6259219280468775,\n",
       " 0.3339666502207894,\n",
       " 7.626803363331283,\n",
       " 49.45266173427456,\n",
       " 53.890736416104396,\n",
       " 41.57744063321639,\n",
       " 7.910651420201669,\n",
       " 7.047894671963729,\n",
       " 0.8696486020784421,\n",
       " 29.560251842529343,\n",
       " 27.5865420406945,\n",
       " 36.98193047323777,\n",
       " 43.14848884595631,\n",
       " 32.39933466901159,\n",
       " 31.89806099108584,\n",
       " 13.500525251271693,\n",
       " 11.8380879327068,\n",
       " 22.95166879041957,\n",
       " 15.695840485005828,\n",
       " 7.530033279266259,\n",
       " 8.401087845744023,\n",
       " 43.371934806897364,\n",
       " 32.42311355566581,\n",
       " 37.04700866891776,\n",
       " 32.33702316290798,\n",
       " 42.030889764048034,\n",
       " 28.868185021424367,\n",
       " 36.90227922154476,\n",
       " 30.196191742400337,\n",
       " 38.75617309615649,\n",
       " 20.871247772395378,\n",
       " 16.823128685865886,\n",
       " 25.818004187535568,\n",
       " 53.87222130679038,\n",
       " 52.47789286088731,\n",
       " 48.21835697395202,\n",
       " 53.346123740545465,\n",
       " 7.718565334577021,\n",
       " 21.79323182254489,\n",
       " 30.181081012078444,\n",
       " 34.38829523305391,\n",
       " 33.265418357672274,\n",
       " 42.21689374400693,\n",
       " 32.56015478218519,\n",
       " 28.43773057416373,\n",
       " 23.44104976475715,\n",
       " 22.924043732405543,\n",
       " 25.409025318060884,\n",
       " 37.8150684797914,\n",
       " 65.27417533511289,\n",
       " 22.24543519225825,\n",
       " 19.292604521545844,\n",
       " 22.769410185091495,\n",
       " 17.457937255147556,\n",
       " 17.086332930626245,\n",
       " 60.476319715563164,\n",
       " 6.530647607447499,\n",
       " 14.628974764059231,\n",
       " 23.512734271231785,\n",
       " 4.724444264941033,\n",
       " 5.141196636894625,\n",
       " 10.2930796462742,\n",
       " 14.616821726012423,\n",
       " 25.990685775775493,\n",
       " 35.49712514852898,\n",
       " 27.03705330471965,\n",
       " 12.728806608747968,\n",
       " 7.764985450074199,\n",
       " 17.89348128282237,\n",
       " 19.69337096453722,\n",
       " 18.03251033326587,\n",
       " 13.23091891572017,\n",
       " 13.373087180541356,\n",
       " 16.71449304448287,\n",
       " 12.007983713512363,\n",
       " 33.83196887443439,\n",
       " 26.08488931570295,\n",
       " 34.43204034746937,\n",
       " 28.027851923028063,\n",
       " 29.310757990504424,\n",
       " 19.15993816955639,\n",
       " 21.25789648326034,\n",
       " 19.262252952278942,\n",
       " 7.744063344702264,\n",
       " 1.5756169169690382,\n",
       " 40.92181637084836,\n",
       " 25.3489021890468,\n",
       " 34.50952615914204,\n",
       " 28.83610800639465,\n",
       " 28.305802474692975,\n",
       " 9.871140598554307,\n",
       " 33.42786711438408,\n",
       " 50.474424179400806,\n",
       " 47.83562715061129,\n",
       " 15.164807880331296,\n",
       " 7.271806957864033,\n",
       " 20.268979370537892,\n",
       " 4.172254438697116,\n",
       " 39.90123597264023,\n",
       " 40.89319797118755,\n",
       " 27.322240864644165,\n",
       " 32.38772882078668,\n",
       " 26.351271123658822,\n",
       " 23.043346938402234,\n",
       " 5.3422906948645625,\n",
       " 6.9064530565555,\n",
       " 2.9675704262951808,\n",
       " 0.6332676314313264,\n",
       " 35.95989585833525,\n",
       " 30.832284774639955,\n",
       " 25.270328725789035,\n",
       " 24.722291735850952,\n",
       " 18.615843214327317,\n",
       " 46.68079877973994,\n",
       " 19.08670771031936,\n",
       " 8.804431010942116,\n",
       " 14.404174988624444,\n",
       " 25.184818043841776,\n",
       " 43.67933763688263,\n",
       " 50.42394383244105,\n",
       " 25.659519520614108,\n",
       " 14.966109308777066,\n",
       " 5.549998431658974,\n",
       " 47.30682369710484,\n",
       " 9.862653554451292,\n",
       " 25.3041663744377,\n",
       " 20.14131025106455,\n",
       " 20.41030829004735,\n",
       " 32.056010772131366,\n",
       " 1.8911746209658065,\n",
       " 5.075422965006466,\n",
       " 1.5600052476835538,\n",
       " 25.477068217501785,\n",
       " 37.210178918967614,\n",
       " 31.991427540914255,\n",
       " 42.16218831776521,\n",
       " 50.9458607265815,\n",
       " 45.43319561075582,\n",
       " 6.991595101630316,\n",
       " 3.1442880140895664,\n",
       " 0.5712844011829596,\n",
       " 7.51469530197723,\n",
       " 13.217734087799947,\n",
       " 6.07590939988053,\n",
       " 0.4597094858762685,\n",
       " 9.83807821752995,\n",
       " 18.593425139427495,\n",
       " 24.83732959116717,\n",
       " 18.240978081456593,\n",
       " 13.333910600697434,\n",
       " 12.935581943717724,\n",
       " 42.614997982404475,\n",
       " 10.316303860874232,\n",
       " 7.421453016996892,\n",
       " 9.810864873700535,\n",
       " 0.3776089473894448,\n",
       " 2.6787776836867745,\n",
       " 9.836930236315721,\n",
       " 3.068070439861692,\n",
       " 1.1610534687307654,\n",
       " 3.9033131556320577,\n",
       " 11.925568082464096,\n",
       " 1.7584091748333288,\n",
       " 3.3582642301369066,\n",
       " 6.569020846131221,\n",
       " 2.51811313865466,\n",
       " 13.485584440896455,\n",
       " 20.188968595233057,\n",
       " 2.3061939958215225,\n",
       " 4.11568644962329,\n",
       " 5.765939609001819,\n",
       " 5.112537801897748,\n",
       " 6.934619206450972,\n",
       " 14.51064114852151,\n",
       " 12.871648499537505,\n",
       " 3.296304868363018,\n",
       " 7.179574196804438,\n",
       " 1.1541514380121198,\n",
       " 15.33421319853136,\n",
       " 20.26128712954656,\n",
       " 12.015693631986611,\n",
       " 14.479078917842395,\n",
       " 12.918560767128005,\n",
       " 20.336285838534735,\n",
       " 20.69462288622385,\n",
       " 11.748840740249605,\n",
       " 11.952127740074893,\n",
       " 8.93780394998662,\n",
       " 7.258884178730185,\n",
       " 16.001758885823783,\n",
       " 20.647593337329305,\n",
       " 4.110006707667985,\n",
       " 8.909819388456468,\n",
       " 8.153565766065396,\n",
       " 40.88294744787771,\n",
       " 43.31265746319888,\n",
       " 37.16808374535766,\n",
       " 10.009413328835867,\n",
       " 7.158115480877857,\n",
       " 16.636434706073857,\n",
       " 13.258209294304043,\n",
       " 19.902920919535582,\n",
       " 15.505180095753996,\n",
       " 15.50847737507983,\n",
       " 13.273113002225529,\n",
       " 10.24790991279731,\n",
       " 3.274829644020024,\n",
       " 42.829818201295986,\n",
       " 49.57613860426457,\n",
       " 49.35961709398475,\n",
       " 8.271613079087942,\n",
       " 12.158219523001138,\n",
       " 9.002903293256063,\n",
       " 21.540659759608776,\n",
       " 12.332622333409384,\n",
       " 16.397311595284172,\n",
       " 19.280853763947327,\n",
       " 26.5798959815508,\n",
       " 31.25126879463645,\n",
       " 24.659219913446698,\n",
       " 24.149693564093287,\n",
       " 15.238257224349947,\n",
       " 18.32360516606398,\n",
       " 25.49857873542354,\n",
       " 22.934767818292944,\n",
       " 21.390032552082562,\n",
       " 18.796498901078117,\n",
       " 11.16622018205718,\n",
       " 24.611536204132094,\n",
       " 14.819748398377147,\n",
       " 18.478336633603437,\n",
       " 3.52018474027965,\n",
       " 21.001111095924223,\n",
       " 14.957466591115534,\n",
       " 51.861406728180214,\n",
       " 45.35864631471417,\n",
       " 50.78236718448196,\n",
       " 16.876070897218398,\n",
       " 31.497223368107495,\n",
       " 17.3237986935754,\n",
       " 29.06991798665901,\n",
       " 30.209350430409664,\n",
       " 33.602112115827566,\n",
       " 1.0484240734803545,\n",
       " 33.70966306917464,\n",
       " 39.03402786957785,\n",
       " 34.30900369532321,\n",
       " 54.84283412198719,\n",
       " 47.38268206968124,\n",
       " 53.69195762848112,\n",
       " 40.1942773935104,\n",
       " 45.36746435325403,\n",
       " 56.93726729362889,\n",
       " 40.78058951326991,\n",
       " 28.139733589209484,\n",
       " 37.803022265891144,\n",
       " 32.23521480118018,\n",
       " 18.368575800396254,\n",
       " 20.200347073342932,\n",
       " 42.47128047007621,\n",
       " 46.95919249415134,\n",
       " 37.459861552707565,\n",
       " 46.209550683749264,\n",
       " 35.10691680654972,\n",
       " 35.57350390261128,\n",
       " 12.354874773625188,\n",
       " 26.457827279616048,\n",
       " 9.750075774437024,\n",
       " 6.9311462814501565,\n",
       " 3.182383965681879,\n",
       " 16.06896450896946,\n",
       " 18.97459319769407,\n",
       " 46.80163965240878,\n",
       " 29.659274723161687,\n",
       " 9.443977593321991,\n",
       " 19.34756645289741,\n",
       " 39.04115653896321,\n",
       " 40.82527506073769,\n",
       " 45.77235607396787,\n",
       " 9.011672306180595,\n",
       " 10.094903518804896,\n",
       " 13.580611259596301,\n",
       " 2.598862159143333,\n",
       " 25.059145174582284,\n",
       " 25.7532812485684,\n",
       " 32.31059736635766,\n",
       " 30.92795770833191,\n",
       " 23.558585405214874,\n",
       " 3.645183618757338,\n",
       " 21.099325859668216,\n",
       " 29.39102828346697,\n",
       " 10.722028787012782,\n",
       " 2.864456875605329,\n",
       " 21.258678337807076,\n",
       " 20.227954524863666,\n",
       " 54.79619374923201,\n",
       " 52.863388319876684,\n",
       " 51.748736214423886,\n",
       " 47.00934191822052,\n",
       " 2.362975029989147,\n",
       " 21.152831301542495,\n",
       " 10.698875134957214,\n",
       " 3.977815005944141,\n",
       " 3.7677626037995995,\n",
       " 62.57729598864282,\n",
       " 55.01591279065644,\n",
       " 19.76108739088022,\n",
       " 26.727511031188335,\n",
       " 10.595206148030973,\n",
       " 4.487623824639799,\n",
       " 17.041137766227294,\n",
       " 26.413332200765293,\n",
       " 22.10818982352428,\n",
       " 24.5905487163058,\n",
       " 54.2689439936557,\n",
       " 50.66036331140799,\n",
       " 52.835209463361494,\n",
       " 31.285836203759853,\n",
       " 37.09846899801414,\n",
       " 25.51417178097761,\n",
       " 36.59020516053445,\n",
       " 52.4288996474549,\n",
       " 47.28380048959351,\n",
       " 51.9979487692971,\n",
       " 17.08363266623794,\n",
       " 22.94211865715218,\n",
       " 20.65019918568718,\n",
       " 58.285133355795395,\n",
       " 50.03436797160015,\n",
       " 56.04747505437259,\n",
       " 56.452978609622924,\n",
       " 38.985764893080805,\n",
       " 31.65935796606007,\n",
       " 45.63461281820975,\n",
       " 15.204458465569115,\n",
       " 16.878147338280804,\n",
       " 24.512132182016625,\n",
       " 36.71048074420586,\n",
       " 45.7723267910135,\n",
       " 36.14199439958859,\n",
       " 48.03355848670854,\n",
       " 43.06775151802858,\n",
       " 31.206320365908706,\n",
       " 12.624547431944059,\n",
       " 14.613212177854535,\n",
       " 19.77472150135414,\n",
       " 23.287464059426984,\n",
       " 14.996613236898527,\n",
       " 24.03511851463143,\n",
       " 10.916403018268568,\n",
       " 25.786668330480932,\n",
       " 18.75099338998726,\n",
       " 20.046384907007255,\n",
       " 11.340210106461697,\n",
       " 37.39493498817455,\n",
       " 46.53402768518439,\n",
       " 49.58740798081227,\n",
       " 51.64870244579373,\n",
       " 44.3220860489136,\n",
       " 45.2768250888758,\n",
       " 41.11389633437749,\n",
       " 51.69288578779023,\n",
       " 15.915913521495538,\n",
       " 7.986719265517995,\n",
       " 18.29673609083648,\n",
       " 13.075558460214953,\n",
       " 29.75583464461652,\n",
       " 25.474411462715693,\n",
       " 38.47495260030715,\n",
       " 58.71645932041193,\n",
       " 37.65392089837344,\n",
       " 32.56669012012309,\n",
       " 33.01753768131032,\n",
       " 37.02629455514131,\n",
       " 21.19672468951706,\n",
       " 19.334423792377414,\n",
       " 20.572571202961104,\n",
       " 33.499754790247565,\n",
       " 44.23446533652568,\n",
       " 40.0686055772509,\n",
       " 42.84310554192899,\n",
       " 58.189979822107844,\n",
       " 57.368896409053534,\n",
       " 54.04285630031618,\n",
       " 47.756098874625835,\n",
       " 24.940031540360437,\n",
       " 29.378691939698914,\n",
       " 21.210780926154765,\n",
       " 8.191950399507842,\n",
       " 16.02800181525724,\n",
       " 19.440003819466554,\n",
       " 52.48812005490937,\n",
       " 45.87392923980891,\n",
       " 51.608358234086396,\n",
       " 39.53177281937256,\n",
       " 56.08080658496811,\n",
       " 57.424466466443405,\n",
       " 50.50779894026989,\n",
       " 59.85503129780662,\n",
       " 31.900095642083162,\n",
       " 36.387315034346514,\n",
       " 21.129502660527454,\n",
       " 38.45645440994923,\n",
       " 42.57967618262267,\n",
       " 39.45964250281677,\n",
       " 58.662748148644724,\n",
       " 66.84638118798769,\n",
       " 62.57516963827745,\n",
       " 18.804375717149284,\n",
       " 23.139603403575762,\n",
       " 24.46931924613344,\n",
       " 21.227778676338623,\n",
       " 25.688697942892208,\n",
       " 25.326020420087556,\n",
       " 56.37646890692525,\n",
       " 61.33085003667958,\n",
       " 67.29905597170564,\n",
       " 26.312506601989057,\n",
       " 30.440222000375737,\n",
       " 36.539138366749164,\n",
       " 37.99676146840498,\n",
       " 29.62947975266858,\n",
       " 53.578943847678865,\n",
       " 53.99346332539806,\n",
       " 62.110835804781715,\n",
       " 59.86050333396539,\n",
       " 57.86821899137564,\n",
       " 42.130566047847466,\n",
       " 47.095981293074075,\n",
       " 44.504612801615515,\n",
       " 41.91267004940401,\n",
       " 32.20897958241962,\n",
       " 45.0749318080462,\n",
       " 34.02175836176815,\n",
       " 34.49216396759735,\n",
       " 29.528856746252966,\n",
       " 32.163776942473575,\n",
       " 4.693961441310742,\n",
       " 27.038603915123637,\n",
       " 29.56373883966585,\n",
       " 32.204947171311225,\n",
       " 28.528029359133306,\n",
       " 19.936931073574414,\n",
       " 7.398358763218151,\n",
       " 42.83977290310523,\n",
       " 31.622189102730275,\n",
       " 37.42957835345537,\n",
       " 34.941212735697,\n",
       " 52.026427979172176,\n",
       " 39.55552402202767,\n",
       " 63.02789735587769,\n",
       " 57.9690793529321,\n",
       " 46.83748825047466,\n",
       " 29.27760270869268,\n",
       " 34.34912416336917,\n",
       " 36.603276513630796,\n",
       " 24.34531334990857,\n",
       " 31.25375794857322,\n",
       " 63.80226698092103,\n",
       " 60.06687930228912,\n",
       " 58.14761228683585,\n",
       " 64.86425424128646,\n",
       " 52.4385198910959,\n",
       " 60.47789234120967,\n",
       " 37.91170577396548,\n",
       " 36.31330255354076,\n",
       " 46.045779082559235,\n",
       " 41.63942503094245,\n",
       " 59.48944291502872,\n",
       " 62.89045680783093,\n",
       " 67.30515901284505,\n",
       " 67.14026577245298,\n",
       " 65.00490640022288,\n",
       " 71.88987659480215,\n",
       " 64.8998745260048,\n",
       " 46.20820117170603,\n",
       " 57.00568125173252,\n",
       " 39.869656687804316,\n",
       " 42.848667262274276,\n",
       " 41.63847160088976,\n",
       " 68.88288530495032,\n",
       " 40.440424487435074,\n",
       " 46.78563435804767,\n",
       " 51.27930537977361,\n",
       " 48.71141996924814,\n",
       " 54.47000157365343,\n",
       " 46.250970195600516,\n",
       " 55.94219159776654,\n",
       " 42.38788265024812,\n",
       " 51.439510065906816,\n",
       " 69.7085705735568,\n",
       " 71.75844673632002,\n",
       " 74.18923842087398,\n",
       " 71.59739592296977,\n",
       " 43.174442183411315,\n",
       " 39.107263002734385,\n",
       " 50.93252774260759,\n",
       " 74.89752367018097,\n",
       " 68.96375125599909,\n",
       " 74.70838832189224,\n",
       " 76.30931108990879,\n",
       " 62.43354360097316,\n",
       " 50.10046759056023,\n",
       " 51.2434747094247,\n",
       " 34.35484395784746,\n",
       " 50.682219954885404,\n",
       " 44.55057358099396,\n",
       " 66.11266315449117,\n",
       " 63.567263308321245,\n",
       " 23.769180213264136,\n",
       " 59.807391754519166,\n",
       " 64.96563246627122,\n",
       " 70.9648252972154,\n",
       " 61.07948761691526,\n",
       " 66.99656584571876,\n",
       " 68.1901108251464,\n",
       " 74.48304791768497,\n",
       " 51.64429987073236,\n",
       " 52.74751451214553,\n",
       " 51.590154138455276,\n",
       " 71.633260495838,\n",
       " 75.9900601257662,\n",
       " 59.55127821997269,\n",
       " 77.4320523912265,\n",
       " 70.02955198429277,\n",
       " 73.05208042801385,\n",
       " 44.80022542312212,\n",
       " 47.32662056602602,\n",
       " 77.59220711032698,\n",
       " 72.22100796842241,\n",
       " 71.44271849342948,\n",
       " 55.408460900845725,\n",
       " 66.87980554567781,\n",
       " 63.61189546990283,\n",
       " 55.08000990542619,\n",
       " 58.55730339579679,\n",
       " 39.44665527642576,\n",
       " 51.018795856854254,\n",
       " 53.974667278730706,\n",
       " 56.483782963560316,\n",
       " 48.10760207014746,\n",
       " 52.984201539059015,\n",
       " 79.85784750473029,\n",
       " 75.4739470742227,\n",
       " 82.43377885453793,\n",
       " 62.88488300910248,\n",
       " 60.58423623391473,\n",
       " 62.53427312899924,\n",
       " 58.832099312674444,\n",
       " 53.28643383993675,\n",
       " 48.963476673398205,\n",
       " 76.4436861217322,\n",
       " 81.76861661300981,\n",
       " 56.8469756680283,\n",
       " 55.31699512922464,\n",
       " 80.17232020293812,\n",
       " 68.78090725172989,\n",
       " 85.67008902539669,\n",
       " 38.48900416224253,\n",
       " 25.334854827518,\n",
       " 54.74268800128761,\n",
       " 63.812082800640404,\n",
       " 82.14108934035248,\n",
       " 55.424408027864985,\n",
       " 73.88880321466009,\n",
       " 60.721943870973,\n",
       " 53.477613057074144,\n",
       " 12.53754700814593,\n",
       " 46.73252361069895,\n",
       " 66.10194817675657,\n",
       " 67.16837174974557,\n",
       " 55.10526453877596,\n",
       " 45.29432910930003,\n",
       " 67.25454206324005,\n",
       " 68.50053228523849,\n",
       " 80.01469447552998,\n",
       " 73.11078762230186,\n",
       " 68.53089636829793,\n",
       " 7.52608384204863]"
      ]
     },
     "execution_count": 16,
     "metadata": {},
     "output_type": "execute_result"
    }
   ],
   "source": [
    "sample_distances = [min(selected_roads.distance(p)) for p in sample_points]\n",
    "sample_distances"
   ]
  },
  {
   "cell_type": "code",
   "execution_count": 17,
   "metadata": {},
   "outputs": [
    {
     "data": {
      "text/plain": [
       "<Axes: >"
      ]
     },
     "execution_count": 17,
     "metadata": {},
     "output_type": "execute_result"
    },
    {
     "data": {
      "image/png": "[encoded data removed]",
      "text/plain": [
       "<Figure size 640x480 with 1 Axes>"
      ]
     },
     "metadata": {},
     "output_type": "display_data"
    }
   ],
   "source": [
    "flags = [d < search_margin+0.95*radius and d > search_margin for d in sample_distances]\n",
    "edge_points = sample_points[flags]\n",
    "edge_points.plot()"
   ]
  },
  {
   "cell_type": "code",
   "execution_count": 18,
   "metadata": {},
   "outputs": [
    {
     "data": {
      "text/plain": [
       "<Axes: >"
      ]
     },
     "execution_count": 18,
     "metadata": {},
     "output_type": "execute_result"
    },
    {
     "data": {
      "image/png": "[encoded data removed]",
      "text/plain": [
       "<Figure size 640x480 with 1 Axes>"
      ]
     },
     "metadata": {},
     "output_type": "display_data"
    }
   ],
   "source": [
    "flags = [d < 0.6*radius for d in sample_distances]\n",
    "road_points = sample_points[flags]\n",
    "road_points.plot()"
   ]
  },
  {
   "cell_type": "code",
   "execution_count": 19,
   "metadata": {},
   "outputs": [
    {
     "data": {
      "image/svg+xml": [
       "<svg xmlns=\"http://www.w3.org/2000/svg\" xmlns:xlink=\"http://www.w3.org/1999/xlink\" width=\"100.0\" height=\"100.0\" viewBox=\"256478.8114007585 325726.5707671559 2.0 2.0\" preserveAspectRatio=\"xMinYMin meet\"><g transform=\"matrix(1,0,0,-1,0,651455.1415343118)\"><circle cx=\"256479.8114007585\" cy=\"325727.5707671559\" r=\"0.06\" stroke=\"#555555\" stroke-width=\"0.02\" fill=\"#66cc99\" opacity=\"0.6\" /></g></svg>"
      ],
      "text/plain": [
       "<POINT (256479.811 325727.571)>"
      ]
     },
     "execution_count": 19,
     "metadata": {},
     "output_type": "execute_result"
    }
   ],
   "source": [
    "top_arg = np.argmax(edge_points.y)\n",
    "top_point = edge_points.iloc[top_arg]\n",
    "top_point"
   ]
  },
  {
   "cell_type": "code",
   "execution_count": 20,
   "metadata": {},
   "outputs": [],
   "source": [
    "from shapely.ops import nearest_points"
   ]
  },
  {
   "cell_type": "code",
   "execution_count": 21,
   "metadata": {},
   "outputs": [
    {
     "data": {
      "image/svg+xml": [
       "<svg xmlns=\"http://www.w3.org/2000/svg\" xmlns:xlink=\"http://www.w3.org/1999/xlink\" width=\"100.0\" height=\"155.85480000003008\" viewBox=\"256435.30760000003 325560.2276 85.0447999999742 155.85480000003008\" preserveAspectRatio=\"xMinYMin meet\"><g transform=\"matrix(1,0,0,-1,0,651276.31)\"><polyline fill=\"none\" stroke=\"#66cc99\" stroke-width=\"2.0\" points=\"256493.83000000002,325710.31 256484.38,325704.19 256455.23,325685.33 256448.72,325660.34 256441.08000000002,325579.76 256446.76,325568.78 256466.48,325566.0 256506.44,325590.10000000003 256514.58000000002,325595.01\" opacity=\"0.8\" /></g></svg>"
      ],
      "text/plain": [
       "<LINESTRING Z (256493.83 325710.31 0, 256484.38 325704.19 0, 256455.23 32568...>"
      ]
     },
     "execution_count": 21,
     "metadata": {},
     "output_type": "execute_result"
    }
   ],
   "source": [
    "selected_roads.unary_union"
   ]
  },
  {
   "cell_type": "code",
   "execution_count": 22,
   "metadata": {},
   "outputs": [],
   "source": [
    "top_nearest = gpd.GeoSeries(nearest_points(top_point, selected_roads.unary_union))"
   ]
  },
  {
   "cell_type": "code",
   "execution_count": 23,
   "metadata": {},
   "outputs": [
    {
     "data": {
      "text/plain": [
       "<Axes: >"
      ]
     },
     "execution_count": 23,
     "metadata": {},
     "output_type": "execute_result"
    },
    {
     "data": {
      "image/png": "[encoded data removed]",
      "text/plain": [
       "<Figure size 640x480 with 1 Axes>"
      ]
     },
     "metadata": {},
     "output_type": "display_data"
    }
   ],
   "source": [
    "ax = edge_points.plot()\n",
    "selected_roads.plot(ax=ax)\n",
    "top_nearest.plot(ax=ax)"
   ]
  },
  {
   "cell_type": "code",
   "execution_count": 24,
   "metadata": {},
   "outputs": [],
   "source": [
    "opposite_point = Point(top_point.x + 2*(top_nearest[1].x - top_point.x),\n",
    "                       top_point.y + 2*(top_nearest[1].y - top_point.y))"
   ]
  },
  {
   "cell_type": "code",
   "execution_count": 25,
   "metadata": {},
   "outputs": [
    {
     "data": {
      "text/plain": [
       "<Axes: >"
      ]
     },
     "execution_count": 25,
     "metadata": {},
     "output_type": "execute_result"
    },
    {
     "data": {
      "image/png": "[encoded data removed]",
      "text/plain": [
       "<Figure size 640x480 with 1 Axes>"
      ]
     },
     "metadata": {},
     "output_type": "display_data"
    }
   ],
   "source": [
    "ax = edge_points.plot()\n",
    "selected_roads.plot(ax=ax)\n",
    "top_nearest.plot(ax=ax)\n",
    "gpd.GeoSeries([opposite_point]).plot(ax=ax)"
   ]
  },
  {
   "cell_type": "code",
   "execution_count": 26,
   "metadata": {},
   "outputs": [
    {
     "data": {
      "image/svg+xml": [
       "<svg xmlns=\"http://www.w3.org/2000/svg\" xmlns:xlink=\"http://www.w3.org/1999/xlink\" width=\"100.0\" height=\"100.0\" viewBox=\"256478.8114007585 325726.5707671559 2.0 2.0\" preserveAspectRatio=\"xMinYMin meet\"><g transform=\"matrix(1,0,0,-1,0,651455.1415343118)\"><circle cx=\"256479.8114007585\" cy=\"325727.5707671559\" r=\"0.06\" stroke=\"#555555\" stroke-width=\"0.02\" fill=\"#66cc99\" opacity=\"0.6\" /></g></svg>"
      ],
      "text/plain": [
       "<POINT (256479.811 325727.571)>"
      ]
     },
     "execution_count": 26,
     "metadata": {},
     "output_type": "execute_result"
    }
   ],
   "source": [
    "start_point = top_point\n",
    "start_point"
   ]
  },
  {
   "cell_type": "code",
   "execution_count": 27,
   "metadata": {},
   "outputs": [
    {
     "data": {
      "text/plain": [
       "(array('d', [256503.84665929078]), array('d', [325690.4575003045]))"
      ]
     },
     "execution_count": 27,
     "metadata": {},
     "output_type": "execute_result"
    }
   ],
   "source": [
    "def opposing_point(first_point, overshoot=1.0):\n",
    "    nearest_road = nearest_points(first_point, selected_roads.unary_union)[1]\n",
    "    opposite_point = Point(first_point.x + (1.0+overshoot)*(nearest_road.x - first_point.x),\n",
    "                           first_point.y + (1.0+overshoot)*(nearest_road.y - first_point.y))\n",
    "    return opposite_point\n",
    "\n",
    "opposing_point(start_point).xy"
   ]
  },
  {
   "cell_type": "code",
   "execution_count": 28,
   "metadata": {},
   "outputs": [],
   "source": [
    "gdf_edge_points = gpd.GeoDataFrame(geometry=edge_points)\n",
    "gdf_edge_points['visited'] = False"
   ]
  },
  {
   "cell_type": "code",
   "execution_count": 29,
   "metadata": {},
   "outputs": [],
   "source": [
    "def closest_unvisited_edge_point_name(target_point):\n",
    "    unvisited_points = gdf_edge_points[gdf_edge_points['visited']==False]\n",
    "    ix_closest = np.argmin(unvisited_points.distance(target_point))\n",
    "    closest_point_name = unvisited_points.iloc[ix_closest].name\n",
    "    return closest_point_name\n",
    "closest_point_name = closest_unvisited_edge_point_name(opposite_point)"
   ]
  },
  {
   "cell_type": "code",
   "execution_count": 30,
   "metadata": {},
   "outputs": [
    {
     "data": {
      "text/plain": [
       "<Axes: >"
      ]
     },
     "execution_count": 30,
     "metadata": {},
     "output_type": "execute_result"
    },
    {
     "data": {
      "image/png": "[encoded data removed]",
      "text/plain": [
       "<Figure size 640x480 with 1 Axes>"
      ]
     },
     "metadata": {},
     "output_type": "display_data"
    }
   ],
   "source": [
    "ax = edge_points.plot()\n",
    "selected_roads.plot(ax=ax)\n",
    "top_nearest.plot(ax=ax)\n",
    "gpd.GeoSeries([opposite_point]).plot(ax=ax)\n",
    "gdf_edge_points[gdf_edge_points.index==closest_point_name].plot(ax=ax,color='r',marker='+')"
   ]
  },
  {
   "cell_type": "code",
   "execution_count": 31,
   "metadata": {},
   "outputs": [],
   "source": [
    "start_point = gdf_edge_points.iloc[top_arg]\n",
    "gdf_edge_points.loc[start_point.name,'visited'] = True"
   ]
  },
  {
   "cell_type": "code",
   "execution_count": 32,
   "metadata": {},
   "outputs": [
    {
     "data": {
      "text/plain": [
       "[<POINT (256479.811 325727.571)>,\n",
       " <POINT (256503.629 325690.993)>,\n",
       " <POINT (256501.97 325686.203)>,\n",
       " <POINT (256474.604 325727.156)>,\n",
       " <POINT (256470.84 325720.596)>,\n",
       " <POINT (256488.745 325683.025)>,\n",
       " <POINT (256484.183 325679.753)>,\n",
       " <POINT (256459 325711.991)>,\n",
       " <POINT (256453.198 325709.335)>,\n",
       " <POINT (256478.331 325672.972)>,\n",
       " <POINT (256472.329 325670.566)>,\n",
       " <POINT (256428.543 325680.035)>,\n",
       " <POINT (256429.322 325671.382)>,\n",
       " <POINT (256471.028 325654.396)>,\n",
       " <POINT (256469.589 325644.775)>,\n",
       " <POINT (256423.196 325648.83)>,\n",
       " <POINT (256425.334 325653.745)>,\n",
       " <POINT (256470.229 325638.092)>,\n",
       " <POINT (256466.508 325633.423)>,\n",
       " <POINT (256424.674 325637.92)>,\n",
       " <POINT (256425.238 325643.196)>,\n",
       " <POINT (256469.713 325629.416)>,\n",
       " <POINT (256465.952 325626.097)>,\n",
       " <POINT (256424.049 325630.148)>,\n",
       " <POINT (256423.029 325620.865)>,\n",
       " <POINT (256465.17 325613.868)>,\n",
       " <POINT (256468.985 325618.839)>,\n",
       " <POINT (256419.118 325609.409)>,\n",
       " <POINT (256420.383 325602.045)>,\n",
       " <POINT (256467.202 325590.809)>,\n",
       " <POINT (256474.879 325599.936)>,\n",
       " <POINT (256500.393 325558.941)>,\n",
       " <POINT (256495.174 325558.603)>,\n",
       " <POINT (256494.204 325606.297)>,\n",
       " <POINT (256499.146 325609.868)>,\n",
       " <POINT (256521.031 325574.131)>,\n",
       " <POINT (256518.456 325568.722)>,\n",
       " <POINT (256501.576 325614.362)>,\n",
       " <POINT (256506.377 325616.544)>,\n",
       " <POINT (256512.931 325569.262)>,\n",
       " <POINT (256505.537 325564.916)>,\n",
       " <POINT (256511.382 325614.956)>,\n",
       " <POINT (256522.96 325618.151)>,\n",
       " <POINT (256533.602 325579.816)>,\n",
       " <POINT (256533.26 325584.927)>,\n",
       " <POINT (256527.548 325614.93)>,\n",
       " <POINT (256529.155 325609.529)>,\n",
       " <POINT (256476.09 325547.038)>,\n",
       " <POINT (256470.2 325546.117)>,\n",
       " <POINT (256454.357 325546.107)>,\n",
       " <POINT (256444.763 325547.853)>,\n",
       " <POINT (256418.884 325593.583)>,\n",
       " <POINT (256418.628 325586.423)>,\n",
       " <POINT (256438.02 325550.073)>,\n",
       " <POINT (256430.514 325550.912)>,\n",
       " <POINT (256430.274 325557.002)>,\n",
       " <POINT (256424.423 325564.529)>,\n",
       " <POINT (256418.834 325577.159)>,\n",
       " <POINT (256420.935 325568.75)>,\n",
       " <POINT (256537.071 325600.449)>,\n",
       " <POINT (256539.035 325594.184)>,\n",
       " <POINT (256474.394 325665.907)>,\n",
       " <POINT (256435.343 325690.018)>,\n",
       " <POINT (256512.25 325696.646)>,\n",
       " <POINT (256516.277 325705.568)>,\n",
       " <POINT (256506.592 325725.769)>,\n",
       " <POINT (256514.657 325722.307)>,\n",
       " <POINT (256435.166 325697.185)>,\n",
       " <POINT (256428.225 325662.877)>,\n",
       " <POINT (256514.136 325714.063)>]"
      ]
     },
     "execution_count": 32,
     "metadata": {},
     "output_type": "execute_result"
    }
   ],
   "source": [
    "current_point = start_point\n",
    "gdf_edge_points['visited'] = False\n",
    "gdf_edge_points.loc[start_point.name,'visited'] = True\n",
    "tour = [start_point.geometry]\n",
    "for ii in range(len(gdf_edge_points)):\n",
    "    opposite_point = opposing_point(current_point.geometry)\n",
    "    closest_point_name = closest_unvisited_edge_point_name(opposite_point)\n",
    "    tour.append(gdf_edge_points.loc[closest_point_name,'geometry'])\n",
    "    gdf_edge_points.loc[closest_point_name,'visited'] = True\n",
    "    current_point = gdf_edge_points.loc[closest_point_name]\n",
    "    if np.all(gdf_edge_points['visited']):\n",
    "        break\n",
    "    closest_point_name = closest_unvisited_edge_point_name(current_point.geometry)\n",
    "    tour.append(gdf_edge_points.loc[closest_point_name,'geometry'])\n",
    "    gdf_edge_points.loc[closest_point_name,'visited'] = True\n",
    "    current_point = gdf_edge_points.loc[closest_point_name]\n",
    "    if np.all(gdf_edge_points['visited']):\n",
    "        break\n",
    "    \n",
    "tour"
   ]
  },
  {
   "cell_type": "code",
   "execution_count": 33,
   "metadata": {},
   "outputs": [
    {
     "data": {
      "text/plain": [
       "[<POINT (256491.829 325709.014)>,\n",
       " <POINT (256479.811 325727.571)>,\n",
       " <POINT (256491.829 325709.014)>,\n",
       " <POINT (256503.629 325690.993)>,\n",
       " <POINT (256501.97 325686.203)>,\n",
       " <POINT (256488.565 325706.9)>,\n",
       " <POINT (256474.604 325727.156)>,\n",
       " <POINT (256470.84 325720.596)>,\n",
       " <POINT (256482.318 325702.856)>,\n",
       " <POINT (256488.745 325683.025)>,\n",
       " <POINT (256484.183 325679.753)>,\n",
       " <POINT (256473.095 325696.889)>,\n",
       " <POINT (256459 325711.991)>,\n",
       " <POINT (256453.198 325709.335)>,\n",
       " <POINT (256464.746 325691.487)>,\n",
       " <POINT (256478.331 325672.972)>,\n",
       " <POINT (256472.329 325670.566)>,\n",
       " <POINT (256452.715 325675.676)>,\n",
       " <POINT (256428.543 325680.035)>,\n",
       " <POINT (256429.322 325671.382)>,\n",
       " <POINT (256450.181 325665.948)>,\n",
       " <POINT (256471.028 325654.396)>,\n",
       " <POINT (256469.589 325644.775)>,\n",
       " <POINT (256447.443 325646.874)>,\n",
       " <POINT (256425.334 325653.745)>,\n",
       " <POINT (256423.196 325648.83)>,\n",
       " <POINT (256447.411 325646.534)>,\n",
       " <POINT (256470.229 325638.092)>,\n",
       " <POINT (256466.508 325633.423)>,\n",
       " <POINT (256446.349 325635.334)>,\n",
       " <POINT (256424.674 325637.92)>,\n",
       " <POINT (256425.238 325643.196)>,\n",
       " <POINT (256446.9 325641.143)>,\n",
       " <POINT (256469.713 325629.416)>,\n",
       " <POINT (256465.952 325626.097)>,\n",
       " <POINT (256445.656 325628.021)>,\n",
       " <POINT (256424.049 325630.148)>,\n",
       " <POINT (256423.029 325620.865)>,\n",
       " <POINT (256444.782 325618.803)>,\n",
       " <POINT (256465.17 325613.868)>,\n",
       " <POINT (256468.985 325618.839)>,\n",
       " <POINT (256445.001 325621.113)>,\n",
       " <POINT (256419.118 325609.409)>,\n",
       " <POINT (256420.383 325602.045)>,\n",
       " <POINT (256442.99 325599.901)>,\n",
       " <POINT (256467.202 325590.809)>,\n",
       " <POINT (256474.879 325599.936)>,\n",
       " <POINT (256487.647 325578.766)>,\n",
       " <POINT (256495.174 325558.603)>,\n",
       " <POINT (256500.393 325558.941)>,\n",
       " <POINT (256488.226 325579.115)>,\n",
       " <POINT (256494.204 325606.297)>,\n",
       " <POINT (256499.146 325609.868)>,\n",
       " <POINT (256509.835 325592.148)>,\n",
       " <POINT (256521.031 325574.131)>,\n",
       " <POINT (256518.456 325568.722)>,\n",
       " <POINT (256505.797 325589.712)>,\n",
       " <POINT (256501.576 325614.362)>,\n",
       " <POINT (256506.377 325616.544)>,\n",
       " <POINT (256514.58 325595.01)>,\n",
       " <POINT (256512.931 325569.262)>,\n",
       " <POINT (256505.537 325564.916)>,\n",
       " <POINT (256494.641 325582.984)>,\n",
       " <POINT (256511.382 325614.956)>,\n",
       " <POINT (256522.96 325618.151)>,\n",
       " <POINT (256514.58 325595.01)>,\n",
       " <POINT (256533.602 325579.816)>,\n",
       " <POINT (256533.26 325584.927)>,\n",
       " <POINT (256514.58 325595.01)>,\n",
       " <POINT (256529.155 325609.529)>,\n",
       " <POINT (256527.548 325614.93)>,\n",
       " <POINT (256514.58 325595.01)>,\n",
       " <POINT (256539.035 325594.184)>,\n",
       " <POINT (256537.071 325600.449)>,\n",
       " <POINT (256514.58 325595.01)>,\n",
       " <POINT (256476.09 325547.038)>,\n",
       " <POINT (256470.2 325546.117)>,\n",
       " <POINT (256466.48 325566)>,\n",
       " <POINT (256454.357 325546.107)>,\n",
       " <POINT (256444.763 325547.853)>,\n",
       " <POINT (256447.695 325568.648)>,\n",
       " <POINT (256418.628 325586.423)>,\n",
       " <POINT (256418.884 325593.583)>,\n",
       " <POINT (256442.181 325591.374)>,\n",
       " <POINT (256418.834 325577.159)>,\n",
       " <POINT (256420.935 325568.75)>,\n",
       " <POINT (256441.32 325579.295)>,\n",
       " <POINT (256424.423 325564.529)>,\n",
       " <POINT (256430.274 325557.002)>,\n",
       " <POINT (256446.76 325568.78)>,\n",
       " <POINT (256438.02 325550.073)>,\n",
       " <POINT (256430.514 325550.912)>,\n",
       " <POINT (256446.76 325568.78)>,\n",
       " <POINT (256474.394 325665.907)>,\n",
       " <POINT (256435.343 325690.018)>,\n",
       " <POINT (256455.11 325684.869)>,\n",
       " <POINT (256435.166 325697.185)>,\n",
       " <POINT (256428.225 325662.877)>,\n",
       " <POINT (256448.72 325660.34)>,\n",
       " <POINT (256512.25 325696.646)>,\n",
       " <POINT (256516.277 325705.568)>,\n",
       " <POINT (256493.83 325710.31)>,\n",
       " <POINT (256506.592 325725.769)>,\n",
       " <POINT (256514.657 325722.307)>,\n",
       " <POINT (256493.83 325710.31)>,\n",
       " <POINT (256514.136 325714.063)>]"
      ]
     },
     "execution_count": 33,
     "metadata": {},
     "output_type": "execute_result"
    }
   ],
   "source": [
    "current_point = start_point\n",
    "gdf_edge_points['visited'] = False\n",
    "gdf_edge_points.loc[start_point.name,'visited'] = True\n",
    "start_road = nearest_points(current_point.geometry, selected_roads.unary_union)[1]\n",
    "tour = [Point(start_road.x,start_road.y),start_point.geometry]\n",
    "for ii in range(len(gdf_edge_points)):\n",
    "    nearest_road = nearest_points(current_point.geometry, selected_roads.unary_union)[1]\n",
    "    tour.append(Point(nearest_road.x,nearest_road.y))\n",
    "    opposite_point = opposing_point(current_point.geometry,overshoot=0.75)\n",
    "    closest_point_name = closest_unvisited_edge_point_name(opposite_point)\n",
    "    tour.append(gdf_edge_points.loc[closest_point_name,'geometry'])\n",
    "    gdf_edge_points.loc[closest_point_name,'visited'] = True\n",
    "    current_point = gdf_edge_points.loc[closest_point_name]\n",
    "    if np.all(gdf_edge_points['visited']):\n",
    "        break\n",
    "    closest_point_name = closest_unvisited_edge_point_name(current_point.geometry)\n",
    "    tour.append(gdf_edge_points.loc[closest_point_name,'geometry'])\n",
    "    gdf_edge_points.loc[closest_point_name,'visited'] = True\n",
    "    current_point = gdf_edge_points.loc[closest_point_name]\n",
    "    if np.all(gdf_edge_points['visited']):\n",
    "        break\n",
    "    \n",
    "tour"
   ]
  },
  {
   "cell_type": "code",
   "execution_count": 34,
   "metadata": {},
   "outputs": [
    {
     "data": {
      "image/svg+xml": [
       "<svg xmlns=\"http://www.w3.org/2000/svg\" xmlns:xlink=\"http://www.w3.org/1999/xlink\" width=\"134.9242840145307\" height=\"195.98036326671718\" viewBox=\"256411.3696268405 325538.848935862 134.9242840145307 195.98036326671718\" preserveAspectRatio=\"xMinYMin meet\"><g transform=\"matrix(1,0,0,-1,0,651273.6782349907)\"><polyline fill=\"none\" stroke=\"#66cc99\" stroke-width=\"2.0\" points=\"256491.82903002464,325709.0141337302 256479.8114007585,325727.5707671559 256491.82903002464,325709.0141337302 256503.62873576058,325690.9925185895 256501.96959053027,325686.2026027629 256488.56526546896,325706.90045763704 256474.60365376924,325727.155588883 256470.8404468171,325720.59628569253 256482.31831911614,325702.8560960045 256488.74469912695,325683.02458881016 256484.1826845291,325679.752582322 256473.09548972378,325696.8889412072 256459.00023453485,325711.9909255355 256453.19798682298,325709.33456816035 256464.7456046302,325691.48657987395 256478.3305627427,325672.97227791854 256472.3294671699,325670.5664179661 256452.71510341406,325675.6760421378 256428.54347662334,325680.0347228803 256429.3216084969,325671.38216947997 256450.1809647518,325665.9482195312 256471.0280031219,325654.3964855405 256469.58940271626,325644.77460531716 256447.44328531512,325646.87433647807 256425.33431939423,325653.7453935291 256423.19555242432,325648.83006392635 256447.41102958127,325646.5341313689 256470.2287676538,325638.0917647599 256466.50768973268,325633.4230781611 256446.34915022022,325635.3343618776 256424.67387895848,325637.919525764 256425.23816896538,325643.196393093 256446.8998437829,325641.1425931972 256469.71314524996,325629.41605704365 256465.951508986,325626.09668691247 256445.655749484,325628.0209808141 256424.04912907918,325630.147789113 256423.0291969395,325620.8654502716 256444.781771703,325618.80303191475 256465.17002497293,325613.8675036771 256468.98523166814,325618.8392647806 256445.00081330346,325621.1132900512 256419.11755549765,325609.40928499744 256420.38337350579,325602.04465717816 256442.98964893116,325599.90129723464 256467.20227059186,325590.8088368996 256474.87895553443,325599.93587982387 256487.64674047742,325578.7657268645 256495.17350318507,325558.6030771318 256500.3928775184,325558.9414825388 256488.22608670354,325579.11513237125 256494.20399872874,325606.2969041661 256499.14610241135,325609.86830911937 256509.83498716055,325592.1478362357 256521.03129200405,325574.1306477331 256518.45629660852,325568.7220443078 256505.79704820478,325589.7122337772 256501.57623447455,325614.36216616 256506.37690047504,325616.5438105385 256514.58000000002,325595.01 256512.93137046066,325569.26164373313 256505.53724681886,325564.91596619406 256494.64053635625,325582.9837068615 256511.3822876076,325614.9556425652 256522.96049477666,325618.1507653639 256514.58000000002,325595.01 256533.601892028,325579.8158594919 256533.26013889653,325584.9267962265 256514.58000000002,325595.01 256529.15478962398,325609.52916641266 256527.5484187928,325614.92968980747 256514.58000000002,325595.01 256539.03537888217,325594.1841500744 256537.0712929559,325600.449024439 256514.58000000002,325595.01 256476.09020168427,325547.03752578754 256470.19974332204,325546.1170008832 256466.48,325566.0 256454.3571454179,325546.10746783484 256444.76333855157,325547.85270869377 256447.69495392332,325568.6481961508 256418.62815881334,325586.42314241687 256418.88354948594,325593.58286815847 256442.1811500217,325591.37396187783 256418.83425625635,325577.15857676463 256420.93479761103,325568.7498425903 256441.320352248,325579.29537540796 256424.4225991537,325564.5288413304 256430.27364477207,325557.0020609849 256446.76,325568.78 256438.02036798868,325550.07326477097 256430.513773624,325550.91193273524 256446.76,325568.78 256474.39372513685,325665.90746029466 256435.34288566242,325690.0178683596 256455.10977975797,325684.8685093935 256435.16602020623,325697.1852298651 256428.22498269295,325662.87736785406 256448.72,325660.34 256512.25010315594,325696.6460556718 256516.27661066662,325705.5675873165 256493.83000000002,325710.31 256506.59242345908,325725.7689163686 256514.65686150835,325722.30703137134 256493.83000000002,325710.31 256514.13627801326,325714.0631053352\" opacity=\"0.8\" /></g></svg>"
      ],
      "text/plain": [
       "<LINESTRING (256491.829 325709.014, 256479.811 325727.571, 256491.829 325709...>"
      ]
     },
     "execution_count": 34,
     "metadata": {},
     "output_type": "execute_result"
    }
   ],
   "source": [
    "tour_line = LineString(tour)\n",
    "tour_line"
   ]
  },
  {
   "cell_type": "code",
   "execution_count": 35,
   "metadata": {},
   "outputs": [
    {
     "data": {
      "text/plain": [
       "2121.6617531535494"
      ]
     },
     "execution_count": 35,
     "metadata": {},
     "output_type": "execute_result"
    }
   ],
   "source": [
    "tour_line.length"
   ]
  },
  {
   "cell_type": "code",
   "execution_count": 36,
   "metadata": {},
   "outputs": [
    {
     "data": {
      "text/plain": [
       "<Axes: >"
      ]
     },
     "execution_count": 36,
     "metadata": {},
     "output_type": "execute_result"
    },
    {
     "data": {
      "image/png": "[encoded data removed]",
      "text/plain": [
       "<Figure size 640x480 with 1 Axes>"
      ]
     },
     "metadata": {},
     "output_type": "display_data"
    }
   ],
   "source": [
    "ax = edge_points.plot()\n",
    "selected_roads.plot(ax=ax)\n",
    "gdf_tour = gpd.GeoDataFrame(geometry=[tour_line])\n",
    "gdf_tour.plot(ax=ax,color='red')"
   ]
  },
  {
   "cell_type": "code",
   "execution_count": 37,
   "metadata": {},
   "outputs": [],
   "source": [
    "gdf_tour.crs = 'EPSG:27700'\n",
    "gdf_tour_gps = gdf_tour.to_crs('EPSG:4326')"
   ]
  },
  {
   "cell_type": "code",
   "execution_count": 38,
   "metadata": {},
   "outputs": [],
   "source": [
    "gdf_tour.to_file('tour.shp')"
   ]
  },
  {
   "cell_type": "code",
   "execution_count": 39,
   "metadata": {},
   "outputs": [],
   "source": [
    "gdf_tour_gps.to_file('tour_gps.shp')"
   ]
  },
  {
   "cell_type": "code",
   "execution_count": 40,
   "metadata": {},
   "outputs": [],
   "source": [
    "from pymavlink.mavwp import MAVWPLoader\n",
    "from pymavlink.dialects.v20.common import MAVLink_mission_item_int_message, MAV_CMD_NAV_TAKEOFF, MAV_CMD_NAV_LAND"
   ]
  },
  {
   "cell_type": "code",
   "execution_count": 41,
   "metadata": {},
   "outputs": [
    {
     "data": {
      "text/plain": [
       "(-4.1305552781650245, 52.80977716043519)"
      ]
     },
     "execution_count": 41,
     "metadata": {},
     "output_type": "execute_result"
    }
   ],
   "source": [
    "gdf_tour_gps['geometry'][0].coords[0]"
   ]
  },
  {
   "cell_type": "code",
   "execution_count": 42,
   "metadata": {},
   "outputs": [],
   "source": [
    "alt = 20\n",
    "alt_frame = 3\n",
    "wp = MAVWPLoader()\n",
    "takeoff_cmd = MAVLink_mission_item_int_message(\n",
    "            1, # wp.target_system,\n",
    "            1, # wp.target_component,\n",
    "            0, # wp.seq,\n",
    "            alt_frame, # wp.frame,\n",
    "            MAV_CMD_NAV_TAKEOFF, # wp.command,\n",
    "            0, # wp.current,\n",
    "            1, # wp.autocontinue,\n",
    "            0, # wp.param1,\n",
    "            0, # wp.param2,\n",
    "            0, # wp.param3,\n",
    "            0, # wp.param4,\n",
    "            0, # int(wp.x*1.0e7),\n",
    "            0, # int(wp.y*1.0e7),\n",
    "            alt) # wp.z\n",
    "wp.add(takeoff_cmd)\n",
    "wp.add(takeoff_cmd)"
   ]
  },
  {
   "cell_type": "code",
   "execution_count": 43,
   "metadata": {},
   "outputs": [],
   "source": [
    "for pt in gdf_tour_gps['geometry'][0].coords:\n",
    "    wp.add_latlonalt(pt[1],pt[0],20.0)"
   ]
  },
  {
   "cell_type": "code",
   "execution_count": 44,
   "metadata": {},
   "outputs": [],
   "source": [
    "land_cmd = MAVLink_mission_item_int_message(\n",
    "            1, # wp.target_system,\n",
    "            1, # wp.target_component,\n",
    "            0, # wp.seq,\n",
    "            alt_frame, # wp.frame,\n",
    "            MAV_CMD_NAV_LAND, # wp.command,\n",
    "            0, # wp.current,\n",
    "            1, # wp.autocontinue,\n",
    "            0, # wp.param1,\n",
    "            0, # wp.param2,\n",
    "            0, # wp.param3,\n",
    "            0, # wp.param4,\n",
    "            gdf_tour_gps['geometry'][0].coords[0][1], # int(wp.x*1.0e7), lat\n",
    "            gdf_tour_gps['geometry'][0].coords[0][0], # int(wp.y*1.0e7), lon\n",
    "            0) # wp.z\n",
    "wp.add(land_cmd)"
   ]
  },
  {
   "cell_type": "code",
   "execution_count": 45,
   "metadata": {},
   "outputs": [],
   "source": [
    "    \n",
    "file_name = 'mission.txt'\n",
    "wp.save(file_name)"
   ]
  }
 ],
 "metadata": {
  "kernelspec": {
   "display_name": "Python 3",
   "language": "python",
   "name": "python3"
  },
  "language_info": {
   "codemirror_mode": {
    "name": "ipython",
    "version": 3
   },
   "file_extension": ".py",
   "mimetype": "text/x-python",
   "name": "python",
   "nbconvert_exporter": "python",
   "pygments_lexer": "ipython3",
   "version": "3.10.11"
  }
 },
 "nbformat": 4,
 "nbformat_minor": 2
}

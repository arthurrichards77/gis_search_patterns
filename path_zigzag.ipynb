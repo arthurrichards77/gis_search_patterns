{
 "cells": [
  {
   "cell_type": "code",
   "execution_count": 1,
   "metadata": {},
   "outputs": [],
   "source": [
    "import geopandas as gpd"
   ]
  },
  {
   "cell_type": "code",
   "execution_count": 2,
   "metadata": {},
   "outputs": [
    {
     "data": {
      "text/html": [
       "<div>\n",
       "<style scoped>\n",
       "    .dataframe tbody tr th:only-of-type {\n",
       "        vertical-align: middle;\n",
       "    }\n",
       "\n",
       "    .dataframe tbody tr th {\n",
       "        vertical-align: top;\n",
       "    }\n",
       "\n",
       "    .dataframe thead th {\n",
       "        text-align: right;\n",
       "    }\n",
       "</style>\n",
       "<table border=\"1\" class=\"dataframe\">\n",
       "  <thead>\n",
       "    <tr style=\"text-align: right;\">\n",
       "      <th></th>\n",
       "      <th>ID</th>\n",
       "      <th>DISTNAME</th>\n",
       "      <th>ROADNUMBER</th>\n",
       "      <th>CLASSIFICA</th>\n",
       "      <th>DRAWLEVEL</th>\n",
       "      <th>OVERRIDE</th>\n",
       "      <th>FEATCODE</th>\n",
       "      <th>geometry</th>\n",
       "    </tr>\n",
       "  </thead>\n",
       "  <tbody>\n",
       "    <tr>\n",
       "      <th>0</th>\n",
       "      <td>ED8E3F1E-3ADA-40A6-8D96-B9CE5246135F</td>\n",
       "      <td>NaN</td>\n",
       "      <td>NaN</td>\n",
       "      <td>Local Road</td>\n",
       "      <td>0</td>\n",
       "      <td>F</td>\n",
       "      <td>15760</td>\n",
       "      <td>LINESTRING Z (248668.970 387486.850 0.000, 248...</td>\n",
       "    </tr>\n",
       "    <tr>\n",
       "      <th>1</th>\n",
       "      <td>77845DFB-ECFF-4DD4-A484-506845DF2435</td>\n",
       "      <td>NaN</td>\n",
       "      <td>NaN</td>\n",
       "      <td>Restricted Local Access Road</td>\n",
       "      <td>0</td>\n",
       "      <td>F</td>\n",
       "      <td>15762</td>\n",
       "      <td>LINESTRING Z (248833.550 387822.120 0.000, 248...</td>\n",
       "    </tr>\n",
       "    <tr>\n",
       "      <th>2</th>\n",
       "      <td>5E0208DE-B110-4963-BAA2-1DDB71FAF6BD</td>\n",
       "      <td>NaN</td>\n",
       "      <td>NaN</td>\n",
       "      <td>Local Road</td>\n",
       "      <td>0</td>\n",
       "      <td>F</td>\n",
       "      <td>15760</td>\n",
       "      <td>LINESTRING Z (248833.550 387822.120 0.000, 248...</td>\n",
       "    </tr>\n",
       "    <tr>\n",
       "      <th>3</th>\n",
       "      <td>08461678-B973-45ED-93CA-B3BABD98BC75</td>\n",
       "      <td>NaN</td>\n",
       "      <td>NaN</td>\n",
       "      <td>Restricted Local Access Road</td>\n",
       "      <td>0</td>\n",
       "      <td>F</td>\n",
       "      <td>15762</td>\n",
       "      <td>LINESTRING Z (248753.190 387361.020 0.000, 248...</td>\n",
       "    </tr>\n",
       "    <tr>\n",
       "      <th>4</th>\n",
       "      <td>2BE50484-C47E-46A4-8FDB-BE3BA4CBE107</td>\n",
       "      <td>NaN</td>\n",
       "      <td>NaN</td>\n",
       "      <td>Restricted Local Access Road</td>\n",
       "      <td>0</td>\n",
       "      <td>F</td>\n",
       "      <td>15762</td>\n",
       "      <td>LINESTRING Z (248813.120 387329.190 0.000, 248...</td>\n",
       "    </tr>\n",
       "  </tbody>\n",
       "</table>\n",
       "</div>"
      ],
      "text/plain": [
       "                                     ID DISTNAME ROADNUMBER   \n",
       "0  ED8E3F1E-3ADA-40A6-8D96-B9CE5246135F      NaN        NaN  \\\n",
       "1  77845DFB-ECFF-4DD4-A484-506845DF2435      NaN        NaN   \n",
       "2  5E0208DE-B110-4963-BAA2-1DDB71FAF6BD      NaN        NaN   \n",
       "3  08461678-B973-45ED-93CA-B3BABD98BC75      NaN        NaN   \n",
       "4  2BE50484-C47E-46A4-8FDB-BE3BA4CBE107      NaN        NaN   \n",
       "\n",
       "                     CLASSIFICA DRAWLEVEL OVERRIDE  FEATCODE   \n",
       "0                    Local Road         0        F     15760  \\\n",
       "1  Restricted Local Access Road         0        F     15762   \n",
       "2                    Local Road         0        F     15760   \n",
       "3  Restricted Local Access Road         0        F     15762   \n",
       "4  Restricted Local Access Road         0        F     15762   \n",
       "\n",
       "                                            geometry  \n",
       "0  LINESTRING Z (248668.970 387486.850 0.000, 248...  \n",
       "1  LINESTRING Z (248833.550 387822.120 0.000, 248...  \n",
       "2  LINESTRING Z (248833.550 387822.120 0.000, 248...  \n",
       "3  LINESTRING Z (248753.190 387361.020 0.000, 248...  \n",
       "4  LINESTRING Z (248813.120 387329.190 0.000, 248...  "
      ]
     },
     "execution_count": 2,
     "metadata": {},
     "output_type": "execute_result"
    }
   ],
   "source": [
    "roads = gpd.read_file('SH_Road.shp')\n",
    "roads.head()"
   ]
  },
  {
   "cell_type": "code",
   "execution_count": 3,
   "metadata": {},
   "outputs": [
    {
     "data": {
      "text/html": [
       "<div>\n",
       "<style scoped>\n",
       "    .dataframe tbody tr th:only-of-type {\n",
       "        vertical-align: middle;\n",
       "    }\n",
       "\n",
       "    .dataframe tbody tr th {\n",
       "        vertical-align: top;\n",
       "    }\n",
       "\n",
       "    .dataframe thead th {\n",
       "        text-align: right;\n",
       "    }\n",
       "</style>\n",
       "<table border=\"1\" class=\"dataframe\">\n",
       "  <thead>\n",
       "    <tr style=\"text-align: right;\">\n",
       "      <th></th>\n",
       "      <th>ID</th>\n",
       "      <th>DISTNAME</th>\n",
       "      <th>ROADNUMBER</th>\n",
       "      <th>CLASSIFICA</th>\n",
       "      <th>DRAWLEVEL</th>\n",
       "      <th>OVERRIDE</th>\n",
       "      <th>FEATCODE</th>\n",
       "      <th>geometry</th>\n",
       "    </tr>\n",
       "  </thead>\n",
       "  <tbody>\n",
       "    <tr>\n",
       "      <th>39196</th>\n",
       "      <td>0807C27F-5B78-4265-8E5B-32DE499D846A</td>\n",
       "      <td>NaN</td>\n",
       "      <td>NaN</td>\n",
       "      <td>Restricted Local Access Road</td>\n",
       "      <td>0</td>\n",
       "      <td>F</td>\n",
       "      <td>15762</td>\n",
       "      <td>LINESTRING Z (256493.830 325710.310 0.000, 256...</td>\n",
       "    </tr>\n",
       "  </tbody>\n",
       "</table>\n",
       "</div>"
      ],
      "text/plain": [
       "                                         ID DISTNAME ROADNUMBER   \n",
       "39196  0807C27F-5B78-4265-8E5B-32DE499D846A      NaN        NaN  \\\n",
       "\n",
       "                         CLASSIFICA DRAWLEVEL OVERRIDE  FEATCODE   \n",
       "39196  Restricted Local Access Road         0        F     15762  \\\n",
       "\n",
       "                                                geometry  \n",
       "39196  LINESTRING Z (256493.830 325710.310 0.000, 256...  "
      ]
     },
     "execution_count": 3,
     "metadata": {},
     "output_type": "execute_result"
    }
   ],
   "source": [
    "selected_ids = ['131324F8-FBCD-4389-B15E-B4EF4021D593',\n",
    "                '1D5F1288-107D-485D-8CF2-C1117D328C9B',\n",
    "                'FE5D98A4-BCB2-4016-84CD-045B94858A3F']\n",
    "selected_ids = ['0807C27F-5B78-4265-8E5B-32DE499D846A']\n",
    "selected_roads = roads[roads['ID'].isin(selected_ids)]\n",
    "selected_roads"
   ]
  },
  {
   "cell_type": "code",
   "execution_count": 4,
   "metadata": {},
   "outputs": [
    {
     "data": {
      "text/plain": [
       "<Axes: >"
      ]
     },
     "execution_count": 4,
     "metadata": {},
     "output_type": "execute_result"
    },
    {
     "data": {
      "image/png": "[encoded data removed]",
      "text/plain": [
       "<Figure size 640x480 with 1 Axes>"
      ]
     },
     "metadata": {},
     "output_type": "display_data"
    }
   ],
   "source": [
    "selected_roads.plot()"
   ]
  },
  {
   "cell_type": "code",
   "execution_count": 5,
   "metadata": {},
   "outputs": [],
   "source": [
    "search_margin = 20"
   ]
  },
  {
   "cell_type": "code",
   "execution_count": 6,
   "metadata": {},
   "outputs": [
    {
     "data": {
      "text/html": [
       "<div>\n",
       "<style scoped>\n",
       "    .dataframe tbody tr th:only-of-type {\n",
       "        vertical-align: middle;\n",
       "    }\n",
       "\n",
       "    .dataframe tbody tr th {\n",
       "        vertical-align: top;\n",
       "    }\n",
       "\n",
       "    .dataframe thead th {\n",
       "        text-align: right;\n",
       "    }\n",
       "</style>\n",
       "<table border=\"1\" class=\"dataframe\">\n",
       "  <thead>\n",
       "    <tr style=\"text-align: right;\">\n",
       "      <th></th>\n",
       "      <th>minx</th>\n",
       "      <th>miny</th>\n",
       "      <th>maxx</th>\n",
       "      <th>maxy</th>\n",
       "    </tr>\n",
       "  </thead>\n",
       "  <tbody>\n",
       "    <tr>\n",
       "      <th>39196</th>\n",
       "      <td>256441.08</td>\n",
       "      <td>325566.0</td>\n",
       "      <td>256514.58</td>\n",
       "      <td>325710.31</td>\n",
       "    </tr>\n",
       "  </tbody>\n",
       "</table>\n",
       "</div>"
      ],
      "text/plain": [
       "            minx      miny       maxx       maxy\n",
       "39196  256441.08  325566.0  256514.58  325710.31"
      ]
     },
     "execution_count": 6,
     "metadata": {},
     "output_type": "execute_result"
    }
   ],
   "source": [
    "selected_roads.bounds"
   ]
  },
  {
   "cell_type": "code",
   "execution_count": 7,
   "metadata": {},
   "outputs": [
    {
     "data": {
      "text/plain": [
       "(256421.08000000002, 325546.0, 256534.58000000002, 325730.31)"
      ]
     },
     "execution_count": 7,
     "metadata": {},
     "output_type": "execute_result"
    }
   ],
   "source": [
    "all_bounds = (min(selected_roads.bounds['minx'])-search_margin,\n",
    "              min(selected_roads.bounds['miny'])-search_margin,\n",
    "              max(selected_roads.bounds['maxx'])+search_margin,\n",
    "              max(selected_roads.bounds['maxy'])+search_margin)\n",
    "all_bounds"
   ]
  },
  {
   "cell_type": "code",
   "execution_count": 8,
   "metadata": {},
   "outputs": [
    {
     "name": "stdout",
     "output_type": "stream",
     "text": [
      "(256477.83000000002, 325638.155) 184.30999999999767\n"
     ]
    }
   ],
   "source": [
    "max_extent = max((all_bounds[2]-all_bounds[0],\n",
    "                  all_bounds[3]-all_bounds[1]))\n",
    "centre = (0.5*(all_bounds[2]+all_bounds[0]),\n",
    "          0.5*(all_bounds[3]+all_bounds[1]))\n",
    "print(centre,max_extent)"
   ]
  },
  {
   "cell_type": "code",
   "execution_count": 9,
   "metadata": {},
   "outputs": [],
   "source": [
    "from scipy.stats.qmc import PoissonDisk"
   ]
  },
  {
   "cell_type": "code",
   "execution_count": 10,
   "metadata": {},
   "outputs": [],
   "source": [
    "import numpy as np"
   ]
  },
  {
   "cell_type": "code",
   "execution_count": 57,
   "metadata": {},
   "outputs": [
    {
     "name": "stdout",
     "output_type": "stream",
     "text": [
      "[[256498.7520463  325629.4905793 ]\n",
      " [256495.35649792 325635.47851434]\n",
      " [256499.89426147 325638.1401389 ]\n",
      " ...\n",
      " [256547.55347937 325710.39161209]\n",
      " [256385.68979186 325594.6387272 ]\n",
      " [256385.85118474 325601.43257403]] 834\n"
     ]
    }
   ],
   "source": [
    "radius = 5.0\n",
    "num_samples = (max_extent/radius)**2\n",
    "sampler = PoissonDisk(d=2, radius=radius/max_extent)\n",
    "scaled_samples = max_extent*(sampler.random(num_samples)-0.5)\n",
    "num_samples = np.size(scaled_samples,0)\n",
    "samples = scaled_samples + np.tile(np.array(centre),(num_samples,1))\n",
    "print(samples,num_samples)"
   ]
  },
  {
   "cell_type": "code",
   "execution_count": 58,
   "metadata": {},
   "outputs": [],
   "source": [
    "from shapely import Point, LineString"
   ]
  },
  {
   "cell_type": "code",
   "execution_count": 59,
   "metadata": {},
   "outputs": [],
   "source": [
    "sample_points = [Point(samples[ii,0],samples[ii,1]) for ii in range(num_samples)]"
   ]
  },
  {
   "cell_type": "code",
   "execution_count": 60,
   "metadata": {},
   "outputs": [],
   "source": [
    "sample_points = gpd.GeoSeries(sample_points,crs=roads.crs)"
   ]
  },
  {
   "cell_type": "code",
   "execution_count": 61,
   "metadata": {},
   "outputs": [
    {
     "data": {
      "text/plain": [
       "<Axes: >"
      ]
     },
     "execution_count": 61,
     "metadata": {},
     "output_type": "execute_result"
    },
    {
     "data": {
      "image/png": "[encoded data removed]",
      "text/plain": [
       "<Figure size 640x480 with 1 Axes>"
      ]
     },
     "metadata": {},
     "output_type": "display_data"
    }
   ],
   "source": [
    "ax = sample_points.plot()\n",
    "selected_roads.plot(ax=ax,color='red')"
   ]
  },
  {
   "cell_type": "code",
   "execution_count": 62,
   "metadata": {},
   "outputs": [
    {
     "data": {
      "text/plain": [
       "[37.93987964080407,\n",
       " 44.80227320950119,\n",
       " 45.561823904648705,\n",
       " 36.48918043495345,\n",
       " 36.520406941206055,\n",
       " 29.769085206827402,\n",
       " 32.05565094289428,\n",
       " 39.85489274640337,\n",
       " 42.80195008459403,\n",
       " 37.760007851843085,\n",
       " 39.84571838307999,\n",
       " 37.76326905987867,\n",
       " 46.18456853305536,\n",
       " 50.64770429784037,\n",
       " 46.020782553071605,\n",
       " 51.480021090336784,\n",
       " 41.340078386874204,\n",
       " 41.02194229180444,\n",
       " 47.22213224814091,\n",
       " 35.60409315887724,\n",
       " 22.038343156210935,\n",
       " 28.458402656798302,\n",
       " 25.16598551142157,\n",
       " 20.462525845660917,\n",
       " 29.386978304928345,\n",
       " 39.7276708163824,\n",
       " 34.7402349388373,\n",
       " 29.510461043901085,\n",
       " 31.965180479480985,\n",
       " 43.731251743335754,\n",
       " 17.939960889472506,\n",
       " 28.93863401742158,\n",
       " 24.314303672759845,\n",
       " 49.84864872804569,\n",
       " 40.730606543551545,\n",
       " 42.86790361953521,\n",
       " 39.349490218121026,\n",
       " 48.572452042655044,\n",
       " 42.97589123075669,\n",
       " 44.382093853090694,\n",
       " 37.944574182106045,\n",
       " 49.379770498152666,\n",
       " 30.502040950575495,\n",
       " 35.57178466656087,\n",
       " 35.42375598892722,\n",
       " 17.910549872411817,\n",
       " 18.568991543249986,\n",
       " 32.43887095131479,\n",
       " 35.870299543138046,\n",
       " 35.784945089063136,\n",
       " 26.399197083690066,\n",
       " 30.069318436443996,\n",
       " 10.02516149561954,\n",
       " 22.60456237371629,\n",
       " 10.744436523497981,\n",
       " 16.543861871168424,\n",
       " 43.06979513636411,\n",
       " 52.13493906215951,\n",
       " 20.867545266055565,\n",
       " 30.982345196759873,\n",
       " 56.90423169539037,\n",
       " 35.4800968123771,\n",
       " 38.18511685718304,\n",
       " 32.26026913982823,\n",
       " 31.067357524131353,\n",
       " 23.355579570087492,\n",
       " 21.572161114899625,\n",
       " 33.256518063197035,\n",
       " 25.650684319517367,\n",
       " 27.500783113758104,\n",
       " 9.159206551515421,\n",
       " 13.601848993738358,\n",
       " 8.380960748322673,\n",
       " 15.92939515534077,\n",
       " 18.355980632942124,\n",
       " 13.313882071149397,\n",
       " 14.663113523680364,\n",
       " 19.53689310877648,\n",
       " 23.011332825882977,\n",
       " 33.520075972206904,\n",
       " 25.950651203479662,\n",
       " 15.829465764715062,\n",
       " 4.966779284837687,\n",
       " 54.63803480124084,\n",
       " 49.53147145600011,\n",
       " 54.28409056230394,\n",
       " 44.52117797611039,\n",
       " 26.149249323820765,\n",
       " 22.848432988108733,\n",
       " 47.42233256400947,\n",
       " 49.07803359309374,\n",
       " 39.57028089975319,\n",
       " 13.732103214113799,\n",
       " 17.899864440804276,\n",
       " 10.187951960839895,\n",
       " 14.245897128989961,\n",
       " 20.567915668398314,\n",
       " 7.553798006178519,\n",
       " 22.817681305719372,\n",
       " 21.21231670428988,\n",
       " 16.01555775806192,\n",
       " 31.067838133732398,\n",
       " 41.50730753001184,\n",
       " 54.023353014386146,\n",
       " 55.90542394109598,\n",
       " 55.12877304064353,\n",
       " 14.961559089960678,\n",
       " 10.08318960509328,\n",
       " 9.758271663246394,\n",
       " 14.371251436680899,\n",
       " 18.945393602202525,\n",
       " 31.03466052583113,\n",
       " 26.513955294844322,\n",
       " 25.652459837406692,\n",
       " 12.422517593142967,\n",
       " 9.826462500993067,\n",
       " 16.796657584041803,\n",
       " 2.3785313476814607,\n",
       " 5.283299142370192,\n",
       " 5.659520125138085,\n",
       " 2.3226800119781466,\n",
       " 3.1011477374949314,\n",
       " 24.232119426009092,\n",
       " 24.18141867824965,\n",
       " 3.0615678013697645,\n",
       " 25.332510923719777,\n",
       " 6.466941216157173,\n",
       " 7.012265404833466,\n",
       " 8.900210642313212,\n",
       " 60.95429882383309,\n",
       " 61.550472690420506,\n",
       " 1.389273105373316,\n",
       " 5.827373131164457,\n",
       " 5.672393489594754,\n",
       " 6.154883394785169,\n",
       " 16.705013818642918,\n",
       " 9.96633787680292,\n",
       " 2.1535425994507125,\n",
       " 7.268294482214396,\n",
       " 13.365308240220363,\n",
       " 1.9861568277422483,\n",
       " 1.1786779361874389,\n",
       " 1.484649237924431,\n",
       " 10.858473852572892,\n",
       " 4.8211176514826555,\n",
       " 9.089616047763759,\n",
       " 52.88748644952669,\n",
       " 57.04457716380775,\n",
       " 22.355940924803672,\n",
       " 24.314104630096676,\n",
       " 7.303576837224796,\n",
       " 24.89424148047514,\n",
       " 25.0674443526777,\n",
       " 3.589037216355815,\n",
       " 0.9731830775288346,\n",
       " 8.349724779314823,\n",
       " 28.63363821441894,\n",
       " 21.70332415863597,\n",
       " 53.16110531658898,\n",
       " 45.98573411503874,\n",
       " 7.879157262754605,\n",
       " 16.943506219770075,\n",
       " 10.449033408746232,\n",
       " 27.435808375828778,\n",
       " 21.34798771719545,\n",
       " 14.031425756194718,\n",
       " 3.15518203574909,\n",
       " 15.774252212415638,\n",
       " 11.485261266461134,\n",
       " 8.784867580792367,\n",
       " 9.21003192335617,\n",
       " 3.6293922513338073,\n",
       " 62.58772745011372,\n",
       " 14.627199470869483,\n",
       " 19.26039015353578,\n",
       " 16.34066867107801,\n",
       " 11.102658199733584,\n",
       " 0.5232506645084376,\n",
       " 6.1412459838009275,\n",
       " 8.693153368630384,\n",
       " 7.19908705906302,\n",
       " 1.5493723821498115,\n",
       " 4.198731139842087,\n",
       " 7.112708449072802,\n",
       " 6.627675764487084,\n",
       " 63.95843236473721,\n",
       " 58.93739730708071,\n",
       " 67.8694503414617,\n",
       " 60.66332424469549,\n",
       " 22.337032714080596,\n",
       " 19.584198804322277,\n",
       " 13.676946160719654,\n",
       " 38.525749368335,\n",
       " 45.16282587305097,\n",
       " 52.925804078519775,\n",
       " 13.3585743917944,\n",
       " 15.989344301795589,\n",
       " 16.296789986515307,\n",
       " 49.61540572782081,\n",
       " 3.7461749626502177,\n",
       " 0.5756930475585678,\n",
       " 5.163127650370356,\n",
       " 5.686454250052425,\n",
       " 4.11735526732921,\n",
       " 10.581776315399908,\n",
       " 26.600761166029173,\n",
       " 32.857413722303114,\n",
       " 15.288987750565507,\n",
       " 6.742053457742761,\n",
       " 18.69058851776159,\n",
       " 19.69383743248133,\n",
       " 12.862107628783335,\n",
       " 29.32874555967249,\n",
       " 0.7239037201876798,\n",
       " 7.888603267473994,\n",
       " 4.211297923025397,\n",
       " 19.260551366554488,\n",
       " 3.7925457913342493,\n",
       " 16.811068637931033,\n",
       " 44.50945932252093,\n",
       " 47.58962637658734,\n",
       " 55.79184826958152,\n",
       " 52.921860751258386,\n",
       " 53.2303857164447,\n",
       " 34.65117581517916,\n",
       " 19.923404607893488,\n",
       " 53.984053374629816,\n",
       " 58.60734672503362,\n",
       " 53.599222398059844,\n",
       " 20.095167079906034,\n",
       " 20.622595109431227,\n",
       " 23.172213492530936,\n",
       " 17.838387974780723,\n",
       " 16.429511057623582,\n",
       " 25.659534308106533,\n",
       " 21.042389419694462,\n",
       " 25.697939860690898,\n",
       " 25.940345795590567,\n",
       " 21.387312601536475,\n",
       " 30.163616373704578,\n",
       " 3.1724750529655563,\n",
       " 0.5576371177068487,\n",
       " 22.305990100881754,\n",
       " 24.723123675152383,\n",
       " 16.192985524794313,\n",
       " 10.058303817539874,\n",
       " 15.043095664746673,\n",
       " 14.902693556319216,\n",
       " 64.16735365836112,\n",
       " 69.9070242242369,\n",
       " 67.65249878435455,\n",
       " 62.704130247772085,\n",
       " 48.36171358202228,\n",
       " 47.59787745203354,\n",
       " 50.39943284415523,\n",
       " 15.2335341622598,\n",
       " 14.497897690067429,\n",
       " 13.11118312846736,\n",
       " 14.205369070849788,\n",
       " 20.580505755795844,\n",
       " 14.765803447683636,\n",
       " 21.87195699503178,\n",
       " 25.82815561178449,\n",
       " 28.096147796145303,\n",
       " 27.565637749013554,\n",
       " 21.72614822673056,\n",
       " 21.312120632563087,\n",
       " 7.4887320140886535,\n",
       " 46.20833743453542,\n",
       " 41.31302084916999,\n",
       " 38.89045770973186,\n",
       " 12.025080210040011,\n",
       " 32.349172128505806,\n",
       " 31.78313089308758,\n",
       " 17.758766438163192,\n",
       " 24.785231290035764,\n",
       " 28.995136259615215,\n",
       " 34.81203475615234,\n",
       " 8.65692040364247,\n",
       " 4.884793658713355,\n",
       " 20.37894306575846,\n",
       " 14.169735077086418,\n",
       " 60.65439426607383,\n",
       " 20.760384501212965,\n",
       " 13.472947470049572,\n",
       " 70.7922918680157,\n",
       " 75.36148457623989,\n",
       " 65.78216778790973,\n",
       " 30.68552871962028,\n",
       " 62.18365486088383,\n",
       " 57.99781192243152,\n",
       " 2.9410376336864736,\n",
       " 12.425325332390445,\n",
       " 7.177570106441388,\n",
       " 33.16541859061832,\n",
       " 36.636137573846774,\n",
       " 58.8724860151436,\n",
       " 24.501001227299678,\n",
       " 11.65495644003716,\n",
       " 34.022238370809234,\n",
       " 35.92243541414361,\n",
       " 1.3228064745529535,\n",
       " 3.570233113118086,\n",
       " 8.304755403359577,\n",
       " 7.432482680982093,\n",
       " 2.50897872622057,\n",
       " 1.879754306774096,\n",
       " 11.100948436091217,\n",
       " 15.685738462156573,\n",
       " 13.739806870709293,\n",
       " 37.5683274280089,\n",
       " 34.84086548833447,\n",
       " 13.316294934325889,\n",
       " 16.46140665312503,\n",
       " 32.85183268393562,\n",
       " 28.70476930594292,\n",
       " 36.5871357296492,\n",
       " 36.69019736134009,\n",
       " 41.82717699961834,\n",
       " 37.46768611562368,\n",
       " 42.60689990628101,\n",
       " 47.36068406799416,\n",
       " 42.219684589215234,\n",
       " 44.208552622587554,\n",
       " 15.271593636389632,\n",
       " 22.009387061535232,\n",
       " 37.24235830632693,\n",
       " 27.292811735283184,\n",
       " 26.09763565486192,\n",
       " 11.190746305595804,\n",
       " 27.467958829422052,\n",
       " 28.90527832349839,\n",
       " 20.325496558122165,\n",
       " 6.2355991079968485,\n",
       " 10.360614697096558,\n",
       " 10.2393968420538,\n",
       " 10.390009240863325,\n",
       " 20.56439739769739,\n",
       " 42.11860736703338,\n",
       " 37.45188287932822,\n",
       " 33.05743956254181,\n",
       " 45.01815144566001,\n",
       " 30.942665887020635,\n",
       " 42.476114685825436,\n",
       " 36.190195947099106,\n",
       " 42.77076817280564,\n",
       " 8.391323225012323,\n",
       " 3.465125573981155,\n",
       " 1.758462399471849,\n",
       " 14.69560065257985,\n",
       " 5.839433150443208,\n",
       " 63.97351419272197,\n",
       " 68.93418170989764,\n",
       " 67.8468014806992,\n",
       " 45.634881478336276,\n",
       " 35.91862725249394,\n",
       " 50.41670978371555,\n",
       " 34.3169370936012,\n",
       " 39.95029964344238,\n",
       " 40.619243338079336,\n",
       " 31.603781006113657,\n",
       " 0.2697273812491246,\n",
       " 10.895288815579903,\n",
       " 56.450938719927585,\n",
       " 48.66703899415892,\n",
       " 58.074770921723626,\n",
       " 53.06924796682032,\n",
       " 58.20502552001533,\n",
       " 18.35953700726328,\n",
       " 22.18942266980258,\n",
       " 11.999244238189366,\n",
       " 63.82751214348657,\n",
       " 54.88586342149038,\n",
       " 17.251185190142724,\n",
       " 11.065831958479132,\n",
       " 16.427023386096884,\n",
       " 4.628419470144524,\n",
       " 8.38560376790239,\n",
       " 6.621065264134107,\n",
       " 38.33317140726715,\n",
       " 30.190081485353435,\n",
       " 35.88268225827251,\n",
       " 39.428554028101644,\n",
       " 9.59554884924042,\n",
       " 1.4716778167988334,\n",
       " 0.27226590754750807,\n",
       " 24.041856484417362,\n",
       " 4.3577291132710965,\n",
       " 0.5451345418073783,\n",
       " 6.645161103536578,\n",
       " 0.8122112440453396,\n",
       " 7.53751421939138,\n",
       " 12.368723656116392,\n",
       " 26.460072489677366,\n",
       " 26.78485188842313,\n",
       " 31.71957283538658,\n",
       " 32.6947837830337,\n",
       " 27.12970109868524,\n",
       " 51.51567151241901,\n",
       " 45.93718704978649,\n",
       " 51.33000690437837,\n",
       " 34.483832401422475,\n",
       " 41.61672520581661,\n",
       " 2.6095536633823393,\n",
       " 4.6913403337863935,\n",
       " 19.556975753028855,\n",
       " 34.71588845032779,\n",
       " 26.373624358243525,\n",
       " 29.000857697650332,\n",
       " 25.03331978547865,\n",
       " 44.64079950367155,\n",
       " 42.17999312966604,\n",
       " 46.761718918929496,\n",
       " 12.791127330845692,\n",
       " 8.038884355735552,\n",
       " 2.4977243043830812,\n",
       " 10.36901738020845,\n",
       " 49.13045262997751,\n",
       " 44.90221292082153,\n",
       " 52.628518874918974,\n",
       " 54.09198925618435,\n",
       " 19.07188910500161,\n",
       " 23.139576644681668,\n",
       " 9.024707561118465,\n",
       " 6.156725854492262,\n",
       " 8.327335223813469,\n",
       " 1.2908617610516844,\n",
       " 15.785483292949463,\n",
       " 48.78087160027926,\n",
       " 42.80708631583104,\n",
       " 45.05815236130363,\n",
       " 72.29894810549443,\n",
       " 16.448689413927347,\n",
       " 21.908534606575106,\n",
       " 20.332695964680447,\n",
       " 6.424782347637674,\n",
       " 6.245510435547721,\n",
       " 61.84145388893749,\n",
       " 33.140592935978894,\n",
       " 80.78370480994973,\n",
       " 75.43519938116623,\n",
       " 11.178187875015132,\n",
       " 12.255390542910433,\n",
       " 28.52390219284296,\n",
       " 14.571718731335313,\n",
       " 23.82825825129678,\n",
       " 24.782410214660423,\n",
       " 4.5942074272615265,\n",
       " 18.01488522985306,\n",
       " 14.231057953470584,\n",
       " 23.085724817464268,\n",
       " 21.809637847190437,\n",
       " 25.771515630229676,\n",
       " 30.685691826741817,\n",
       " 32.16130574974168,\n",
       " 2.7396370660455593,\n",
       " 14.402705861420142,\n",
       " 8.939391270511104,\n",
       " 13.073047018733304,\n",
       " 19.5389985616382,\n",
       " 35.233185027019154,\n",
       " 40.704908397088765,\n",
       " 40.8060436308181,\n",
       " 25.042267229395765,\n",
       " 32.5791557385256,\n",
       " 30.190432503419935,\n",
       " 48.56186144371392,\n",
       " 52.25236438729238,\n",
       " 75.94117825793504,\n",
       " 66.84567497038434,\n",
       " 11.283132375092968,\n",
       " 18.27061252925474,\n",
       " 14.683145707625687,\n",
       " 23.113132881366006,\n",
       " 23.292726198404477,\n",
       " 13.133478101268224,\n",
       " 27.600213042856662,\n",
       " 45.20632105339673,\n",
       " 48.87008937975912,\n",
       " 76.1909182637181,\n",
       " 71.27587323832753,\n",
       " 82.1058267167609,\n",
       " 5.443189642422397,\n",
       " 21.24865079939612,\n",
       " 82.50036585533732,\n",
       " 68.85515839426469,\n",
       " 41.19042419273254,\n",
       " 24.644120969148982,\n",
       " 29.21047464171819,\n",
       " 32.85661280583155,\n",
       " 75.07244356775716,\n",
       " 81.40666121713016,\n",
       " 40.640169318788566,\n",
       " 28.874508192306198,\n",
       " 36.872375676288094,\n",
       " 36.77786277568823,\n",
       " 48.919596631566925,\n",
       " 46.1184739733527,\n",
       " 43.39361781251282,\n",
       " 25.159846975791208,\n",
       " 19.615118437776495,\n",
       " 26.22180256235587,\n",
       " 57.269130031128036,\n",
       " 87.2693228333649,\n",
       " 80.12041920400932,\n",
       " 29.75240701852283,\n",
       " 27.151810750857347,\n",
       " 17.927709929854554,\n",
       " 41.47131858370142,\n",
       " 40.57772578801252,\n",
       " 37.28941908628476,\n",
       " 53.370492631452926,\n",
       " 50.60768142747833,\n",
       " 18.001029064321354,\n",
       " 9.582406699634058,\n",
       " 4.8571310538164205,\n",
       " 16.783478155651977,\n",
       " 12.77190526888967,\n",
       " 55.380497724262305,\n",
       " 5.386796588975548,\n",
       " 7.340473114698798,\n",
       " 12.934483487864766,\n",
       " 38.377732591589364,\n",
       " 28.014416175892237,\n",
       " 36.049122113521825,\n",
       " 54.948520308664506,\n",
       " 62.01820994399446,\n",
       " 10.420922034117014,\n",
       " 16.254884414503362,\n",
       " 19.852776414846755,\n",
       " 16.926463805568847,\n",
       " 22.188018599300843,\n",
       " 32.82383068846821,\n",
       " 16.82135902299495,\n",
       " 57.69790096570291,\n",
       " 58.77659634372396,\n",
       " 47.307882167742314,\n",
       " 41.35183110215037,\n",
       " 51.4644077990931,\n",
       " 37.67778076288075,\n",
       " 30.341749667094707,\n",
       " 32.30128219301947,\n",
       " 43.123966107081124,\n",
       " 50.05795952111925,\n",
       " 53.63005365836324,\n",
       " 56.68003166476378,\n",
       " 54.02039675733025,\n",
       " 29.637702763588017,\n",
       " 36.243346148428586,\n",
       " 84.3049897756103,\n",
       " 68.35270491659,\n",
       " 74.7033175526674,\n",
       " 42.821382645031235,\n",
       " 48.17228531679641,\n",
       " 45.97704692891097,\n",
       " 56.63903195058692,\n",
       " 59.52331468290232,\n",
       " 43.16920993113344,\n",
       " 49.92792316171961,\n",
       " 36.04812281053505,\n",
       " 37.84405827705018,\n",
       " 21.12869186271516,\n",
       " 22.705886885317028,\n",
       " 18.16886983390603,\n",
       " 53.044562033390285,\n",
       " 47.91532113413933,\n",
       " 42.28905653221643,\n",
       " 7.330929255032473,\n",
       " 15.890228568209617,\n",
       " 9.55653701794994,\n",
       " 9.627587442992345,\n",
       " 36.4557052481647,\n",
       " 54.131328617275294,\n",
       " 61.08802038081945,\n",
       " 48.225077341391625,\n",
       " 2.5108407407581304,\n",
       " 9.472723295448382,\n",
       " 0.10763184499292165,\n",
       " 11.333570267691156,\n",
       " 7.145805828161524,\n",
       " 29.067804855897013,\n",
       " 44.70011236476253,\n",
       " 31.25603619604621,\n",
       " 36.63179951801649,\n",
       " 56.28424227320412,\n",
       " 26.37360571471323,\n",
       " 33.68757578499845,\n",
       " 4.626274970062258,\n",
       " 2.572015546025095,\n",
       " 15.961879380406584,\n",
       " 11.325042285561821,\n",
       " 40.7963777183618,\n",
       " 32.27660698735634,\n",
       " 45.875746772841175,\n",
       " 36.60583931114847,\n",
       " 41.52318575339909,\n",
       " 41.71644201035649,\n",
       " 49.26738443106278,\n",
       " 2.06574658015079,\n",
       " 25.232448522447214,\n",
       " 6.263027665716652,\n",
       " 11.014440676427292,\n",
       " 4.179503399382868,\n",
       " 9.803311598688868,\n",
       " 19.43284566689428,\n",
       " 2.292041697242238,\n",
       " 16.795396205270343,\n",
       " 52.19361640171358,\n",
       " 44.04681653967615,\n",
       " 19.7297606132037,\n",
       " 32.316050808952966,\n",
       " 34.64229585267849,\n",
       " 49.12584013685732,\n",
       " 44.41234836913276,\n",
       " 45.716761534962124,\n",
       " 21.495978629902748,\n",
       " 50.290601104205784,\n",
       " 37.35465526333317,\n",
       " 28.845573234634312,\n",
       " 41.06274180052495,\n",
       " 31.561396530441634,\n",
       " 28.96810694024219,\n",
       " 69.35571375495536,\n",
       " 70.55459434229188,\n",
       " 77.88466778550529,\n",
       " 22.833956150379347,\n",
       " 21.42083538285337,\n",
       " 14.475598855097394,\n",
       " 9.422102110104426,\n",
       " 55.527545757547585,\n",
       " 43.68226330603807,\n",
       " 34.3888600331296,\n",
       " 25.11000019567694,\n",
       " 19.063016323605616,\n",
       " 31.171782220779676,\n",
       " 30.74377569673465,\n",
       " 48.51714402509074,\n",
       " 50.75049054013139,\n",
       " 60.047212593323934,\n",
       " 16.22867161424843,\n",
       " 20.794331302239296,\n",
       " 48.82028358132698,\n",
       " 37.58155864847097,\n",
       " 44.028640815457564,\n",
       " 59.48070383977548,\n",
       " 67.39123194960874,\n",
       " 63.810104830851245,\n",
       " 60.27644546464283,\n",
       " 53.38391048473202,\n",
       " 27.45291405392867,\n",
       " 22.334408509257987,\n",
       " 32.801581353254626,\n",
       " 52.083960596390185,\n",
       " 55.65684745056043,\n",
       " 34.62731884165936,\n",
       " 39.977742740701146,\n",
       " 20.779569904567886,\n",
       " 21.453237594965795,\n",
       " 25.15536039043972,\n",
       " 41.183817831921004,\n",
       " 20.346349576294596,\n",
       " 25.190257987188005,\n",
       " 24.830603800518865,\n",
       " 61.15765722633122,\n",
       " 59.43985729146503,\n",
       " 55.27056771506871,\n",
       " 38.33480212084364,\n",
       " 49.54710634997378,\n",
       " 47.71009363389239,\n",
       " 25.994548339408606,\n",
       " 64.35026026536363,\n",
       " 23.38636432321373,\n",
       " 29.251918914939097,\n",
       " 24.847754560657474,\n",
       " 11.464078041994437,\n",
       " 16.75420030564304,\n",
       " 13.14390176050033,\n",
       " 19.25167970016893,\n",
       " 18.297568687295403,\n",
       " 24.443971932105537,\n",
       " 56.2443697890117,\n",
       " 56.57475416770028,\n",
       " 62.710580819764346,\n",
       " 32.94161467058648,\n",
       " 30.418142126600227,\n",
       " 37.630976542456104,\n",
       " 27.942966005096924,\n",
       " 33.9824329183612,\n",
       " 36.217195846704314,\n",
       " 37.21078267937185,\n",
       " 30.056924947653155,\n",
       " 30.85422110879254,\n",
       " 31.04866888130343,\n",
       " 72.63652105691327,\n",
       " 23.91996007129879,\n",
       " 53.68783423844736,\n",
       " 52.838161775184865,\n",
       " 21.91062600364813,\n",
       " 60.47441474893795,\n",
       " 55.54983482146582,\n",
       " 31.2051342957881,\n",
       " 28.055289896257218,\n",
       " 25.239467667430787,\n",
       " 16.927388443949706,\n",
       " 12.3742287689229,\n",
       " 17.03065984144603,\n",
       " 19.795666538282873,\n",
       " 49.47219507716952,\n",
       " 52.014944380148165,\n",
       " 50.125864197534405,\n",
       " 58.78547962349485,\n",
       " 59.20583438167262,\n",
       " 58.514106772489995,\n",
       " 53.427504788578446,\n",
       " 42.235250670217916,\n",
       " 29.984672699203593,\n",
       " 31.05703317937224,\n",
       " 39.129175860063114,\n",
       " 35.625393000801104,\n",
       " 39.921702275052034,\n",
       " 35.988362198055135,\n",
       " 53.934192943254494,\n",
       " 65.71195234091259,\n",
       " 60.45140075536151,\n",
       " 60.63690801942118,\n",
       " 56.31206882935471,\n",
       " 46.37606107656658,\n",
       " 49.084014958682936,\n",
       " 50.19126460203296,\n",
       " 12.5287688046348,\n",
       " 48.34565585132379,\n",
       " 50.772968481048395,\n",
       " 44.400904339562054,\n",
       " 51.62385233688552,\n",
       " 61.45120494611854,\n",
       " 43.940488306107355,\n",
       " 52.73377254080977,\n",
       " 65.68437587445759,\n",
       " 61.641769203792585,\n",
       " 39.68277737908954,\n",
       " 67.41838607539606,\n",
       " 69.05988198925941,\n",
       " 69.5758055521011,\n",
       " 51.99236654065965,\n",
       " 45.55025556470587,\n",
       " 52.21114659915183,\n",
       " 47.17069019871273,\n",
       " 58.27997018690824,\n",
       " 48.67637247901136,\n",
       " 74.12193536954962,\n",
       " 75.18678656585772,\n",
       " 79.06508800645065,\n",
       " 53.38528993954871,\n",
       " 52.356101044262815,\n",
       " 57.16809262791909,\n",
       " 58.64504954664923,\n",
       " 58.61880575324136,\n",
       " 45.68572635893924,\n",
       " 25.862345142211453,\n",
       " 55.68467241855634,\n",
       " 64.12882627739727,\n",
       " 4.617359371659795,\n",
       " 13.95193054706916,\n",
       " 58.03877243975774,\n",
       " 41.26504818781181,\n",
       " 37.309605342434374,\n",
       " 62.64690743250855,\n",
       " 46.64483586294223,\n",
       " 41.0170898739438,\n",
       " 64.63953544121371,\n",
       " 68.45908980297253,\n",
       " 72.0049965636079,\n",
       " 35.67217528697915,\n",
       " 43.52372723403896,\n",
       " 43.8949473189109,\n",
       " 58.30004201626584,\n",
       " 63.31662192623276,\n",
       " 67.86973097262829,\n",
       " 66.08724494930794,\n",
       " 18.47447531217758,\n",
       " 15.826102930704698,\n",
       " 20.817840968758915,\n",
       " 48.936453213675065,\n",
       " 41.24655494080276,\n",
       " 63.06959566718267,\n",
       " 69.0829518562649,\n",
       " 28.56666363498438,\n",
       " 76.99732716723497,\n",
       " 24.110804093265955,\n",
       " 50.147512810585134,\n",
       " 51.708306418068986,\n",
       " 47.809538841702086,\n",
       " 71.63648292302774,\n",
       " 46.59775893120874,\n",
       " 64.0834944740978,\n",
       " 69.75470007145863,\n",
       " 76.44449539590721,\n",
       " 67.20379099320589,\n",
       " 50.406962590150435,\n",
       " 41.0161179175948,\n",
       " 45.86281029511223,\n",
       " 62.28432208850562,\n",
       " 59.17862307161949,\n",
       " 69.45566712197025,\n",
       " 67.31236094586949,\n",
       " 68.08253234683332,\n",
       " 58.73245340390494,\n",
       " 36.59595791528929,\n",
       " 53.17515571859884,\n",
       " 32.145608900095596,\n",
       " 62.10278832371301,\n",
       " 52.78823939833964,\n",
       " 58.451364383548174,\n",
       " 64.84727248749398,\n",
       " 18.49893901994898,\n",
       " 59.32444005000687,\n",
       " 52.969665395966395,\n",
       " 57.568525824867116,\n",
       " 42.56037470701547,\n",
       " 60.462139988064365,\n",
       " 35.95397464290965,\n",
       " 51.89062200572465,\n",
       " 11.276114251795429,\n",
       " 75.72768380936121,\n",
       " 56.55518680436003,\n",
       " 73.51317863608747,\n",
       " 74.74193419527752,\n",
       " 44.10055631344474,\n",
       " 72.72230188314767,\n",
       " 74.23864148670685,\n",
       " 40.194710186004656,\n",
       " 53.72354135423005,\n",
       " 56.547303688327986,\n",
       " 57.02789784642697]"
      ]
     },
     "execution_count": 62,
     "metadata": {},
     "output_type": "execute_result"
    }
   ],
   "source": [
    "sample_distances = [min(selected_roads.distance(p)) for p in sample_points]\n",
    "sample_distances"
   ]
  },
  {
   "cell_type": "code",
   "execution_count": 63,
   "metadata": {},
   "outputs": [
    {
     "data": {
      "text/plain": [
       "<Axes: >"
      ]
     },
     "execution_count": 63,
     "metadata": {},
     "output_type": "execute_result"
    },
    {
     "data": {
      "image/png": "[encoded data removed]",
      "text/plain": [
       "<Figure size 640x480 with 1 Axes>"
      ]
     },
     "metadata": {},
     "output_type": "display_data"
    }
   ],
   "source": [
    "flags = [d < search_margin+0.95*radius and d > search_margin for d in sample_distances]\n",
    "edge_points = sample_points[flags]\n",
    "edge_points.plot()"
   ]
  },
  {
   "cell_type": "code",
   "execution_count": 64,
   "metadata": {},
   "outputs": [
    {
     "data": {
      "text/plain": [
       "<Axes: >"
      ]
     },
     "execution_count": 64,
     "metadata": {},
     "output_type": "execute_result"
    },
    {
     "data": {
      "image/png": "[encoded data removed]",
      "text/plain": [
       "<Figure size 640x480 with 1 Axes>"
      ]
     },
     "metadata": {},
     "output_type": "display_data"
    }
   ],
   "source": [
    "flags = [d < 0.6*radius for d in sample_distances]\n",
    "road_points = sample_points[flags]\n",
    "road_points.plot()"
   ]
  },
  {
   "cell_type": "code",
   "execution_count": 65,
   "metadata": {},
   "outputs": [
    {
     "data": {
      "image/svg+xml": [
       "<svg xmlns=\"http://www.w3.org/2000/svg\" xmlns:xlink=\"http://www.w3.org/1999/xlink\" width=\"100.0\" height=\"100.0\" viewBox=\"256485.27489370547 325728.68329562014 2.0 2.0\" preserveAspectRatio=\"xMinYMin meet\"><g transform=\"matrix(1,0,0,-1,0,651459.3665912403)\"><circle cx=\"256486.27489370547\" cy=\"325729.68329562014\" r=\"0.06\" stroke=\"#555555\" stroke-width=\"0.02\" fill=\"#66cc99\" opacity=\"0.6\" /></g></svg>"
      ],
      "text/plain": [
       "<POINT (256486.275 325729.683)>"
      ]
     },
     "execution_count": 65,
     "metadata": {},
     "output_type": "execute_result"
    }
   ],
   "source": [
    "top_arg = np.argmax(edge_points.y)\n",
    "top_point = edge_points.iloc[top_arg]\n",
    "top_point"
   ]
  },
  {
   "cell_type": "code",
   "execution_count": 66,
   "metadata": {},
   "outputs": [],
   "source": [
    "from shapely.ops import nearest_points"
   ]
  },
  {
   "cell_type": "code",
   "execution_count": 67,
   "metadata": {},
   "outputs": [
    {
     "data": {
      "image/svg+xml": [
       "<svg xmlns=\"http://www.w3.org/2000/svg\" xmlns:xlink=\"http://www.w3.org/1999/xlink\" width=\"100.0\" height=\"155.85480000003008\" viewBox=\"256435.30760000003 325560.2276 85.0447999999742 155.85480000003008\" preserveAspectRatio=\"xMinYMin meet\"><g transform=\"matrix(1,0,0,-1,0,651276.31)\"><polyline fill=\"none\" stroke=\"#66cc99\" stroke-width=\"2.0\" points=\"256493.83000000002,325710.31 256484.38,325704.19 256455.23,325685.33 256448.72,325660.34 256441.08000000002,325579.76 256446.76,325568.78 256466.48,325566.0 256506.44,325590.10000000003 256514.58000000002,325595.01\" opacity=\"0.8\" /></g></svg>"
      ],
      "text/plain": [
       "<LINESTRING Z (256493.83 325710.31 0, 256484.38 325704.19 0, 256455.23 32568...>"
      ]
     },
     "execution_count": 67,
     "metadata": {},
     "output_type": "execute_result"
    }
   ],
   "source": [
    "selected_roads.unary_union"
   ]
  },
  {
   "cell_type": "code",
   "execution_count": 68,
   "metadata": {},
   "outputs": [],
   "source": [
    "top_nearest = gpd.GeoSeries(nearest_points(top_point, selected_roads.unary_union))"
   ]
  },
  {
   "cell_type": "code",
   "execution_count": 69,
   "metadata": {},
   "outputs": [
    {
     "data": {
      "text/plain": [
       "<Axes: >"
      ]
     },
     "execution_count": 69,
     "metadata": {},
     "output_type": "execute_result"
    },
    {
     "data": {
      "image/png": "[encoded data removed]",
      "text/plain": [
       "<Figure size 640x480 with 1 Axes>"
      ]
     },
     "metadata": {},
     "output_type": "display_data"
    }
   ],
   "source": [
    "ax = edge_points.plot()\n",
    "selected_roads.plot(ax=ax)\n",
    "top_nearest.plot(ax=ax)"
   ]
  },
  {
   "cell_type": "code",
   "execution_count": 70,
   "metadata": {},
   "outputs": [],
   "source": [
    "opposite_point = Point(top_point.x + 2*(top_nearest[1].x - top_point.x),\n",
    "                       top_point.y + 2*(top_nearest[1].y - top_point.y))"
   ]
  },
  {
   "cell_type": "code",
   "execution_count": 71,
   "metadata": {},
   "outputs": [
    {
     "data": {
      "text/plain": [
       "<Axes: >"
      ]
     },
     "execution_count": 71,
     "metadata": {},
     "output_type": "execute_result"
    },
    {
     "data": {
      "image/png": "[encoded data removed]",
      "text/plain": [
       "<Figure size 640x480 with 1 Axes>"
      ]
     },
     "metadata": {},
     "output_type": "display_data"
    }
   ],
   "source": [
    "ax = edge_points.plot()\n",
    "selected_roads.plot(ax=ax)\n",
    "top_nearest.plot(ax=ax)\n",
    "gpd.GeoSeries([opposite_point]).plot(ax=ax)"
   ]
  },
  {
   "cell_type": "code",
   "execution_count": 72,
   "metadata": {},
   "outputs": [
    {
     "data": {
      "image/svg+xml": [
       "<svg xmlns=\"http://www.w3.org/2000/svg\" xmlns:xlink=\"http://www.w3.org/1999/xlink\" width=\"100.0\" height=\"100.0\" viewBox=\"256485.27489370547 325728.68329562014 2.0 2.0\" preserveAspectRatio=\"xMinYMin meet\"><g transform=\"matrix(1,0,0,-1,0,651459.3665912403)\"><circle cx=\"256486.27489370547\" cy=\"325729.68329562014\" r=\"0.06\" stroke=\"#555555\" stroke-width=\"0.02\" fill=\"#66cc99\" opacity=\"0.6\" /></g></svg>"
      ],
      "text/plain": [
       "<POINT (256486.275 325729.683)>"
      ]
     },
     "execution_count": 72,
     "metadata": {},
     "output_type": "execute_result"
    }
   ],
   "source": [
    "start_point = top_point\n",
    "start_point"
   ]
  },
  {
   "cell_type": "code",
   "execution_count": 73,
   "metadata": {},
   "outputs": [
    {
     "data": {
      "text/plain": [
       "(array('d', [256501.38510629456]), array('d', [325690.93670437986]))"
      ]
     },
     "execution_count": 73,
     "metadata": {},
     "output_type": "execute_result"
    }
   ],
   "source": [
    "def opposing_point(first_point, overshoot=1.0):\n",
    "    nearest_road = nearest_points(first_point, selected_roads.unary_union)[1]\n",
    "    opposite_point = Point(first_point.x + (1.0+overshoot)*(nearest_road.x - first_point.x),\n",
    "                           first_point.y + (1.0+overshoot)*(nearest_road.y - first_point.y))\n",
    "    return opposite_point\n",
    "\n",
    "opposing_point(start_point).xy"
   ]
  },
  {
   "cell_type": "code",
   "execution_count": 74,
   "metadata": {},
   "outputs": [],
   "source": [
    "gdf_edge_points = gpd.GeoDataFrame(geometry=edge_points)\n",
    "gdf_edge_points['visited'] = False"
   ]
  },
  {
   "cell_type": "code",
   "execution_count": 75,
   "metadata": {},
   "outputs": [],
   "source": [
    "def closest_unvisited_edge_point_name(target_point):\n",
    "    unvisited_points = gdf_edge_points[gdf_edge_points['visited']==False]\n",
    "    ix_closest = np.argmin(unvisited_points.distance(target_point))\n",
    "    closest_point_name = unvisited_points.iloc[ix_closest].name\n",
    "    return closest_point_name\n",
    "closest_point_name = closest_unvisited_edge_point_name(opposite_point)"
   ]
  },
  {
   "cell_type": "code",
   "execution_count": 76,
   "metadata": {},
   "outputs": [
    {
     "data": {
      "text/plain": [
       "<Axes: >"
      ]
     },
     "execution_count": 76,
     "metadata": {},
     "output_type": "execute_result"
    },
    {
     "data": {
      "image/png": "[encoded data removed]",
      "text/plain": [
       "<Figure size 640x480 with 1 Axes>"
      ]
     },
     "metadata": {},
     "output_type": "display_data"
    }
   ],
   "source": [
    "ax = edge_points.plot()\n",
    "selected_roads.plot(ax=ax)\n",
    "top_nearest.plot(ax=ax)\n",
    "gpd.GeoSeries([opposite_point]).plot(ax=ax)\n",
    "gdf_edge_points[gdf_edge_points.index==closest_point_name].plot(ax=ax,color='r',marker='+')"
   ]
  },
  {
   "cell_type": "code",
   "execution_count": 77,
   "metadata": {},
   "outputs": [],
   "source": [
    "start_point = gdf_edge_points.iloc[top_arg]\n",
    "gdf_edge_points.loc[start_point.name,'visited'] = True"
   ]
  },
  {
   "cell_type": "code",
   "execution_count": 78,
   "metadata": {},
   "outputs": [
    {
     "data": {
      "text/plain": [
       "[<POINT (256486.275 325729.683)>,\n",
       " <POINT (256506.477 325694.389)>,\n",
       " <POINT (256511.963 325698.014)>,\n",
       " <POINT (256470.096 325720.924)>,\n",
       " <POINT (256464.268 325719.558)>,\n",
       " <POINT (256489.516 325681.084)>,\n",
       " <POINT (256482.652 325677.222)>,\n",
       " <POINT (256452.018 325708.855)>,\n",
       " <POINT (256442.765 325706.379)>,\n",
       " <POINT (256473.504 325664.843)>,\n",
       " <POINT (256471.704 325655.319)>,\n",
       " <POINT (256427.807 325659.717)>,\n",
       " <POINT (256425.734 325664.649)>,\n",
       " <POINT (256469.456 325650.502)>,\n",
       " <POINT (256471.05 325639.664)>,\n",
       " <POINT (256425.738 325643.731)>,\n",
       " <POINT (256426.16 325638.296)>,\n",
       " <POINT (256470.141 325629.548)>,\n",
       " <POINT (256466.485 325602.211)>,\n",
       " <POINT (256419.388 325604.385)>,\n",
       " <POINT (256420.654 325599.389)>,\n",
       " <POINT (256462.661 325594.479)>,\n",
       " <POINT (256467.418 325592.673)>,\n",
       " <POINT (256489.471 325556.13)>,\n",
       " <POINT (256497.193 325559.95)>,\n",
       " <POINT (256478.274 325597.884)>,\n",
       " <POINT (256471.498 325597.42)>,\n",
       " <POINT (256502.749 325559.262)>,\n",
       " <POINT (256516.39 325570.559)>,\n",
       " <POINT (256495.135 325611.676)>,\n",
       " <POINT (256500.067 325613.129)>,\n",
       " <POINT (256521.531 325575.168)>,\n",
       " <POINT (256526.144 325578.005)>,\n",
       " <POINT (256506.734 325613.909)>,\n",
       " <POINT (256511.759 325616.867)>,\n",
       " <POINT (256533.385 325584.823)>,\n",
       " <POINT (256536.916 325594.809)>,\n",
       " <POINT (256484.93 325603.525)>,\n",
       " <POINT (256462.585 325588.095)>,\n",
       " <POINT (256419.517 325588.951)>,\n",
       " <POINT (256419.693 325578.557)>,\n",
       " <POINT (256478.635 325547.282)>,\n",
       " <POINT (256485.277 325548.465)>,\n",
       " <POINT (256422.907 325608.231)>,\n",
       " <POINT (256422.978 325616.117)>,\n",
       " <POINT (256424.153 325633.359)>,\n",
       " <POINT (256426.201 325653.01)>,\n",
       " <POINT (256425.731 325669.85)>,\n",
       " <POINT (256429.312 325677.627)>,\n",
       " <POINT (256436.874 325694.107)>,\n",
       " <POINT (256433.682 325689.921)>,\n",
       " <POINT (256429.97 325683.734)>,\n",
       " <POINT (256480.145 325728.652)>,\n",
       " <POINT (256515.977 325703.793)>,\n",
       " <POINT (256514.046 325716.853)>,\n",
       " <POINT (256502.634 325729.174)>,\n",
       " <POINT (256513.14 325724.748)>,\n",
       " <POINT (256519.224 325615.354)>,\n",
       " <POINT (256529.933 325611.89)>,\n",
       " <POINT (256535.229 325600.43)>,\n",
       " <POINT (256532.17 325605.67)>,\n",
       " <POINT (256442.843 325546.415)>,\n",
       " <POINT (256437.849 325549.622)>,\n",
       " <POINT (256420.994 325567.894)>,\n",
       " <POINT (256426.085 325558.443)>]"
      ]
     },
     "execution_count": 78,
     "metadata": {},
     "output_type": "execute_result"
    }
   ],
   "source": [
    "current_point = start_point\n",
    "gdf_edge_points['visited'] = False\n",
    "gdf_edge_points.loc[start_point.name,'visited'] = True\n",
    "tour = [start_point.geometry]\n",
    "for ii in range(len(gdf_edge_points)):\n",
    "    opposite_point = opposing_point(current_point.geometry)\n",
    "    closest_point_name = closest_unvisited_edge_point_name(opposite_point)\n",
    "    tour.append(gdf_edge_points.loc[closest_point_name,'geometry'])\n",
    "    gdf_edge_points.loc[closest_point_name,'visited'] = True\n",
    "    current_point = gdf_edge_points.loc[closest_point_name]\n",
    "    if np.all(gdf_edge_points['visited']):\n",
    "        break\n",
    "    closest_point_name = closest_unvisited_edge_point_name(current_point.geometry)\n",
    "    tour.append(gdf_edge_points.loc[closest_point_name,'geometry'])\n",
    "    gdf_edge_points.loc[closest_point_name,'visited'] = True\n",
    "    current_point = gdf_edge_points.loc[closest_point_name]\n",
    "    if np.all(gdf_edge_points['visited']):\n",
    "        break\n",
    "    \n",
    "tour"
   ]
  },
  {
   "cell_type": "code",
   "execution_count": 79,
   "metadata": {},
   "outputs": [
    {
     "data": {
      "text/plain": [
       "[<POINT (256493.83 325710.31)>,\n",
       " <POINT (256486.275 325729.683)>,\n",
       " <POINT (256493.83 325710.31)>,\n",
       " <POINT (256506.477 325694.389)>,\n",
       " <POINT (256511.963 325698.014)>,\n",
       " <POINT (256493.83 325710.31)>,\n",
       " <POINT (256480.145 325728.652)>,\n",
       " <POINT (256470.096 325720.924)>,\n",
       " <POINT (256481.943 325702.613)>,\n",
       " <POINT (256489.516 325681.084)>,\n",
       " <POINT (256482.652 325677.222)>,\n",
       " <POINT (256470.862 325695.444)>,\n",
       " <POINT (256452.018 325708.855)>,\n",
       " <POINT (256442.765 325706.379)>,\n",
       " <POINT (256456.043 325685.856)>,\n",
       " <POINT (256473.504 325664.843)>,\n",
       " <POINT (256471.704 325655.319)>,\n",
       " <POINT (256448.453 325657.524)>,\n",
       " <POINT (256427.807 325659.717)>,\n",
       " <POINT (256425.734 325664.649)>,\n",
       " <POINT (256448.72 325660.34)>,\n",
       " <POINT (256469.456 325650.502)>,\n",
       " <POINT (256471.05 325639.664)>,\n",
       " <POINT (256446.976 325641.947)>,\n",
       " <POINT (256425.738 325643.731)>,\n",
       " <POINT (256426.16 325638.296)>,\n",
       " <POINT (256446.448 325636.373)>,\n",
       " <POINT (256470.141 325629.548)>,\n",
       " <POINT (256466.485 325602.211)>,\n",
       " <POINT (256443.416 325604.398)>,\n",
       " <POINT (256422.907 325608.231)>,\n",
       " <POINT (256419.388 325604.385)>,\n",
       " <POINT (256443.201 325602.128)>,\n",
       " <POINT (256462.661 325594.479)>,\n",
       " <POINT (256467.418 325592.673)>,\n",
       " <POINT (256478.964 325573.529)>,\n",
       " <POINT (256489.471 325556.13)>,\n",
       " <POINT (256497.193 325559.95)>,\n",
       " <POINT (256486.326 325577.969)>,\n",
       " <POINT (256478.274 325597.884)>,\n",
       " <POINT (256471.498 325597.42)>,\n",
       " <POINT (256484.055 325576.599)>,\n",
       " <POINT (256502.749 325559.262)>,\n",
       " <POINT (256516.39 325570.559)>,\n",
       " <POINT (256505.094 325589.288)>,\n",
       " <POINT (256495.135 325611.676)>,\n",
       " <POINT (256500.067 325613.129)>,\n",
       " <POINT (256511.952 325593.425)>,\n",
       " <POINT (256521.531 325575.168)>,\n",
       " <POINT (256526.144 325578.005)>,\n",
       " <POINT (256514.58 325595.01)>,\n",
       " <POINT (256506.734 325613.909)>,\n",
       " <POINT (256511.759 325616.867)>,\n",
       " <POINT (256514.58 325595.01)>,\n",
       " <POINT (256533.385 325584.823)>,\n",
       " <POINT (256536.916 325594.809)>,\n",
       " <POINT (256514.58 325595.01)>,\n",
       " <POINT (256484.93 325603.525)>,\n",
       " <POINT (256462.585 325588.095)>,\n",
       " <POINT (256442.055 325590.042)>,\n",
       " <POINT (256419.517 325588.951)>,\n",
       " <POINT (256419.693 325578.557)>,\n",
       " <POINT (256441.08 325579.76)>,\n",
       " <POINT (256437.849 325549.622)>,\n",
       " <POINT (256442.843 325546.415)>,\n",
       " <POINT (256446.76 325568.78)>,\n",
       " <POINT (256420.654 325599.389)>,\n",
       " <POINT (256422.978 325616.117)>,\n",
       " <POINT (256444.335 325614.092)>,\n",
       " <POINT (256424.153 325633.359)>,\n",
       " <POINT (256426.201 325653.01)>,\n",
       " <POINT (256447.831 325650.96)>,\n",
       " <POINT (256425.731 325669.85)>,\n",
       " <POINT (256429.312 325677.627)>,\n",
       " <POINT (256451.704 325671.794)>,\n",
       " <POINT (256436.874 325694.107)>,\n",
       " <POINT (256433.682 325689.921)>,\n",
       " <POINT (256454.981 325684.373)>,\n",
       " <POINT (256464.268 325719.558)>,\n",
       " <POINT (256502.634 325729.174)>,\n",
       " <POINT (256493.83 325710.31)>,\n",
       " <POINT (256515.977 325703.793)>,\n",
       " <POINT (256514.046 325716.853)>,\n",
       " <POINT (256493.83 325710.31)>,\n",
       " <POINT (256513.14 325724.748)>,\n",
       " <POINT (256429.97 325683.734)>,\n",
       " <POINT (256453.235 325677.673)>,\n",
       " <POINT (256519.224 325615.354)>,\n",
       " <POINT (256529.933 325611.89)>,\n",
       " <POINT (256514.58 325595.01)>,\n",
       " <POINT (256535.229 325600.43)>,\n",
       " <POINT (256532.17 325605.67)>,\n",
       " <POINT (256514.58 325595.01)>,\n",
       " <POINT (256485.277 325548.465)>,\n",
       " <POINT (256478.635 325547.282)>,\n",
       " <POINT (256467.115 325566.383)>,\n",
       " <POINT (256426.085 325558.443)>,\n",
       " <POINT (256420.994 325567.894)>]"
      ]
     },
     "execution_count": 79,
     "metadata": {},
     "output_type": "execute_result"
    }
   ],
   "source": [
    "current_point = start_point\n",
    "gdf_edge_points['visited'] = False\n",
    "gdf_edge_points.loc[start_point.name,'visited'] = True\n",
    "start_road = nearest_points(current_point.geometry, selected_roads.unary_union)[1]\n",
    "tour = [Point(start_road.x,start_road.y),start_point.geometry]\n",
    "for ii in range(len(gdf_edge_points)):\n",
    "    nearest_road = nearest_points(current_point.geometry, selected_roads.unary_union)[1]\n",
    "    tour.append(Point(nearest_road.x,nearest_road.y))\n",
    "    opposite_point = opposing_point(current_point.geometry,overshoot=0.75)\n",
    "    closest_point_name = closest_unvisited_edge_point_name(opposite_point)\n",
    "    tour.append(gdf_edge_points.loc[closest_point_name,'geometry'])\n",
    "    gdf_edge_points.loc[closest_point_name,'visited'] = True\n",
    "    current_point = gdf_edge_points.loc[closest_point_name]\n",
    "    if np.all(gdf_edge_points['visited']):\n",
    "        break\n",
    "    closest_point_name = closest_unvisited_edge_point_name(current_point.geometry)\n",
    "    tour.append(gdf_edge_points.loc[closest_point_name,'geometry'])\n",
    "    gdf_edge_points.loc[closest_point_name,'visited'] = True\n",
    "    current_point = gdf_edge_points.loc[closest_point_name]\n",
    "    if np.all(gdf_edge_points['visited']):\n",
    "        break\n",
    "    \n",
    "tour"
   ]
  },
  {
   "cell_type": "code",
   "execution_count": 80,
   "metadata": {},
   "outputs": [
    {
     "data": {
      "image/svg+xml": [
       "<svg xmlns=\"http://www.w3.org/2000/svg\" xmlns:xlink=\"http://www.w3.org/1999/xlink\" width=\"132.19006103702122\" height=\"197.93029680510517\" viewBox=\"256412.05681854053 325539.08375054854 132.19006103702122 197.93029680510517\" preserveAspectRatio=\"xMinYMin meet\"><g transform=\"matrix(1,0,0,-1,0,651276.0977979022)\"><polyline fill=\"none\" stroke=\"#66cc99\" stroke-width=\"2.0\" points=\"256493.83000000002,325710.31 256486.27489370547,325729.68329562014 256493.83000000002,325710.31 256506.47719949894,325694.38935711014 256511.96293168305,325698.01444481994 256493.83000000002,325710.31 256480.14525354066,325728.65164741187 256470.0955230119,325720.92439818906 256481.9428552525,325702.61317152873 256489.51555690847,325681.0839224346 256482.6517067419,325677.2219921446 256470.86212573946,325695.4439585402 256452.0177160507,325708.85450340336 256442.76514126713,325706.37931907596 256456.0434844835,325685.85632306547 256473.50401200596,325664.84291629214 256471.70430149403,325655.3193608675 256448.45299610664,325657.5238777843 256427.80745447578,325659.7171105691 256425.73406539965,325664.6491584801 256448.72,325660.34 256469.456134832,325650.5019616892 256471.04953466236,325639.66416933795 256446.97607723856,325641.946636634 256425.73751518238,325643.7305362509 256426.15963007224,325638.2961571313 256446.44758855653,325636.3726028645 256470.1413542363,325629.5483359725 256466.48472479265,325602.210514223 256443.41596681986,325604.3977233433 256422.9066908289,325608.2314244748 256419.38757027406,325604.3854506785 256443.20073640865,325602.1276622786 256462.66081360984,325594.4787865938 256467.41788358102,325592.6726834955 256478.96357072747,325573.52888024354 256489.47052655218,325556.12974742113 256497.19328388397,325559.9501860579 256486.32597814762,325577.96917100495 256478.27351164995,325597.88423360576 256471.49769326916,325597.41995326197 256484.05467068515,325576.59933842625 256502.74915585775,325559.2620175971 256516.3898382766,325570.55892690876 256505.09410379623,325589.2882858231 256495.1349160499,325611.6759821048 256500.06699291343,325613.12932429434 256511.95247088774,325593.4250899335 256521.53083107746,325575.1680253849 256526.14369170918,325578.00483977183 256514.58000000002,325595.01 256506.73405627054,325613.9085748399 256511.7593718521,325616.86709555093 256514.58000000002,325595.01 256533.38532103202,325584.8228982925 256536.91612784402,325594.8089442703 256514.58000000002,325595.01 256484.92986664275,325603.5245524494 256462.58537660752,325588.0953490334 256442.05485389745,325590.0419014472 256419.5168163422,325588.9506242957 256419.6929736829,325578.5569647512 256441.08000000002,325579.76 256437.84935754264,325549.62217990414 256442.84313759807,325546.41450228204 256446.76,325568.78 256420.6535387699,325599.388856337 256422.9776322337,325616.1167709112 256444.33508891216,325614.0918147307 256424.15293652454,325633.3586120023 256426.20148524168,325653.0104668347 256447.83063410505,325650.9597508094 256425.73071278754,325669.8496891714 256429.31159922705,325677.6274101902 256451.70385022144,325671.79413472104 256436.87389158303,325694.10651553096 256433.68206539846,325689.92109790817 256454.9806278952,325684.372732888 256464.2678287188,325719.55817346874 256502.6344341885,325729.1743696216 256493.83000000002,325710.31 256515.97674504918,325703.79291675094 256514.04624416327,325716.8528306356 256493.83000000002,325710.31 256513.13968190234,325724.7483883746 256429.969949413,325683.7338106681 256453.23533983206,325677.6730787102 256519.22389274687,325615.35425485455 256529.93310472445,325611.889832804 256514.58000000002,325595.01 256535.22853746463,325600.4298228888 256532.1699698087,325605.6698366344 256514.58000000002,325595.01 256485.27745051868,325548.4653855297 256478.63500240492,325547.28200874105 256467.11511227535,325566.3830381841 256426.0848950806,325558.44278029504 256420.99365758404,325567.8937711126\" opacity=\"0.8\" /></g></svg>"
      ],
      "text/plain": [
       "<LINESTRING (256493.83 325710.31, 256486.275 325729.683, 256493.83 325710.31...>"
      ]
     },
     "execution_count": 80,
     "metadata": {},
     "output_type": "execute_result"
    }
   ],
   "source": [
    "tour_line = LineString(tour)\n",
    "tour_line"
   ]
  },
  {
   "cell_type": "code",
   "execution_count": 95,
   "metadata": {},
   "outputs": [
    {
     "data": {
      "text/plain": [
       "2075.0781950522196"
      ]
     },
     "execution_count": 95,
     "metadata": {},
     "output_type": "execute_result"
    }
   ],
   "source": [
    "tour_line.length"
   ]
  },
  {
   "cell_type": "code",
   "execution_count": 81,
   "metadata": {},
   "outputs": [
    {
     "data": {
      "text/plain": [
       "<Axes: >"
      ]
     },
     "execution_count": 81,
     "metadata": {},
     "output_type": "execute_result"
    },
    {
     "data": {
      "image/png": "[encoded data removed]",
      "text/plain": [
       "<Figure size 640x480 with 1 Axes>"
      ]
     },
     "metadata": {},
     "output_type": "display_data"
    }
   ],
   "source": [
    "ax = edge_points.plot()\n",
    "selected_roads.plot(ax=ax)\n",
    "gdf_tour = gpd.GeoDataFrame(geometry=[tour_line])\n",
    "gdf_tour.plot(ax=ax,color='red')"
   ]
  },
  {
   "cell_type": "code",
   "execution_count": 82,
   "metadata": {},
   "outputs": [],
   "source": [
    "gdf_tour.crs = 'EPSG:27700'\n",
    "gdf_tour_gps = gdf_tour.to_crs('EPSG:4326')"
   ]
  },
  {
   "cell_type": "code",
   "execution_count": 83,
   "metadata": {},
   "outputs": [],
   "source": [
    "gdf_tour.to_file('tour.shp')"
   ]
  },
  {
   "cell_type": "code",
   "execution_count": 84,
   "metadata": {},
   "outputs": [],
   "source": [
    "gdf_tour_gps.to_file('tour_gps.shp')"
   ]
  },
  {
   "cell_type": "code",
   "execution_count": 85,
   "metadata": {},
   "outputs": [],
   "source": [
    "from pymavlink.mavwp import MAVWPLoader\n",
    "from pymavlink.dialects.v20.common import MAVLink_mission_item_int_message, MAV_CMD_NAV_TAKEOFF, MAV_CMD_NAV_LAND"
   ]
  },
  {
   "cell_type": "code",
   "execution_count": 86,
   "metadata": {},
   "outputs": [
    {
     "data": {
      "text/plain": [
       "(-4.130526183201807, 52.80978933428733)"
      ]
     },
     "execution_count": 86,
     "metadata": {},
     "output_type": "execute_result"
    }
   ],
   "source": [
    "gdf_tour_gps['geometry'][0].coords[0]"
   ]
  },
  {
   "cell_type": "code",
   "execution_count": 91,
   "metadata": {},
   "outputs": [],
   "source": [
    "alt = 20\n",
    "alt_frame = 3\n",
    "wp = MAVWPLoader()\n",
    "takeoff_cmd = MAVLink_mission_item_int_message(\n",
    "            1, # wp.target_system,\n",
    "            1, # wp.target_component,\n",
    "            0, # wp.seq,\n",
    "            alt_frame, # wp.frame,\n",
    "            MAV_CMD_NAV_TAKEOFF, # wp.command,\n",
    "            0, # wp.current,\n",
    "            1, # wp.autocontinue,\n",
    "            0, # wp.param1,\n",
    "            0, # wp.param2,\n",
    "            0, # wp.param3,\n",
    "            0, # wp.param4,\n",
    "            0, # int(wp.x*1.0e7),\n",
    "            0, # int(wp.y*1.0e7),\n",
    "            alt) # wp.z\n",
    "wp.add(takeoff_cmd)\n",
    "wp.add(takeoff_cmd)"
   ]
  },
  {
   "cell_type": "code",
   "execution_count": 92,
   "metadata": {},
   "outputs": [],
   "source": [
    "for pt in gdf_tour_gps['geometry'][0].coords:\n",
    "    wp.add_latlonalt(pt[1],pt[0],20.0)"
   ]
  },
  {
   "cell_type": "code",
   "execution_count": 93,
   "metadata": {},
   "outputs": [],
   "source": [
    "land_cmd = MAVLink_mission_item_int_message(\n",
    "            1, # wp.target_system,\n",
    "            1, # wp.target_component,\n",
    "            0, # wp.seq,\n",
    "            alt_frame, # wp.frame,\n",
    "            MAV_CMD_NAV_LAND, # wp.command,\n",
    "            0, # wp.current,\n",
    "            1, # wp.autocontinue,\n",
    "            0, # wp.param1,\n",
    "            0, # wp.param2,\n",
    "            0, # wp.param3,\n",
    "            0, # wp.param4,\n",
    "            gdf_tour_gps['geometry'][0].coords[0][1], # int(wp.x*1.0e7), lat\n",
    "            gdf_tour_gps['geometry'][0].coords[0][0], # int(wp.y*1.0e7), lon\n",
    "            0) # wp.z\n",
    "wp.add(land_cmd)"
   ]
  },
  {
   "cell_type": "code",
   "execution_count": 94,
   "metadata": {},
   "outputs": [],
   "source": [
    "    \n",
    "file_name = 'mission.txt'\n",
    "wp.save(file_name)"
   ]
  }
 ],
 "metadata": {
  "kernelspec": {
   "display_name": "Python 3",
   "language": "python",
   "name": "python3"
  },
  "language_info": {
   "codemirror_mode": {
    "name": "ipython",
    "version": 3
   },
   "file_extension": ".py",
   "mimetype": "text/x-python",
   "name": "python",
   "nbconvert_exporter": "python",
   "pygments_lexer": "ipython3",
   "version": "3.10.11"
  }
 },
 "nbformat": 4,
 "nbformat_minor": 2
}
